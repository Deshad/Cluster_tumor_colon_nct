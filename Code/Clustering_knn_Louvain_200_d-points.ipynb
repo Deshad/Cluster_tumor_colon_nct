{
 "cells": [
  {
   "cell_type": "code",
   "execution_count": 73,
   "metadata": {},
   "outputs": [],
   "source": [
    "#Use Gmm"
   ]
  },
  {
   "cell_type": "code",
   "execution_count": 74,
   "metadata": {},
   "outputs": [
    {
     "name": "stdout",
     "output_type": "stream",
     "text": [
      "Requirement already satisfied: h5py in /opt/anaconda3/lib/python3.7/site-packages (2.10.0)\n",
      "Requirement already satisfied: numpy>=1.7 in /opt/anaconda3/lib/python3.7/site-packages (from h5py) (1.21.6)\n",
      "Requirement already satisfied: six in /opt/anaconda3/lib/python3.7/site-packages (from h5py) (1.14.0)\n",
      "\u001b[33mDEPRECATION: pyodbc 4.0.0-unsupported has a non-standard version number. pip 24.1 will enforce this behaviour change. A possible replacement is to upgrade to a newer version of pyodbc or contact the author to suggest that they release a version with a conforming version number. Discussion can be found at https://github.com/pypa/pip/issues/12063\u001b[0m\u001b[33m\n",
      "\u001b[0m"
     ]
    }
   ],
   "source": [
    "!pip install h5py"
   ]
  },
  {
   "cell_type": "code",
   "execution_count": 75,
   "metadata": {},
   "outputs": [
    {
     "name": "stdout",
     "output_type": "stream",
     "text": [
      "Requirement already satisfied: scikit-network in /opt/anaconda3/lib/python3.7/site-packages (0.28.2)\n",
      "Requirement already satisfied: numpy>=1.21.0 in /opt/anaconda3/lib/python3.7/site-packages (from scikit-network) (1.21.6)\n",
      "Requirement already satisfied: scipy>=1.7.3 in /opt/anaconda3/lib/python3.7/site-packages (from scikit-network) (1.7.3)\n",
      "\u001b[33mDEPRECATION: pyodbc 4.0.0-unsupported has a non-standard version number. pip 24.1 will enforce this behaviour change. A possible replacement is to upgrade to a newer version of pyodbc or contact the author to suggest that they release a version with a conforming version number. Discussion can be found at https://github.com/pypa/pip/issues/12063\u001b[0m\u001b[33m\n",
      "\u001b[0m"
     ]
    }
   ],
   "source": [
    "!pip install scikit-network\n"
   ]
  },
  {
   "cell_type": "code",
   "execution_count": 76,
   "metadata": {},
   "outputs": [
    {
     "name": "stdout",
     "output_type": "stream",
     "text": [
      "Requirement already satisfied: pickle-mixin in /opt/anaconda3/lib/python3.7/site-packages (1.0.2)\n",
      "\u001b[33mDEPRECATION: pyodbc 4.0.0-unsupported has a non-standard version number. pip 24.1 will enforce this behaviour change. A possible replacement is to upgrade to a newer version of pyodbc or contact the author to suggest that they release a version with a conforming version number. Discussion can be found at https://github.com/pypa/pip/issues/12063\u001b[0m\u001b[33m\n",
      "\u001b[0mRequirement already satisfied: plotly in /opt/anaconda3/lib/python3.7/site-packages (5.18.0)\n",
      "Requirement already satisfied: tenacity>=6.2.0 in /opt/anaconda3/lib/python3.7/site-packages (from plotly) (8.2.3)\n",
      "Requirement already satisfied: packaging in /opt/anaconda3/lib/python3.7/site-packages (from plotly) (20.1)\n",
      "Requirement already satisfied: pyparsing>=2.0.2 in /opt/anaconda3/lib/python3.7/site-packages (from packaging->plotly) (2.4.6)\n",
      "Requirement already satisfied: six in /opt/anaconda3/lib/python3.7/site-packages (from packaging->plotly) (1.14.0)\n",
      "\u001b[33mDEPRECATION: pyodbc 4.0.0-unsupported has a non-standard version number. pip 24.1 will enforce this behaviour change. A possible replacement is to upgrade to a newer version of pyodbc or contact the author to suggest that they release a version with a conforming version number. Discussion can be found at https://github.com/pypa/pip/issues/12063\u001b[0m\u001b[33m\n",
      "\u001b[0m"
     ]
    }
   ],
   "source": [
    "!pip install pickle-mixin\n",
    "!pip install plotly"
   ]
  },
  {
   "cell_type": "code",
   "execution_count": 108,
   "metadata": {},
   "outputs": [],
   "source": [
    "import h5py\n",
    "import numpy as np\n",
    "import pickle\n",
    "import plotly.graph_objects as go\n",
    "import random\n",
    "import pandas as pd\n"
   ]
  },
  {
   "cell_type": "code",
   "execution_count": 78,
   "metadata": {},
   "outputs": [],
   "source": [
    "from sklearn.cluster import KMeans\n",
    "from sklearn.mixture import GaussianMixture\n",
    "from sklearn.cluster import AgglomerativeClustering\n",
    "from sknetwork.clustering import Louvain\n",
    "#to create Adjacency matrix for  Louvain clustering\n",
    "from sklearn.metrics import pairwise_distances \n",
    "from sklearn.preprocessing import MinMaxScaler\n",
    "import matplotlib.pyplot as plt\n",
    "from sklearn.metrics import silhouette_score, v_measure_score\n",
    "from sklearn.model_selection import KFold, train_test_split"
   ]
  },
  {
   "cell_type": "code",
   "execution_count": 109,
   "metadata": {},
   "outputs": [],
   "source": [
    "#paths of all the data files\n",
    "pge_path = 'colon_nct_feature/pge_dim_reduced_feature.h5'\n",
    "resnet50_path = 'colon_nct_feature/resnet50_dim_reduced_feature.h5'\n",
    "inceptionv3_path = 'colon_nct_feature/inceptionv3_dim_reduced_feature.h5'\n",
    "vgg16_path = 'colon_nct_feature/vgg16_dim_reduced_feature.h5'\n",
    "\n"
   ]
  },
  {
   "cell_type": "code",
   "execution_count": 110,
   "metadata": {},
   "outputs": [],
   "source": [
    "#reading all the datafiles\n",
    "pge_content = h5py.File(pge_path, mode='r')\n",
    "resnet50_content = h5py.File(resnet50_path, mode='r')\n",
    "inceptionv3_content = h5py.File(inceptionv3_path, mode='r')\n",
    "vgg16_content = h5py.File(vgg16_path, mode='r')"
   ]
  },
  {
   "cell_type": "code",
   "execution_count": 111,
   "metadata": {},
   "outputs": [
    {
     "name": "stdout",
     "output_type": "stream",
     "text": [
      "\n",
      "file_name\n",
      "\n",
      "pca_feature\n",
      "\n",
      "umap_feature\n"
     ]
    }
   ],
   "source": [
    "#printing attributes of dataset\n",
    "def print_attrs(name, obj):\n",
    "    print(f\"\\n{name}\")\n",
    "    for attr_name, attr_value in obj.attrs.items():\n",
    "        print(f\"  Attribute - {attr_name}: {attr_value}\")\n",
    "\n",
    "pge_content.visititems(print_attrs)"
   ]
  },
  {
   "cell_type": "code",
   "execution_count": 112,
   "metadata": {},
   "outputs": [
    {
     "data": {
      "text/plain": [
       "<HDF5 dataset \"pca_feature\": shape (5000, 100), type \"<f4\">"
      ]
     },
     "execution_count": 112,
     "metadata": {},
     "output_type": "execute_result"
    }
   ],
   "source": [
    "pge_content['pca_feature']"
   ]
  },
  {
   "cell_type": "code",
   "execution_count": 113,
   "metadata": {},
   "outputs": [
    {
     "data": {
      "text/plain": [
       "<HDF5 dataset \"file_name\": shape (5000,), type \"|O\">"
      ]
     },
     "execution_count": 113,
     "metadata": {},
     "output_type": "execute_result"
    }
   ],
   "source": [
    "pge_content['file_name']"
   ]
  },
  {
   "cell_type": "code",
   "execution_count": 114,
   "metadata": {},
   "outputs": [
    {
     "data": {
      "text/plain": [
       "array([[-3.0926747e+00,  1.1020627e+00, -7.4318394e-02, ...,\n",
       "         1.9986156e-02,  8.4324218e-02, -4.1100543e-02],\n",
       "       [-3.4460149e+00,  1.7983061e+00, -9.0485513e-01, ...,\n",
       "        -1.0090529e-01, -1.6424106e-02, -2.8848931e-02],\n",
       "       [-3.7669258e+00,  2.7572019e+00, -2.0083770e-01, ...,\n",
       "         1.8441271e-02,  8.5952744e-02, -3.0304456e-02],\n",
       "       ...,\n",
       "       [ 4.2488699e+00,  5.1506352e+00, -2.7983534e-01, ...,\n",
       "        -6.5788500e-02,  8.6044157e-03, -6.1421674e-02],\n",
       "       [ 1.6042002e+00, -1.6147038e+00,  1.5758495e+00, ...,\n",
       "        -6.0373917e-02, -5.2043803e-02, -8.2069546e-02],\n",
       "       [ 2.6385751e+00, -9.8035985e-01, -1.0775021e+00, ...,\n",
       "        -8.8430906e-04, -3.1492118e-02, -4.3888927e-02]], dtype=float32)"
      ]
     },
     "execution_count": 114,
     "metadata": {},
     "output_type": "execute_result"
    }
   ],
   "source": [
    "pge_content['pca_feature'][...]"
   ]
  },
  {
   "cell_type": "code",
   "execution_count": 115,
   "metadata": {},
   "outputs": [
    {
     "data": {
      "text/plain": [
       "array(['coad_nct_images/NCT-CRC-HE-100K/ADI/ADI-AAGQKKEG.tif',\n",
       "       'coad_nct_images/NCT-CRC-HE-100K/ADI/ADI-AAVHMEVH.tif',\n",
       "       'coad_nct_images/NCT-CRC-HE-100K/ADI/ADI-AAVISFAG.tif', ...,\n",
       "       'coad_nct_images/NCT-CRC-HE-100K/TUM/TUM-YWVCKIIG.tif',\n",
       "       'coad_nct_images/NCT-CRC-HE-100K/TUM/TUM-YYGPFNTH.tif',\n",
       "       'coad_nct_images/NCT-CRC-HE-100K/TUM/TUM-YYRCFCFC.tif'],\n",
       "      dtype=object)"
      ]
     },
     "execution_count": 115,
     "metadata": {},
     "output_type": "execute_result"
    }
   ],
   "source": [
    "pge_content['file_name'][...]"
   ]
  },
  {
   "cell_type": "code",
   "execution_count": 116,
   "metadata": {},
   "outputs": [],
   "source": [
    "#PCA feature reduction\n",
    "#slicing pca array using ellipsis\n",
    "\n",
    "pge_pca_feature  = pge_content['pca_feature'][...]\n",
    "resnet50_pca_feature  = resnet50_content['pca_feature'][...]\n",
    "inceptionv3_pca_feature = inceptionv3_content['pca_feature'][...]\n",
    "vgg16_pca_feature  = vgg16_content['pca_feature'][...]"
   ]
  },
  {
   "cell_type": "code",
   "execution_count": 117,
   "metadata": {},
   "outputs": [
    {
     "data": {
      "text/plain": [
       "array([[ -90.864815 ,  107.03243  ,  116.16385  , ...,    8.259951 ,\n",
       "          -1.1383446,   -9.175951 ],\n",
       "       [ -74.06226  ,  117.31615  ,   95.24547  , ...,   -1.9739974,\n",
       "           6.8172655,    4.2547903],\n",
       "       [ -81.875336 ,  122.84872  ,   83.767784 , ...,   -1.3287221,\n",
       "          13.65623  ,  -11.109545 ],\n",
       "       ...,\n",
       "       [  32.70835  ,   31.183935 ,  -47.30978  , ...,    4.2004256,\n",
       "           3.599823 ,    6.0058775],\n",
       "       [ -39.911785 , -105.81029  ,  122.37118  , ...,  -14.908715 ,\n",
       "          -1.1814455,  -10.837135 ],\n",
       "       [  32.35425  ,  -50.3373   ,   66.50197  , ...,   -3.859397 ,\n",
       "          -1.047523 ,    2.3827858]], dtype=float32)"
      ]
     },
     "execution_count": 117,
     "metadata": {},
     "output_type": "execute_result"
    }
   ],
   "source": [
    "vgg16_pca_feature\n"
   ]
  },
  {
   "cell_type": "code",
   "execution_count": 118,
   "metadata": {},
   "outputs": [],
   "source": [
    "#UMAP feature \n",
    "#slicing umap array using ellipsis\n",
    "pge_umap_feature  = pge_content['umap_feature'][...]\n",
    "resnet50_umap_feature = resnet50_content['umap_feature'][...]\n",
    "inceptionv3_umap_feature  = inceptionv3_content['umap_feature'][...]\n",
    "vgg16_umap_feature  = vgg16_content['umap_feature'][...]"
   ]
  },
  {
   "cell_type": "code",
   "execution_count": 119,
   "metadata": {},
   "outputs": [
    {
     "data": {
      "text/plain": [
       "array([[2.8371696, 9.671647 , 1.7483774, ..., 6.9352465, 3.2586782,\n",
       "        5.000538 ],\n",
       "       [2.7618659, 9.815611 , 1.5188676, ..., 6.938818 , 3.2662938,\n",
       "        4.993065 ],\n",
       "       [2.7637074, 9.743539 , 1.6079258, ..., 6.934657 , 3.2590747,\n",
       "        5.000638 ],\n",
       "       ...,\n",
       "       [8.816553 , 3.5793009, 8.279579 , ..., 6.9905086, 3.2961462,\n",
       "        4.975427 ],\n",
       "       [9.465635 , 4.5107503, 9.333753 , ..., 6.892492 , 3.2013223,\n",
       "        4.9684014],\n",
       "       [9.303657 , 4.0780463, 8.855316 , ..., 6.934647 , 3.2406738,\n",
       "        4.966186 ]], dtype=float32)"
      ]
     },
     "execution_count": 119,
     "metadata": {},
     "output_type": "execute_result"
    }
   ],
   "source": [
    "vgg16_umap_feature"
   ]
  },
  {
   "cell_type": "code",
   "execution_count": 120,
   "metadata": {},
   "outputs": [
    {
     "name": "stdout",
     "output_type": "stream",
     "text": [
      "['ADI' 'ADI' 'ADI' ... 'TUM' 'TUM' 'TUM'] 5000\n"
     ]
    }
   ],
   "source": [
    "#tissue type as available ground-truth: labels\n",
    "filename  = np.squeeze(pge_content['file_name'])\n",
    "filename = np.array([str(x) for x in filename])\n",
    "labels = np.array([x.split('/')[2] for x in filename])\n",
    "print(labels,len(labels))"
   ]
  },
  {
   "cell_type": "code",
   "execution_count": 123,
   "metadata": {},
   "outputs": [
    {
     "name": "stdout",
     "output_type": "stream",
     "text": [
      "Labels shape: (5000,)\n"
     ]
    }
   ],
   "source": [
    "\n",
    "print(f\"Labels shape: {labels.shape}\")"
   ]
  },
  {
   "cell_type": "code",
   "execution_count": 91,
   "metadata": {},
   "outputs": [],
   "source": [
    "#taking random 200 samples for clustering\n",
    "\n",
    "random.seed(0)\n",
    "selected_index = random.sample(list(np.arange(len(pge_pca_feature))), 200)"
   ]
  },
  {
   "cell_type": "code",
   "execution_count": 92,
   "metadata": {},
   "outputs": [
    {
     "name": "stdout",
     "output_type": "stream",
     "text": [
      "200 [3155, 3445, 331, 2121, 4188, 3980, 3317, 2484, 3904, 2933, 4779, 1789, 4134, 1140, 2308, 1144, 776, 2052, 4362, 4930, 1203, 2540, 809, 604, 2704, 3867, 4585, 824, 2898, 3556, 2590, 1675, 4526, 3907, 3626, 4270, 2133, 510, 4494, 115, 764, 3267, 9, 4043, 2729, 1998, 2664, 515, 1565, 4649, 1816, 1954, 1167, 4448, 3669, 747, 659, 2621, 4161, 4008, 893, 2469, 4515, 2384, 1022, 4484, 2725, 4426, 1664, 4941, 4482, 4813, 2356, 3645, 750, 4884, 3153, 2597, 4715, 1983, 2378, 1506, 1551, 1529, 270, 2130, 3903, 565, 735, 1066, 1225, 316, 657, 4428, 3205, 4297, 2257, 4274, 1929, 1762, 4831, 3435, 4748, 2254, 3691, 4035, 2927, 674, 2656, 944, 3984, 4809, 2746, 1559, 1990, 132, 2220, 959, 1806, 3047, 1396, 2724, 3490, 509, 1198, 1792, 370, 4701, 4376, 4932, 606, 218, 1019, 1544, 4967, 4718, 980, 3204, 749, 3032, 950, 298, 4960, 177, 1594, 1515, 1014, 3925, 1725, 500, 186, 4458, 3486, 831, 2129, 573, 1809, 589, 2466, 2869, 3572, 1477, 4125, 3826, 322, 4886, 826, 1633, 2131, 2937, 3852, 4667, 1387, 1666, 475, 1296, 1326, 2804, 4337, 2053, 960, 4888, 3623, 1432, 108, 3863, 3357, 4662, 4166, 2551, 2925, 3183, 2055, 1256, 4592, 101, 3751, 647, 2751, 374]\n"
     ]
    }
   ],
   "source": [
    "print(len(selected_index),selected_index)"
   ]
  },
  {
   "cell_type": "code",
   "execution_count": 93,
   "metadata": {},
   "outputs": [],
   "source": [
    "test_data = pge_pca_feature[selected_index]\n",
    "test_label = labels[selected_index]"
   ]
  },
  {
   "cell_type": "code",
   "execution_count": 94,
   "metadata": {},
   "outputs": [
    {
     "name": "stdout",
     "output_type": "stream",
     "text": [
      "5000\n"
     ]
    }
   ],
   "source": [
    "print(len(pge_pca_feature))"
   ]
  },
  {
   "cell_type": "code",
   "execution_count": 95,
   "metadata": {},
   "outputs": [],
   "source": [
    "#Creatin g dictionary of all the datasets\n",
    "datasets = {\n",
    "    'pge_pca': pge_pca_feature,\n",
    "    'resnet50_pca': resnet50_pca_feature,\n",
    "    'inceptionv3_pca': inceptionv3_pca_feature,\n",
    "    'vgg16_pca': vgg16_pca_feature,\n",
    "    'pge_umap': pge_umap_feature,\n",
    "    'resnet50_umap': resnet50_umap_feature,\n",
    "    'inceptionv3_umap': inceptionv3_umap_feature,\n",
    "    'vgg16_umap': vgg16_umap_feature\n",
    "}"
   ]
  },
  {
   "cell_type": "code",
   "execution_count": 96,
   "metadata": {},
   "outputs": [],
   "source": [
    "# labels ( common across all datasets)\n",
    "random.seed(0)\n",
    "selected_index = random.sample(list(np.arange(len(pge_pca_feature))), 200)#200 points\n",
    "test_label = labels[selected_index]\n",
    "\n",
    "results = {}\n"
   ]
  },
  {
   "cell_type": "code",
   "execution_count": null,
   "metadata": {},
   "outputs": [],
   "source": []
  },
  {
   "cell_type": "code",
   "execution_count": null,
   "metadata": {},
   "outputs": [],
   "source": []
  },
  {
   "cell_type": "code",
   "execution_count": 97,
   "metadata": {},
   "outputs": [
    {
     "data": {
      "application/vnd.plotly.v1+json": {
       "config": {
        "plotlyServerURL": "https://plot.ly"
       },
       "data": [
        {
         "marker": {
          "opacity": 0.8,
          "size": 4
         },
         "mode": "markers",
         "name": "ADI",
         "type": "scatter3d",
         "x": [
          -2.80910325050354,
          -3.5107946395874023,
          -2.540876626968384,
          -2.466106414794922,
          -0.4942999482154846,
          -2.5766615867614746,
          -2.515319347381592,
          -2.4500153064727783,
          -3.4240779876708984,
          -2.6738908290863037,
          -2.4760935306549072,
          -3.14597749710083,
          -2.6527116298675537,
          -2.2297441959381104,
          -2.20523738861084,
          -2.8100199699401855,
          -2.110729455947876,
          -1.0982666015625,
          -2.482320547103882,
          -2.7989208698272705
         ],
         "y": [
          1.641084909439087,
          2.095238447189331,
          0.6980736255645752,
          1.1305599212646484,
          0.29047855734825134,
          -0.0504959337413311,
          0.9154621362686157,
          1.9379597902297974,
          1.223361611366272,
          1.4871126413345337,
          1.0783816576004028,
          1.2370116710662842,
          0.7089271545410156,
          0.9724736213684082,
          0.4453190267086029,
          1.3596603870391846,
          0.9256184101104736,
          -0.7673229575157166,
          1.21478271484375,
          1.0915733575820923
         ],
         "z": [
          -1.6792036294937134,
          -1.1832021474838257,
          -1.9788157939910889,
          -1.9436942338943481,
          -0.46169668436050415,
          -1.2491406202316284,
          -1.8460683822631836,
          -0.769687294960022,
          -0.5930798053741455,
          -1.4590485095977783,
          -1.2425991296768188,
          -0.31574583053588867,
          -1.342515468597412,
          -1.4953522682189941,
          -2.531210422515869,
          -0.9483823776245117,
          -1.1083091497421265,
          -2.3734583854675293,
          -1.7588921785354614,
          -1.43263578414917
         ]
        },
        {
         "marker": {
          "opacity": 0.8,
          "size": 4
         },
         "mode": "markers",
         "name": "BACK",
         "type": "scatter3d",
         "x": [
          -2.8042843341827393,
          0.8385344743728638,
          -3.437290668487549,
          -3.1348464488983154,
          0.7314002513885498,
          -2.147923469543457,
          -2.3230206966400146,
          -0.8257145881652832,
          -2.785698413848877,
          -2.7182464599609375,
          -2.6656105518341064,
          -1.7403383255004883,
          -0.1851545125246048,
          -3.2624528408050537,
          0.560878574848175,
          -2.000267267227173,
          -3.39613938331604,
          -2.7366838455200195,
          -2.9919610023498535,
          -1.9951847791671753,
          -3.4248368740081787,
          -3.0863757133483887,
          -3.438183307647705,
          -1.8699625730514526,
          -3.074002504348755,
          -2.666363000869751,
          -3.3237197399139404,
          -2.7485477924346924,
          -2.129458427429199
         ],
         "y": [
          -1.3386635780334473,
          -0.44277986884117126,
          -0.34917590022087097,
          -0.5737688541412354,
          0.202111154794693,
          3.0612497329711914,
          -0.7469519376754761,
          2.140403985977173,
          -0.5729371905326843,
          -0.6371952891349792,
          -1.3187475204467773,
          2.8922226428985596,
          -1.3877997398376465,
          -0.27803394198417664,
          3.135702610015869,
          2.0205066204071045,
          -0.3462461531162262,
          -1.1293288469314575,
          -0.0914870873093605,
          2.5647084712982178,
          0.3548954129219055,
          -0.2342482954263687,
          0.2809958755970001,
          4.790000915527344,
          0.486345112323761,
          0.07931797206401825,
          0.17615391314029694,
          -0.15286961197853088,
          -0.0032860920764505863
         ],
         "z": [
          -1.5004860162734985,
          -2.9620444774627686,
          0.3747452199459076,
          -0.6676859855651855,
          -0.4262874722480774,
          0.03439986705780029,
          -1.244189739227295,
          -0.5851277112960815,
          0.4523427486419678,
          0.21515953540802002,
          -0.5012557506561279,
          -0.2700692415237427,
          -2.6020498275756836,
          0.1898866891860962,
          0.6878861784934998,
          -1.1515488624572754,
          -0.06945113092660904,
          -0.5515846610069275,
          0.4076254665851593,
          -0.2179465889930725,
          0.7451879978179932,
          0.0441930815577507,
          0.23133385181427002,
          -0.3493310809135437,
          -0.12264461815357208,
          0.1522737592458725,
          0.2922041118144989,
          0.6666591167449951,
          0.6146443486213684
         ]
        },
        {
         "marker": {
          "opacity": 0.8,
          "size": 4
         },
         "mode": "markers",
         "name": "DEB",
         "type": "scatter3d",
         "x": [
          -0.949601411819458,
          -0.653144359588623,
          -0.992447555065155,
          -2.0278947353363037,
          2.670332193374634,
          -0.1636441946029663,
          1.5869381427764893,
          -0.4948872923851013,
          -1.5119367837905884,
          1.3880749940872192,
          -1.1581059694290161,
          4.438055515289307,
          -1.115469217300415,
          -2.431694269180298,
          -2.2375295162200928,
          -1.995535135269165,
          1.7805414199829102,
          -1.1487576961517334,
          0.12503202259540558,
          -2.0510294437408447,
          2.1888651847839355
         ],
         "y": [
          -1.74832022190094,
          -1.7916929721832275,
          -1.6330013275146484,
          -1.2618733644485474,
          -0.2304566353559494,
          -0.9714247584342957,
          -0.15573427081108093,
          -2.148298501968384,
          0.20254573225975037,
          1.719498872756958,
          -0.7978692650794983,
          -1.0995359420776367,
          -1.5374306440353394,
          -0.446001797914505,
          -1.486035943031311,
          -1.3105318546295166,
          6.373378753662109,
          -1.0548309087753296,
          -2.0928399562835693,
          -1.0958093404769897,
          0.5248071551322937
         ],
         "z": [
          0.6196725368499756,
          0.4250074625015259,
          1.6308354139328003,
          0.4354446828365326,
          -0.42151781916618347,
          -1.0496264696121216,
          -0.9445487260818481,
          0.2361324280500412,
          -0.04571620374917984,
          0.7638567686080933,
          1.5331089496612549,
          -0.8454372882843018,
          0.07552725821733475,
          -0.2614552080631256,
          1.3643172979354858,
          1.1603158712387085,
          1.2013646364212036,
          -0.47173166275024414,
          0.8806122541427612,
          0.369162917137146,
          0.1365313082933426
         ]
        },
        {
         "marker": {
          "opacity": 0.8,
          "size": 4
         },
         "mode": "markers",
         "name": "LYM",
         "type": "scatter3d",
         "x": [
          8.317464828491211,
          1.9302431344985962,
          5.693930149078369,
          4.7158355712890625,
          6.5534234046936035,
          6.03725528717041,
          4.379756450653076,
          7.215152263641357,
          5.891232967376709,
          2.568795919418335,
          9.089051246643066,
          7.78715181350708,
          5.944592475891113,
          2.5507049560546875,
          2.358452320098877,
          3.8699355125427246,
          5.171095848083496,
          8.048303604125977,
          3.082335948944092,
          1.5726706981658936,
          5.506684303283691,
          8.415162086486816,
          3.8205440044403076,
          4.755460262298584
         ],
         "y": [
          0.49578890204429626,
          -0.6899961829185486,
          -0.3507034480571747,
          1.3090718984603882,
          0.3216196894645691,
          -0.08638095110654831,
          -0.19609028100967407,
          2.201855182647705,
          0.24356892704963684,
          -1.1731953620910645,
          1.2077538967132568,
          0.6078155636787415,
          4.0083231925964355,
          2.342583656311035,
          -1.2840025424957275,
          -2.078395366668701,
          2.0957047939300537,
          1.2301161289215088,
          -1.6841869354248047,
          -0.6454808712005615,
          0.31266045570373535,
          1.4713590145111084,
          -1.4674891233444214,
          -0.23318402469158173
         ],
         "z": [
          -0.5414592623710632,
          -1.8226772546768188,
          -0.9104019403457642,
          0.41950032114982605,
          0.4398237466812134,
          -0.805705189704895,
          -1.1106138229370117,
          -1.0050157308578491,
          -0.4814695417881012,
          -0.6272109746932983,
          -0.9224023818969727,
          -1.079860806465149,
          -0.2964570224285126,
          0.652327835559845,
          -0.8065783977508545,
          -1.4690663814544678,
          -0.42504778504371643,
          -1.9550151824951172,
          -1.4759832620620728,
          -1.8956828117370605,
          -0.3884112536907196,
          -0.28090932965278625,
          -0.8909381628036499,
          -1.1223649978637695
         ]
        },
        {
         "marker": {
          "opacity": 0.8,
          "size": 4
         },
         "mode": "markers",
         "name": "MUC",
         "type": "scatter3d",
         "x": [
          -2.811310291290283,
          -1.4364233016967773,
          -1.9444092512130737,
          -3.0520989894866943,
          7.311782360076904,
          -2.1481053829193115,
          4.0519328117370605,
          -2.3227415084838867,
          -2.469416618347168,
          -2.1080422401428223,
          0.5912961363792419,
          -2.0037219524383545,
          -0.980537474155426,
          -1.0481783151626587,
          1.956563115119934
         ],
         "y": [
          0.6740286350250244,
          -0.34565263986587524,
          -0.24497665464878082,
          3.142521381378174,
          2.66701340675354,
          0.41702601313591003,
          -0.9423514604568481,
          -0.2540041506290436,
          0.3367685079574585,
          -0.010101006366312504,
          -0.07010903209447861,
          0.16474393010139465,
          0.6430789232254028,
          -0.4632924497127533,
          -0.629684329032898
         ],
         "z": [
          -1.263016939163208,
          0.2728184461593628,
          -1.7957689762115479,
          1.0725940465927124,
          -0.4788314402103424,
          0.6142954230308533,
          2.0309605598449707,
          -0.6366668939590454,
          -0.009603375568985939,
          -0.7294905781745911,
          -0.7601697444915771,
          -1.50285804271698,
          2.508153200149536,
          -1.918059229850769,
          3.2956290245056152
         ]
        },
        {
         "marker": {
          "opacity": 0.8,
          "size": 4
         },
         "mode": "markers",
         "name": "MUS",
         "type": "scatter3d",
         "x": [
          -2.826046943664551,
          -2.545809745788574,
          0.5151179432868958,
          -2.2149829864501953,
          0.907294511795044,
          -2.4368152618408203,
          -1.1363848447799683,
          1.8474656343460083,
          -0.8152084350585938,
          -0.3645562529563904,
          -1.6930421590805054,
          -1.8597511053085327,
          -0.929050087928772,
          -1.482484221458435,
          1.5186933279037476,
          -1.1580017805099487,
          -0.3202328383922577,
          -1.2648730278015137,
          -1.4349876642227173,
          -1.0011721849441528,
          -0.9460918307304382,
          -1.3156172037124634,
          1.5165282487869263,
          -0.8964354395866394
         ],
         "y": [
          -1.067091941833496,
          0.3897300660610199,
          3.1649465560913086,
          -0.05394352599978447,
          0.898815929889679,
          1.427390694618225,
          2.7882919311523438,
          3.5381200313568115,
          -1.5054104328155518,
          -1.1942888498306274,
          -1.7118566036224365,
          0.5798163414001465,
          -1.2957618236541748,
          -1.384553074836731,
          1.3316994905471802,
          1.1737430095672607,
          -0.6555736660957336,
          -1.0392847061157227,
          -0.76240074634552,
          -1.148558259010315,
          -1.3991590738296509,
          -1.2166528701782227,
          -1.9325599670410156,
          -1.6799780130386353
         ],
         "z": [
          1.5014948844909668,
          1.0694074630737305,
          4.4743218421936035,
          0.501203179359436,
          3.9681665897369385,
          -0.38852018117904663,
          2.0195465087890625,
          -0.7053205966949463,
          -1.9089176654815674,
          0.4381464421749115,
          1.8647730350494385,
          1.2740355730056763,
          2.9712226390838623,
          2.2882416248321533,
          3.3144803047180176,
          -0.7376317977905273,
          -2.912081241607666,
          -0.9471005201339722,
          -1.7320901155471802,
          -4.187099456787109,
          0.8555601239204407,
          -2.0876636505126953,
          0.8368980884552002,
          -0.3288414180278778
         ]
        },
        {
         "marker": {
          "opacity": 0.8,
          "size": 4
         },
         "mode": "markers",
         "name": "NORM",
         "type": "scatter3d",
         "x": [
          -0.6603190898895264,
          3.1558170318603516,
          -1.0971190929412842,
          -0.22669823467731476,
          -0.18013377487659454,
          4.254236698150635,
          3.478296995162964,
          4.454375743865967,
          2.961278200149536,
          5.0351738929748535,
          2.226635694503784,
          3.0865349769592285,
          -0.625483512878418
         ],
         "y": [
          5.520968914031982,
          0.9273907542228699,
          1.2149876356124878,
          1.3312077522277832,
          0.2269643247127533,
          -0.9131682515144348,
          -0.5726996660232544,
          1.1185550689697266,
          1.6113225221633911,
          2.2628769874572754,
          1.50869882106781,
          -0.48633378744125366,
          1.7492738962173462
         ],
         "z": [
          0.8663725256919861,
          -0.848366916179657,
          1.5529272556304932,
          0.5130269527435303,
          0.32849955558776855,
          -0.759674072265625,
          -0.7392110228538513,
          0.9640799164772034,
          -0.8865923285484314,
          1.180433750152588,
          -0.6991420984268188,
          0.20462387800216675,
          -0.03885919973254204
         ]
        },
        {
         "marker": {
          "opacity": 0.8,
          "size": 4
         },
         "mode": "markers",
         "name": "STR",
         "type": "scatter3d",
         "x": [
          -1.6992220878601074,
          -2.1843457221984863,
          -0.8840118050575256,
          0.8265144228935242,
          -1.7924840450286865,
          -1.1162184476852417,
          -1.6072357892990112,
          0.44033700227737427,
          -1.5767693519592285,
          -2.118816375732422,
          -1.5423022508621216,
          -1.0166280269622803,
          -1.2150081396102905,
          -0.16175879538059235,
          -0.4319313168525696,
          -2.21907901763916,
          -1.298270583152771,
          -1.0682727098464966
         ],
         "y": [
          -1.9958336353302002,
          0.6414546966552734,
          -1.1497048139572144,
          -1.642641544342041,
          -1.6496585607528687,
          -1.5298842191696167,
          -0.4715363085269928,
          -1.4050674438476562,
          -0.8323615193367004,
          0.026942741125822067,
          -2.4296984672546387,
          -1.125867486000061,
          -1.8682504892349243,
          -1.4609904289245605,
          -1.2910897731781006,
          -0.4727605879306793,
          -1.5226798057556152,
          -1.8274949789047241
         ],
         "z": [
          0.3162650167942047,
          1.7459235191345215,
          1.5335009098052979,
          1.7262014150619507,
          -1.0417574644088745,
          -0.26611796021461487,
          -0.6813101172447205,
          0.4567407965660095,
          0.5321458578109741,
          0.9864225387573242,
          -0.4028305113315582,
          0.08562818169593811,
          0.27913063764572144,
          1.947022557258606,
          -2.1030995845794678,
          1.6492931842803955,
          -0.8635166883468628,
          1.2377198934555054
         ]
        },
        {
         "marker": {
          "opacity": 0.8,
          "size": 4
         },
         "mode": "markers",
         "name": "TUM",
         "type": "scatter3d",
         "x": [
          5.282077789306641,
          3.5683329105377197,
          4.8515167236328125,
          0.7841576933860779,
          5.955626487731934,
          3.5823004245758057,
          4.746068000793457,
          0.34536460041999817,
          3.163618326187134,
          4.240563869476318,
          1.640069603919983,
          3.6987335681915283,
          2.980156421661377,
          -0.5177138447761536,
          1.9616448879241943,
          1.1999833583831787,
          0.1784152388572693,
          3.4881343841552734,
          -0.7874645590782166,
          3.2776334285736084,
          2.682187080383301,
          3.2031800746917725,
          4.555750846862793,
          2.967742443084717,
          3.5071651935577393,
          -0.38065633177757263,
          1.3866370916366577,
          5.726469993591309,
          1.0309338569641113,
          2.49501895904541,
          5.049384593963623,
          0.7600491046905518,
          0.05018305405974388,
          3.0489213466644287,
          0.2961072623729706,
          0.9085349440574646
         ],
         "y": [
          -0.31221577525138855,
          -1.2266201972961426,
          1.5937894582748413,
          -0.11093439161777496,
          2.426994562149048,
          -0.8039520382881165,
          -1.4145723581314087,
          -2.4228954315185547,
          -0.4624347388744354,
          -0.9779943823814392,
          -0.9540731906890869,
          -0.9110185503959656,
          -2.025421380996704,
          -0.4811004400253296,
          0.16412410140037537,
          -1.7087650299072266,
          -2.0290091037750244,
          -0.33475053310394287,
          -1.7365187406539917,
          1.3622560501098633,
          -1.3244907855987549,
          2.7908382415771484,
          -0.6850056648254395,
          -1.1832385063171387,
          0.8240606188774109,
          -2.13202166557312,
          -0.24204504489898682,
          1.8622276782989502,
          0.6859128475189209,
          -1.5948601961135864,
          -1.0344979763031006,
          -1.729380488395691,
          2.5404114723205566,
          -1.6344274282455444,
          -2.6649022102355957,
          -1.8437764644622803
         ],
         "z": [
          -0.45349565148353577,
          1.5863803625106812,
          1.1532440185546875,
          0.6260252594947815,
          -0.608002781867981,
          -0.5616295337677002,
          -0.36129456758499146,
          -0.030400888994336128,
          0.5448715090751648,
          0.23279401659965515,
          1.2286672592163086,
          -0.5922850370407104,
          0.8439737558364868,
          -1.9362295866012573,
          -1.0513967275619507,
          0.9188126921653748,
          0.426249623298645,
          1.6245808601379395,
          0.6412115693092346,
          0.770486056804657,
          2.125746250152588,
          0.9386202096939087,
          -1.4899017810821533,
          -0.05740664526820183,
          2.211939573287964,
          1.3128868341445923,
          1.4493720531463623,
          0.3399445414543152,
          1.000885248184204,
          0.5436438918113708,
          0.46317851543426514,
          0.056854091584682465,
          0.8496703505516052,
          1.04273521900177,
          0.4831208288669586,
          0.4202795624732971
         ]
        }
       ],
       "layout": {
        "scene": {
         "xaxis": {
          "title": {
           "text": "PC1 axis"
          }
         },
         "yaxis": {
          "title": {
           "text": "PC2 axis"
          }
         },
         "zaxis": {
          "title": {
           "text": "PC3 axis"
          }
         }
        },
        "template": {
         "data": {
          "bar": [
           {
            "error_x": {
             "color": "#2a3f5f"
            },
            "error_y": {
             "color": "#2a3f5f"
            },
            "marker": {
             "line": {
              "color": "#E5ECF6",
              "width": 0.5
             },
             "pattern": {
              "fillmode": "overlay",
              "size": 10,
              "solidity": 0.2
             }
            },
            "type": "bar"
           }
          ],
          "barpolar": [
           {
            "marker": {
             "line": {
              "color": "#E5ECF6",
              "width": 0.5
             },
             "pattern": {
              "fillmode": "overlay",
              "size": 10,
              "solidity": 0.2
             }
            },
            "type": "barpolar"
           }
          ],
          "carpet": [
           {
            "aaxis": {
             "endlinecolor": "#2a3f5f",
             "gridcolor": "white",
             "linecolor": "white",
             "minorgridcolor": "white",
             "startlinecolor": "#2a3f5f"
            },
            "baxis": {
             "endlinecolor": "#2a3f5f",
             "gridcolor": "white",
             "linecolor": "white",
             "minorgridcolor": "white",
             "startlinecolor": "#2a3f5f"
            },
            "type": "carpet"
           }
          ],
          "choropleth": [
           {
            "colorbar": {
             "outlinewidth": 0,
             "ticks": ""
            },
            "type": "choropleth"
           }
          ],
          "contour": [
           {
            "colorbar": {
             "outlinewidth": 0,
             "ticks": ""
            },
            "colorscale": [
             [
              0,
              "#0d0887"
             ],
             [
              0.1111111111111111,
              "#46039f"
             ],
             [
              0.2222222222222222,
              "#7201a8"
             ],
             [
              0.3333333333333333,
              "#9c179e"
             ],
             [
              0.4444444444444444,
              "#bd3786"
             ],
             [
              0.5555555555555556,
              "#d8576b"
             ],
             [
              0.6666666666666666,
              "#ed7953"
             ],
             [
              0.7777777777777778,
              "#fb9f3a"
             ],
             [
              0.8888888888888888,
              "#fdca26"
             ],
             [
              1,
              "#f0f921"
             ]
            ],
            "type": "contour"
           }
          ],
          "contourcarpet": [
           {
            "colorbar": {
             "outlinewidth": 0,
             "ticks": ""
            },
            "type": "contourcarpet"
           }
          ],
          "heatmap": [
           {
            "colorbar": {
             "outlinewidth": 0,
             "ticks": ""
            },
            "colorscale": [
             [
              0,
              "#0d0887"
             ],
             [
              0.1111111111111111,
              "#46039f"
             ],
             [
              0.2222222222222222,
              "#7201a8"
             ],
             [
              0.3333333333333333,
              "#9c179e"
             ],
             [
              0.4444444444444444,
              "#bd3786"
             ],
             [
              0.5555555555555556,
              "#d8576b"
             ],
             [
              0.6666666666666666,
              "#ed7953"
             ],
             [
              0.7777777777777778,
              "#fb9f3a"
             ],
             [
              0.8888888888888888,
              "#fdca26"
             ],
             [
              1,
              "#f0f921"
             ]
            ],
            "type": "heatmap"
           }
          ],
          "heatmapgl": [
           {
            "colorbar": {
             "outlinewidth": 0,
             "ticks": ""
            },
            "colorscale": [
             [
              0,
              "#0d0887"
             ],
             [
              0.1111111111111111,
              "#46039f"
             ],
             [
              0.2222222222222222,
              "#7201a8"
             ],
             [
              0.3333333333333333,
              "#9c179e"
             ],
             [
              0.4444444444444444,
              "#bd3786"
             ],
             [
              0.5555555555555556,
              "#d8576b"
             ],
             [
              0.6666666666666666,
              "#ed7953"
             ],
             [
              0.7777777777777778,
              "#fb9f3a"
             ],
             [
              0.8888888888888888,
              "#fdca26"
             ],
             [
              1,
              "#f0f921"
             ]
            ],
            "type": "heatmapgl"
           }
          ],
          "histogram": [
           {
            "marker": {
             "pattern": {
              "fillmode": "overlay",
              "size": 10,
              "solidity": 0.2
             }
            },
            "type": "histogram"
           }
          ],
          "histogram2d": [
           {
            "colorbar": {
             "outlinewidth": 0,
             "ticks": ""
            },
            "colorscale": [
             [
              0,
              "#0d0887"
             ],
             [
              0.1111111111111111,
              "#46039f"
             ],
             [
              0.2222222222222222,
              "#7201a8"
             ],
             [
              0.3333333333333333,
              "#9c179e"
             ],
             [
              0.4444444444444444,
              "#bd3786"
             ],
             [
              0.5555555555555556,
              "#d8576b"
             ],
             [
              0.6666666666666666,
              "#ed7953"
             ],
             [
              0.7777777777777778,
              "#fb9f3a"
             ],
             [
              0.8888888888888888,
              "#fdca26"
             ],
             [
              1,
              "#f0f921"
             ]
            ],
            "type": "histogram2d"
           }
          ],
          "histogram2dcontour": [
           {
            "colorbar": {
             "outlinewidth": 0,
             "ticks": ""
            },
            "colorscale": [
             [
              0,
              "#0d0887"
             ],
             [
              0.1111111111111111,
              "#46039f"
             ],
             [
              0.2222222222222222,
              "#7201a8"
             ],
             [
              0.3333333333333333,
              "#9c179e"
             ],
             [
              0.4444444444444444,
              "#bd3786"
             ],
             [
              0.5555555555555556,
              "#d8576b"
             ],
             [
              0.6666666666666666,
              "#ed7953"
             ],
             [
              0.7777777777777778,
              "#fb9f3a"
             ],
             [
              0.8888888888888888,
              "#fdca26"
             ],
             [
              1,
              "#f0f921"
             ]
            ],
            "type": "histogram2dcontour"
           }
          ],
          "mesh3d": [
           {
            "colorbar": {
             "outlinewidth": 0,
             "ticks": ""
            },
            "type": "mesh3d"
           }
          ],
          "parcoords": [
           {
            "line": {
             "colorbar": {
              "outlinewidth": 0,
              "ticks": ""
             }
            },
            "type": "parcoords"
           }
          ],
          "pie": [
           {
            "automargin": true,
            "type": "pie"
           }
          ],
          "scatter": [
           {
            "fillpattern": {
             "fillmode": "overlay",
             "size": 10,
             "solidity": 0.2
            },
            "type": "scatter"
           }
          ],
          "scatter3d": [
           {
            "line": {
             "colorbar": {
              "outlinewidth": 0,
              "ticks": ""
             }
            },
            "marker": {
             "colorbar": {
              "outlinewidth": 0,
              "ticks": ""
             }
            },
            "type": "scatter3d"
           }
          ],
          "scattercarpet": [
           {
            "marker": {
             "colorbar": {
              "outlinewidth": 0,
              "ticks": ""
             }
            },
            "type": "scattercarpet"
           }
          ],
          "scattergeo": [
           {
            "marker": {
             "colorbar": {
              "outlinewidth": 0,
              "ticks": ""
             }
            },
            "type": "scattergeo"
           }
          ],
          "scattergl": [
           {
            "marker": {
             "colorbar": {
              "outlinewidth": 0,
              "ticks": ""
             }
            },
            "type": "scattergl"
           }
          ],
          "scattermapbox": [
           {
            "marker": {
             "colorbar": {
              "outlinewidth": 0,
              "ticks": ""
             }
            },
            "type": "scattermapbox"
           }
          ],
          "scatterpolar": [
           {
            "marker": {
             "colorbar": {
              "outlinewidth": 0,
              "ticks": ""
             }
            },
            "type": "scatterpolar"
           }
          ],
          "scatterpolargl": [
           {
            "marker": {
             "colorbar": {
              "outlinewidth": 0,
              "ticks": ""
             }
            },
            "type": "scatterpolargl"
           }
          ],
          "scatterternary": [
           {
            "marker": {
             "colorbar": {
              "outlinewidth": 0,
              "ticks": ""
             }
            },
            "type": "scatterternary"
           }
          ],
          "surface": [
           {
            "colorbar": {
             "outlinewidth": 0,
             "ticks": ""
            },
            "colorscale": [
             [
              0,
              "#0d0887"
             ],
             [
              0.1111111111111111,
              "#46039f"
             ],
             [
              0.2222222222222222,
              "#7201a8"
             ],
             [
              0.3333333333333333,
              "#9c179e"
             ],
             [
              0.4444444444444444,
              "#bd3786"
             ],
             [
              0.5555555555555556,
              "#d8576b"
             ],
             [
              0.6666666666666666,
              "#ed7953"
             ],
             [
              0.7777777777777778,
              "#fb9f3a"
             ],
             [
              0.8888888888888888,
              "#fdca26"
             ],
             [
              1,
              "#f0f921"
             ]
            ],
            "type": "surface"
           }
          ],
          "table": [
           {
            "cells": {
             "fill": {
              "color": "#EBF0F8"
             },
             "line": {
              "color": "white"
             }
            },
            "header": {
             "fill": {
              "color": "#C8D4E3"
             },
             "line": {
              "color": "white"
             }
            },
            "type": "table"
           }
          ]
         },
         "layout": {
          "annotationdefaults": {
           "arrowcolor": "#2a3f5f",
           "arrowhead": 0,
           "arrowwidth": 1
          },
          "autotypenumbers": "strict",
          "coloraxis": {
           "colorbar": {
            "outlinewidth": 0,
            "ticks": ""
           }
          },
          "colorscale": {
           "diverging": [
            [
             0,
             "#8e0152"
            ],
            [
             0.1,
             "#c51b7d"
            ],
            [
             0.2,
             "#de77ae"
            ],
            [
             0.3,
             "#f1b6da"
            ],
            [
             0.4,
             "#fde0ef"
            ],
            [
             0.5,
             "#f7f7f7"
            ],
            [
             0.6,
             "#e6f5d0"
            ],
            [
             0.7,
             "#b8e186"
            ],
            [
             0.8,
             "#7fbc41"
            ],
            [
             0.9,
             "#4d9221"
            ],
            [
             1,
             "#276419"
            ]
           ],
           "sequential": [
            [
             0,
             "#0d0887"
            ],
            [
             0.1111111111111111,
             "#46039f"
            ],
            [
             0.2222222222222222,
             "#7201a8"
            ],
            [
             0.3333333333333333,
             "#9c179e"
            ],
            [
             0.4444444444444444,
             "#bd3786"
            ],
            [
             0.5555555555555556,
             "#d8576b"
            ],
            [
             0.6666666666666666,
             "#ed7953"
            ],
            [
             0.7777777777777778,
             "#fb9f3a"
            ],
            [
             0.8888888888888888,
             "#fdca26"
            ],
            [
             1,
             "#f0f921"
            ]
           ],
           "sequentialminus": [
            [
             0,
             "#0d0887"
            ],
            [
             0.1111111111111111,
             "#46039f"
            ],
            [
             0.2222222222222222,
             "#7201a8"
            ],
            [
             0.3333333333333333,
             "#9c179e"
            ],
            [
             0.4444444444444444,
             "#bd3786"
            ],
            [
             0.5555555555555556,
             "#d8576b"
            ],
            [
             0.6666666666666666,
             "#ed7953"
            ],
            [
             0.7777777777777778,
             "#fb9f3a"
            ],
            [
             0.8888888888888888,
             "#fdca26"
            ],
            [
             1,
             "#f0f921"
            ]
           ]
          },
          "colorway": [
           "#636efa",
           "#EF553B",
           "#00cc96",
           "#ab63fa",
           "#FFA15A",
           "#19d3f3",
           "#FF6692",
           "#B6E880",
           "#FF97FF",
           "#FECB52"
          ],
          "font": {
           "color": "#2a3f5f"
          },
          "geo": {
           "bgcolor": "white",
           "lakecolor": "white",
           "landcolor": "#E5ECF6",
           "showlakes": true,
           "showland": true,
           "subunitcolor": "white"
          },
          "hoverlabel": {
           "align": "left"
          },
          "hovermode": "closest",
          "mapbox": {
           "style": "light"
          },
          "paper_bgcolor": "white",
          "plot_bgcolor": "#E5ECF6",
          "polar": {
           "angularaxis": {
            "gridcolor": "white",
            "linecolor": "white",
            "ticks": ""
           },
           "bgcolor": "#E5ECF6",
           "radialaxis": {
            "gridcolor": "white",
            "linecolor": "white",
            "ticks": ""
           }
          },
          "scene": {
           "xaxis": {
            "backgroundcolor": "#E5ECF6",
            "gridcolor": "white",
            "gridwidth": 2,
            "linecolor": "white",
            "showbackground": true,
            "ticks": "",
            "zerolinecolor": "white"
           },
           "yaxis": {
            "backgroundcolor": "#E5ECF6",
            "gridcolor": "white",
            "gridwidth": 2,
            "linecolor": "white",
            "showbackground": true,
            "ticks": "",
            "zerolinecolor": "white"
           },
           "zaxis": {
            "backgroundcolor": "#E5ECF6",
            "gridcolor": "white",
            "gridwidth": 2,
            "linecolor": "white",
            "showbackground": true,
            "ticks": "",
            "zerolinecolor": "white"
           }
          },
          "shapedefaults": {
           "line": {
            "color": "#2a3f5f"
           }
          },
          "ternary": {
           "aaxis": {
            "gridcolor": "white",
            "linecolor": "white",
            "ticks": ""
           },
           "baxis": {
            "gridcolor": "white",
            "linecolor": "white",
            "ticks": ""
           },
           "bgcolor": "#E5ECF6",
           "caxis": {
            "gridcolor": "white",
            "linecolor": "white",
            "ticks": ""
           }
          },
          "title": {
           "x": 0.05
          },
          "xaxis": {
           "automargin": true,
           "gridcolor": "white",
           "linecolor": "white",
           "ticks": "",
           "title": {
            "standoff": 15
           },
           "zerolinecolor": "white",
           "zerolinewidth": 2
          },
          "yaxis": {
           "automargin": true,
           "gridcolor": "white",
           "linecolor": "white",
           "ticks": "",
           "title": {
            "standoff": 15
           },
           "zerolinecolor": "white",
           "zerolinewidth": 2
          }
         }
        },
        "title": {
         "text": "First 3 principal components of pge_pca's feature set"
        }
       }
      }
     },
     "metadata": {},
     "output_type": "display_data"
    },
    {
     "data": {
      "application/vnd.plotly.v1+json": {
       "config": {
        "plotlyServerURL": "https://plot.ly"
       },
       "data": [
        {
         "marker": {
          "opacity": 0.8,
          "size": 4
         },
         "mode": "markers",
         "name": "ADI",
         "type": "scatter3d",
         "x": [
          -12.689802169799805,
          -14.748123168945312,
          -16.527210235595703,
          -19.928878784179688,
          -14.715045928955078,
          -16.891359329223633,
          -16.272388458251953,
          -19.5833740234375,
          -15.63253402709961,
          -21.6964054107666,
          -17.929704666137695,
          -16.631887435913086,
          -17.66098403930664,
          -20.495630264282227,
          -17.122127532958984,
          -17.54408073425293,
          -19.258716583251953,
          -16.8769588470459,
          -17.522985458374023,
          -18.85958480834961
         ],
         "y": [
          8.104549407958984,
          0.6800199151039124,
          6.353137969970703,
          2.3770270347595215,
          -5.671916484832764,
          -3.33248233795166,
          6.0274810791015625,
          2.7357306480407715,
          1.0096564292907715,
          -2.72438383102417,
          0.6981606483459473,
          -2.073106050491333,
          -0.3013201653957367,
          4.761601448059082,
          -0.2714366912841797,
          3.9063563346862793,
          0.9123745560646057,
          -8.05007266998291,
          2.027836322784424,
          2.6441712379455566
         ],
         "z": [
          14.086042404174805,
          17.880393981933594,
          18.6951847076416,
          23.3238582611084,
          10.632244110107422,
          16.29192352294922,
          9.38644790649414,
          15.534821510314941,
          19.464988708496094,
          6.8751115798950195,
          25.33638572692871,
          15.496573448181152,
          14.233478546142578,
          21.079164505004883,
          4.753390312194824,
          12.810182571411133,
          11.53592300415039,
          -0.36002588272094727,
          12.184030532836914,
          10.190768241882324
         ]
        },
        {
         "marker": {
          "opacity": 0.8,
          "size": 4
         },
         "mode": "markers",
         "name": "BACK",
         "type": "scatter3d",
         "x": [
          -1.9097340106964111,
          3.6095993518829346,
          -0.6757456064224243,
          -2.338939905166626,
          -6.620232582092285,
          -9.1901216506958,
          4.881295680999756,
          8.732282638549805,
          -3.735790729522705,
          -7.109248161315918,
          -6.453072547912598,
          -6.143084526062012,
          9.075571060180664,
          -2.2937653064727783,
          -5.468536853790283,
          -8.557929039001465,
          -0.45894718170166016,
          -6.0643696784973145,
          -3.3603718280792236,
          -4.495517253875732,
          -4.15213680267334,
          -7.793697834014893,
          -9.542856216430664,
          -5.54772424697876,
          -3.424175262451172,
          1.305977463722229,
          -8.339048385620117,
          -6.474684715270996,
          -7.974882125854492
         ],
         "y": [
          26.789033889770508,
          12.504796981811523,
          23.21356964111328,
          23.527484893798828,
          19.95983123779297,
          22.827194213867188,
          18.693239212036133,
          10.329093933105469,
          30.75505828857422,
          28.78788948059082,
          29.419492721557617,
          8.672830581665039,
          20.786386489868164,
          13.300345420837402,
          24.186214447021484,
          12.482171058654785,
          28.912342071533203,
          29.777984619140625,
          28.94516372680664,
          12.127044677734375,
          27.18077278137207,
          30.60405921936035,
          27.094945907592773,
          6.16464900970459,
          20.689924240112305,
          24.165109634399414,
          25.837020874023438,
          30.26854705810547,
          23.062660217285156
         ],
         "z": [
          -9.335773468017578,
          -11.264148712158203,
          -0.5866349935531616,
          -3.706515312194824,
          -4.541622161865234,
          3.9894607067108154,
          -6.242501258850098,
          -0.19518005847930908,
          -6.833792209625244,
          -5.080867767333984,
          -5.983692646026611,
          5.083888053894043,
          -8.22193717956543,
          2.7241835594177246,
          -4.687891960144043,
          0.9385553598403931,
          -5.8942551612854,
          -6.058942794799805,
          -6.268755912780762,
          0.805550217628479,
          -3.4036521911621094,
          -5.352503299713135,
          -3.2511167526245117,
          11.457674026489258,
          -3.520763874053955,
          -0.3943815231323242,
          -0.737750768661499,
          -5.834197521209717,
          -3.0450334548950195
         ]
        },
        {
         "marker": {
          "opacity": 0.8,
          "size": 4
         },
         "mode": "markers",
         "name": "DEB",
         "type": "scatter3d",
         "x": [
          12.925301551818848,
          7.779636383056641,
          -4.936344623565674,
          3.8665590286254883,
          7.972423553466797,
          17.369251251220703,
          12.0487060546875,
          4.864278316497803,
          0.7299644947052002,
          11.447298049926758,
          5.579612731933594,
          24.387603759765625,
          7.026210784912109,
          2.3333065509796143,
          6.134654998779297,
          5.883005142211914,
          7.75375509262085,
          9.796324729919434,
          3.047090530395508,
          2.0935871601104736,
          13.971434593200684
         ],
         "y": [
          9.292641639709473,
          -0.06177002191543579,
          -1.530796766281128,
          11.934663772583008,
          -6.567578315734863,
          0.4202955365180969,
          -3.774116039276123,
          14.859745979309082,
          7.842424392700195,
          -0.959977388381958,
          3.326460361480713,
          0.0349651575088501,
          4.4308061599731445,
          2.237999200820923,
          12.664836883544922,
          13.259408950805664,
          5.091094493865967,
          0.7670775651931763,
          3.49533748626709,
          5.543109893798828,
          -2.6409506797790527
         ],
         "z": [
          -4.6327714920043945,
          -4.00557804107666,
          -3.7799713611602783,
          -8.665231704711914,
          -5.417350769042969,
          -4.6991376876831055,
          0.9082383513450623,
          -12.196160316467285,
          -1.8637508153915405,
          2.3979971408843994,
          0.8034037351608276,
          -2.1939268112182617,
          -7.503177642822266,
          -10.924941062927246,
          -10.137002944946289,
          -9.604092597961426,
          0.9067507982254028,
          -7.642754554748535,
          1.5476388931274414,
          -9.76024055480957,
          2.6755096912384033
         ]
        },
        {
         "marker": {
          "opacity": 0.8,
          "size": 4
         },
         "mode": "markers",
         "name": "LYM",
         "type": "scatter3d",
         "x": [
          28.83563995361328,
          20.136539459228516,
          23.574169158935547,
          20.100067138671875,
          22.924638748168945,
          25.809675216674805,
          24.428682327270508,
          25.426279067993164,
          16.2945613861084,
          22.091148376464844,
          31.015342712402344,
          29.054344177246094,
          21.249958038330078,
          19.467029571533203,
          20.659788131713867,
          22.454774856567383,
          21.74020004272461,
          27.587337493896484,
          22.18714141845703,
          19.98442840576172,
          18.82724952697754,
          25.072696685791016,
          23.235294342041016,
          25.385400772094727
         ],
         "y": [
          -3.633939743041992,
          6.499231338500977,
          5.682707786560059,
          4.217780113220215,
          -7.381856918334961,
          2.775622844696045,
          -0.48811256885528564,
          -2.3577756881713867,
          2.194497585296631,
          6.099472522735596,
          -5.140889644622803,
          -6.099307537078857,
          -7.836969375610352,
          -6.661486625671387,
          8.425419807434082,
          7.296897888183594,
          -2.5128746032714844,
          -1.81687331199646,
          8.080170631408691,
          5.255747318267822,
          -6.234015464782715,
          -5.122848033905029,
          2.0306878089904785,
          2.2745461463928223
         ],
         "z": [
          10.434632301330566,
          8.172852516174316,
          3.0481784343719482,
          11.205385208129883,
          1.7205681800842285,
          7.504428863525391,
          -2.2567265033721924,
          11.842041969299316,
          2.556713342666626,
          8.43905258178711,
          10.607006072998047,
          7.753671646118164,
          11.844518661499023,
          12.938002586364746,
          8.122207641601562,
          7.838774681091309,
          8.181659698486328,
          5.213609218597412,
          9.067391395568848,
          7.434798240661621,
          3.8181650638580322,
          7.866340637207031,
          -0.6702996492385864,
          7.7512006759643555
         ]
        },
        {
         "marker": {
          "opacity": 0.8,
          "size": 4
         },
         "mode": "markers",
         "name": "MUC",
         "type": "scatter3d",
         "x": [
          -3.0740182399749756,
          -11.190834045410156,
          -10.084434509277344,
          -11.412761688232422,
          3.7760164737701416,
          -9.340608596801758,
          -0.4207924008369446,
          -9.407122611999512,
          -9.450057029724121,
          -12.0686616897583,
          -0.8463166952133179,
          -11.104883193969727,
          -7.620684623718262,
          -15.417118072509766,
          -3.7577364444732666
         ],
         "y": [
          12.028209686279297,
          -7.359847068786621,
          0.3812524080276489,
          -7.942653656005859,
          -8.369839668273926,
          -13.113999366760254,
          -6.475116729736328,
          5.839944362640381,
          -3.549382448196411,
          -1.6455280780792236,
          1.3650009632110596,
          -5.988606929779053,
          -15.30908203125,
          -1.1271851062774658,
          -0.42210909724235535
         ],
         "z": [
          -2.3223321437835693,
          -9.94050407409668,
          -6.182978630065918,
          2.595576286315918,
          -0.8500645160675049,
          -9.216373443603516,
          -10.118512153625488,
          -8.067268371582031,
          -3.0824711322784424,
          -7.522047996520996,
          -1.6666626930236816,
          -8.38503646850586,
          -15.407720565795898,
          -0.6380277872085571,
          -10.221659660339355
         ]
        },
        {
         "marker": {
          "opacity": 0.8,
          "size": 4
         },
         "mode": "markers",
         "name": "MUS",
         "type": "scatter3d",
         "x": [
          -3.7174103260040283,
          0.46531784534454346,
          6.3252668380737305,
          0.6303267478942871,
          -2.7185475826263428,
          -10.847955703735352,
          -1.5330268144607544,
          -2.977699041366577,
          -13.213357925415039,
          -7.293773651123047,
          0.5647307634353638,
          -9.786479949951172,
          -1.989708662033081,
          9.186348915100098,
          -0.8433594703674316,
          -7.4156813621521,
          -8.837058067321777,
          -8.579833030700684,
          -13.42077350616455,
          -7.580623626708984,
          -9.685041427612305,
          -4.382503509521484,
          -4.230017185211182,
          -12.402206420898438
         ],
         "y": [
          14.73205280303955,
          8.180486679077148,
          4.9227375984191895,
          3.795520067214966,
          -13.303966522216797,
          -15.407764434814453,
          -7.393815040588379,
          -14.527578353881836,
          -7.171100616455078,
          -8.364611625671387,
          6.472949981689453,
          -5.083186149597168,
          6.2197489738464355,
          10.460418701171875,
          -11.474576950073242,
          0.34554141759872437,
          -5.172153472900391,
          1.0910922288894653,
          -1.8210115432739258,
          -1.385307788848877,
          -4.712564468383789,
          -7.223215579986572,
          -14.464446067810059,
          -7.34201717376709
         ],
         "z": [
          -15.878668785095215,
          -14.611559867858887,
          -9.642473220825195,
          -12.020835876464844,
          -9.303434371948242,
          -4.81425142288208,
          -6.260472297668457,
          -8.96433162689209,
          -13.461523056030273,
          -3.620713472366333,
          -18.099653244018555,
          -1.3950484991073608,
          -17.89168930053711,
          -15.324484825134277,
          -13.87831974029541,
          7.177344799041748,
          -9.948503494262695,
          -0.7212561368942261,
          -12.0933256149292,
          -11.25365924835205,
          -0.5697008371353149,
          -7.2640485763549805,
          0.5631248950958252,
          -7.220578193664551
         ]
        },
        {
         "marker": {
          "opacity": 0.8,
          "size": 4
         },
         "mode": "markers",
         "name": "NORM",
         "type": "scatter3d",
         "x": [
          -5.120445251464844,
          4.719139575958252,
          -0.6144197583198547,
          -6.678391456604004,
          -4.058125972747803,
          5.168766975402832,
          21.650787353515625,
          9.271567344665527,
          8.142132759094238,
          9.018890380859375,
          6.379305362701416,
          2.072521686553955,
          1.1300287246704102
         ],
         "y": [
          -9.104166030883789,
          -14.094844818115234,
          -6.926182746887207,
          -11.075582504272461,
          -10.425512313842773,
          -7.645812511444092,
          -2.835935592651367,
          -14.425557136535645,
          -5.495234966278076,
          -13.686882972717285,
          -7.7645158767700195,
          -9.807289123535156,
          -5.531043529510498
         ],
         "z": [
          -0.3894572854042053,
          -0.7815438508987427,
          0.6274737119674683,
          -5.060274600982666,
          8.06251335144043,
          -1.1133182048797607,
          -5.566484451293945,
          -6.364349365234375,
          0.3833693861961365,
          -1.475170612335205,
          -0.1855810284614563,
          6.570010185241699,
          2.0859782695770264
         ]
        },
        {
         "marker": {
          "opacity": 0.8,
          "size": 4
         },
         "mode": "markers",
         "name": "STR",
         "type": "scatter3d",
         "x": [
          -3.350505828857422,
          2.81915545463562,
          -4.879719257354736,
          -5.071450710296631,
          -3.6308581829071045,
          -9.09211254119873,
          -1.148193120956421,
          -12.298763275146484,
          -1.1886460781097412,
          3.1768031120300293,
          -6.326825141906738,
          -10.846570014953613,
          -11.859437942504883,
          -7.469327449798584,
          -10.167139053344727,
          -3.0077691078186035,
          -10.646211624145508,
          -12.212004661560059
         ],
         "y": [
          0.4469578266143799,
          -12.890298843383789,
          -8.121209144592285,
          -3.1530935764312744,
          10.061055183410645,
          4.18350076675415,
          -3.1187806129455566,
          -11.320911407470703,
          -1.9782524108886719,
          -8.668325424194336,
          1.6647791862487793,
          -5.075127124786377,
          -8.665046691894531,
          1.781480312347412,
          -1.6096519231796265,
          -3.377549171447754,
          -3.086853504180908,
          -6.881442070007324
         ],
         "z": [
          -11.146677017211914,
          -13.265020370483398,
          -2.8564977645874023,
          -7.418067455291748,
          -12.607498168945312,
          -4.67139196395874,
          -16.88043975830078,
          -7.128072738647461,
          -16.7849063873291,
          -12.726058006286621,
          -8.564637184143066,
          -2.7055459022521973,
          -4.163990020751953,
          -3.2449049949645996,
          -9.239351272583008,
          -16.81304931640625,
          -11.713589668273926,
          2.1582529544830322
         ]
        },
        {
         "marker": {
          "opacity": 0.8,
          "size": 4
         },
         "mode": "markers",
         "name": "TUM",
         "type": "scatter3d",
         "x": [
          7.462146282196045,
          3.5240590572357178,
          3.942718505859375,
          7.007801055908203,
          12.861640930175781,
          3.128833532333374,
          11.864373207092285,
          1.8516608476638794,
          14.221433639526367,
          0.2497948408126831,
          2.825838327407837,
          14.021557807922363,
          5.4918694496154785,
          -2.9350907802581787,
          8.335325241088867,
          -0.920587420463562,
          1.0962532758712769,
          4.93497896194458,
          9.6376314163208,
          3.4086716175079346,
          2.102250814437866,
          -1.8100111484527588,
          11.409344673156738,
          7.847877025604248,
          3.139345169067383,
          14.872123718261719,
          1.9801831245422363,
          -3.005373001098633,
          -0.4534095823764801,
          -0.639114499092102,
          3.0127124786376953,
          -0.21165084838867188,
          8.147565841674805,
          2.333726406097412,
          4.758574485778809,
          9.204447746276855
         ],
         "y": [
          -14.680917739868164,
          -9.612251281738281,
          -12.309019088745117,
          -5.919737339019775,
          -3.0625393390655518,
          -8.112936973571777,
          -0.3242740333080292,
          -6.619325637817383,
          -6.427979469299316,
          -4.202922344207764,
          -0.2895479202270508,
          -1.7187986373901367,
          -1.7988214492797852,
          -3.9010748863220215,
          -5.717978477478027,
          -4.924021244049072,
          -6.149616241455078,
          -11.214879035949707,
          0.0427471399307251,
          -9.002164840698242,
          -11.279525756835938,
          -9.518333435058594,
          -4.720697402954102,
          -4.111536502838135,
          -11.435447692871094,
          0.44677793979644775,
          -11.975611686706543,
          -12.600400924682617,
          -12.295096397399902,
          -5.65274715423584,
          -3.029266834259033,
          -8.10737419128418,
          5.045783996582031,
          -9.066143035888672,
          2.0069069862365723,
          -7.944231033325195
         ],
         "z": [
          -5.6387715339660645,
          -3.273703098297119,
          -4.738628387451172,
          -1.1965079307556152,
          1.6466267108917236,
          -7.701586723327637,
          -4.347643852233887,
          1.5130856037139893,
          1.384185791015625,
          4.343806266784668,
          -1.2432382106781006,
          -6.181195259094238,
          -4.274202823638916,
          -8.4329252243042,
          -5.405135154724121,
          -7.260746955871582,
          -0.34154200553894043,
          -1.4191210269927979,
          3.273153781890869,
          -0.5402206182479858,
          -4.980038166046143,
          -1.4619916677474976,
          -5.375782012939453,
          -6.399135112762451,
          -6.558699607849121,
          3.2274656295776367,
          0.5139543414115906,
          -1.3155934810638428,
          0.5606822967529297,
          -7.601519584655762,
          -1.828431487083435,
          -6.5062408447265625,
          -3.580994129180908,
          -1.659213662147522,
          0.937142014503479,
          0.796893835067749
         ]
        }
       ],
       "layout": {
        "scene": {
         "xaxis": {
          "title": {
           "text": "PC1 axis"
          }
         },
         "yaxis": {
          "title": {
           "text": "PC2 axis"
          }
         },
         "zaxis": {
          "title": {
           "text": "PC3 axis"
          }
         }
        },
        "template": {
         "data": {
          "bar": [
           {
            "error_x": {
             "color": "#2a3f5f"
            },
            "error_y": {
             "color": "#2a3f5f"
            },
            "marker": {
             "line": {
              "color": "#E5ECF6",
              "width": 0.5
             },
             "pattern": {
              "fillmode": "overlay",
              "size": 10,
              "solidity": 0.2
             }
            },
            "type": "bar"
           }
          ],
          "barpolar": [
           {
            "marker": {
             "line": {
              "color": "#E5ECF6",
              "width": 0.5
             },
             "pattern": {
              "fillmode": "overlay",
              "size": 10,
              "solidity": 0.2
             }
            },
            "type": "barpolar"
           }
          ],
          "carpet": [
           {
            "aaxis": {
             "endlinecolor": "#2a3f5f",
             "gridcolor": "white",
             "linecolor": "white",
             "minorgridcolor": "white",
             "startlinecolor": "#2a3f5f"
            },
            "baxis": {
             "endlinecolor": "#2a3f5f",
             "gridcolor": "white",
             "linecolor": "white",
             "minorgridcolor": "white",
             "startlinecolor": "#2a3f5f"
            },
            "type": "carpet"
           }
          ],
          "choropleth": [
           {
            "colorbar": {
             "outlinewidth": 0,
             "ticks": ""
            },
            "type": "choropleth"
           }
          ],
          "contour": [
           {
            "colorbar": {
             "outlinewidth": 0,
             "ticks": ""
            },
            "colorscale": [
             [
              0,
              "#0d0887"
             ],
             [
              0.1111111111111111,
              "#46039f"
             ],
             [
              0.2222222222222222,
              "#7201a8"
             ],
             [
              0.3333333333333333,
              "#9c179e"
             ],
             [
              0.4444444444444444,
              "#bd3786"
             ],
             [
              0.5555555555555556,
              "#d8576b"
             ],
             [
              0.6666666666666666,
              "#ed7953"
             ],
             [
              0.7777777777777778,
              "#fb9f3a"
             ],
             [
              0.8888888888888888,
              "#fdca26"
             ],
             [
              1,
              "#f0f921"
             ]
            ],
            "type": "contour"
           }
          ],
          "contourcarpet": [
           {
            "colorbar": {
             "outlinewidth": 0,
             "ticks": ""
            },
            "type": "contourcarpet"
           }
          ],
          "heatmap": [
           {
            "colorbar": {
             "outlinewidth": 0,
             "ticks": ""
            },
            "colorscale": [
             [
              0,
              "#0d0887"
             ],
             [
              0.1111111111111111,
              "#46039f"
             ],
             [
              0.2222222222222222,
              "#7201a8"
             ],
             [
              0.3333333333333333,
              "#9c179e"
             ],
             [
              0.4444444444444444,
              "#bd3786"
             ],
             [
              0.5555555555555556,
              "#d8576b"
             ],
             [
              0.6666666666666666,
              "#ed7953"
             ],
             [
              0.7777777777777778,
              "#fb9f3a"
             ],
             [
              0.8888888888888888,
              "#fdca26"
             ],
             [
              1,
              "#f0f921"
             ]
            ],
            "type": "heatmap"
           }
          ],
          "heatmapgl": [
           {
            "colorbar": {
             "outlinewidth": 0,
             "ticks": ""
            },
            "colorscale": [
             [
              0,
              "#0d0887"
             ],
             [
              0.1111111111111111,
              "#46039f"
             ],
             [
              0.2222222222222222,
              "#7201a8"
             ],
             [
              0.3333333333333333,
              "#9c179e"
             ],
             [
              0.4444444444444444,
              "#bd3786"
             ],
             [
              0.5555555555555556,
              "#d8576b"
             ],
             [
              0.6666666666666666,
              "#ed7953"
             ],
             [
              0.7777777777777778,
              "#fb9f3a"
             ],
             [
              0.8888888888888888,
              "#fdca26"
             ],
             [
              1,
              "#f0f921"
             ]
            ],
            "type": "heatmapgl"
           }
          ],
          "histogram": [
           {
            "marker": {
             "pattern": {
              "fillmode": "overlay",
              "size": 10,
              "solidity": 0.2
             }
            },
            "type": "histogram"
           }
          ],
          "histogram2d": [
           {
            "colorbar": {
             "outlinewidth": 0,
             "ticks": ""
            },
            "colorscale": [
             [
              0,
              "#0d0887"
             ],
             [
              0.1111111111111111,
              "#46039f"
             ],
             [
              0.2222222222222222,
              "#7201a8"
             ],
             [
              0.3333333333333333,
              "#9c179e"
             ],
             [
              0.4444444444444444,
              "#bd3786"
             ],
             [
              0.5555555555555556,
              "#d8576b"
             ],
             [
              0.6666666666666666,
              "#ed7953"
             ],
             [
              0.7777777777777778,
              "#fb9f3a"
             ],
             [
              0.8888888888888888,
              "#fdca26"
             ],
             [
              1,
              "#f0f921"
             ]
            ],
            "type": "histogram2d"
           }
          ],
          "histogram2dcontour": [
           {
            "colorbar": {
             "outlinewidth": 0,
             "ticks": ""
            },
            "colorscale": [
             [
              0,
              "#0d0887"
             ],
             [
              0.1111111111111111,
              "#46039f"
             ],
             [
              0.2222222222222222,
              "#7201a8"
             ],
             [
              0.3333333333333333,
              "#9c179e"
             ],
             [
              0.4444444444444444,
              "#bd3786"
             ],
             [
              0.5555555555555556,
              "#d8576b"
             ],
             [
              0.6666666666666666,
              "#ed7953"
             ],
             [
              0.7777777777777778,
              "#fb9f3a"
             ],
             [
              0.8888888888888888,
              "#fdca26"
             ],
             [
              1,
              "#f0f921"
             ]
            ],
            "type": "histogram2dcontour"
           }
          ],
          "mesh3d": [
           {
            "colorbar": {
             "outlinewidth": 0,
             "ticks": ""
            },
            "type": "mesh3d"
           }
          ],
          "parcoords": [
           {
            "line": {
             "colorbar": {
              "outlinewidth": 0,
              "ticks": ""
             }
            },
            "type": "parcoords"
           }
          ],
          "pie": [
           {
            "automargin": true,
            "type": "pie"
           }
          ],
          "scatter": [
           {
            "fillpattern": {
             "fillmode": "overlay",
             "size": 10,
             "solidity": 0.2
            },
            "type": "scatter"
           }
          ],
          "scatter3d": [
           {
            "line": {
             "colorbar": {
              "outlinewidth": 0,
              "ticks": ""
             }
            },
            "marker": {
             "colorbar": {
              "outlinewidth": 0,
              "ticks": ""
             }
            },
            "type": "scatter3d"
           }
          ],
          "scattercarpet": [
           {
            "marker": {
             "colorbar": {
              "outlinewidth": 0,
              "ticks": ""
             }
            },
            "type": "scattercarpet"
           }
          ],
          "scattergeo": [
           {
            "marker": {
             "colorbar": {
              "outlinewidth": 0,
              "ticks": ""
             }
            },
            "type": "scattergeo"
           }
          ],
          "scattergl": [
           {
            "marker": {
             "colorbar": {
              "outlinewidth": 0,
              "ticks": ""
             }
            },
            "type": "scattergl"
           }
          ],
          "scattermapbox": [
           {
            "marker": {
             "colorbar": {
              "outlinewidth": 0,
              "ticks": ""
             }
            },
            "type": "scattermapbox"
           }
          ],
          "scatterpolar": [
           {
            "marker": {
             "colorbar": {
              "outlinewidth": 0,
              "ticks": ""
             }
            },
            "type": "scatterpolar"
           }
          ],
          "scatterpolargl": [
           {
            "marker": {
             "colorbar": {
              "outlinewidth": 0,
              "ticks": ""
             }
            },
            "type": "scatterpolargl"
           }
          ],
          "scatterternary": [
           {
            "marker": {
             "colorbar": {
              "outlinewidth": 0,
              "ticks": ""
             }
            },
            "type": "scatterternary"
           }
          ],
          "surface": [
           {
            "colorbar": {
             "outlinewidth": 0,
             "ticks": ""
            },
            "colorscale": [
             [
              0,
              "#0d0887"
             ],
             [
              0.1111111111111111,
              "#46039f"
             ],
             [
              0.2222222222222222,
              "#7201a8"
             ],
             [
              0.3333333333333333,
              "#9c179e"
             ],
             [
              0.4444444444444444,
              "#bd3786"
             ],
             [
              0.5555555555555556,
              "#d8576b"
             ],
             [
              0.6666666666666666,
              "#ed7953"
             ],
             [
              0.7777777777777778,
              "#fb9f3a"
             ],
             [
              0.8888888888888888,
              "#fdca26"
             ],
             [
              1,
              "#f0f921"
             ]
            ],
            "type": "surface"
           }
          ],
          "table": [
           {
            "cells": {
             "fill": {
              "color": "#EBF0F8"
             },
             "line": {
              "color": "white"
             }
            },
            "header": {
             "fill": {
              "color": "#C8D4E3"
             },
             "line": {
              "color": "white"
             }
            },
            "type": "table"
           }
          ]
         },
         "layout": {
          "annotationdefaults": {
           "arrowcolor": "#2a3f5f",
           "arrowhead": 0,
           "arrowwidth": 1
          },
          "autotypenumbers": "strict",
          "coloraxis": {
           "colorbar": {
            "outlinewidth": 0,
            "ticks": ""
           }
          },
          "colorscale": {
           "diverging": [
            [
             0,
             "#8e0152"
            ],
            [
             0.1,
             "#c51b7d"
            ],
            [
             0.2,
             "#de77ae"
            ],
            [
             0.3,
             "#f1b6da"
            ],
            [
             0.4,
             "#fde0ef"
            ],
            [
             0.5,
             "#f7f7f7"
            ],
            [
             0.6,
             "#e6f5d0"
            ],
            [
             0.7,
             "#b8e186"
            ],
            [
             0.8,
             "#7fbc41"
            ],
            [
             0.9,
             "#4d9221"
            ],
            [
             1,
             "#276419"
            ]
           ],
           "sequential": [
            [
             0,
             "#0d0887"
            ],
            [
             0.1111111111111111,
             "#46039f"
            ],
            [
             0.2222222222222222,
             "#7201a8"
            ],
            [
             0.3333333333333333,
             "#9c179e"
            ],
            [
             0.4444444444444444,
             "#bd3786"
            ],
            [
             0.5555555555555556,
             "#d8576b"
            ],
            [
             0.6666666666666666,
             "#ed7953"
            ],
            [
             0.7777777777777778,
             "#fb9f3a"
            ],
            [
             0.8888888888888888,
             "#fdca26"
            ],
            [
             1,
             "#f0f921"
            ]
           ],
           "sequentialminus": [
            [
             0,
             "#0d0887"
            ],
            [
             0.1111111111111111,
             "#46039f"
            ],
            [
             0.2222222222222222,
             "#7201a8"
            ],
            [
             0.3333333333333333,
             "#9c179e"
            ],
            [
             0.4444444444444444,
             "#bd3786"
            ],
            [
             0.5555555555555556,
             "#d8576b"
            ],
            [
             0.6666666666666666,
             "#ed7953"
            ],
            [
             0.7777777777777778,
             "#fb9f3a"
            ],
            [
             0.8888888888888888,
             "#fdca26"
            ],
            [
             1,
             "#f0f921"
            ]
           ]
          },
          "colorway": [
           "#636efa",
           "#EF553B",
           "#00cc96",
           "#ab63fa",
           "#FFA15A",
           "#19d3f3",
           "#FF6692",
           "#B6E880",
           "#FF97FF",
           "#FECB52"
          ],
          "font": {
           "color": "#2a3f5f"
          },
          "geo": {
           "bgcolor": "white",
           "lakecolor": "white",
           "landcolor": "#E5ECF6",
           "showlakes": true,
           "showland": true,
           "subunitcolor": "white"
          },
          "hoverlabel": {
           "align": "left"
          },
          "hovermode": "closest",
          "mapbox": {
           "style": "light"
          },
          "paper_bgcolor": "white",
          "plot_bgcolor": "#E5ECF6",
          "polar": {
           "angularaxis": {
            "gridcolor": "white",
            "linecolor": "white",
            "ticks": ""
           },
           "bgcolor": "#E5ECF6",
           "radialaxis": {
            "gridcolor": "white",
            "linecolor": "white",
            "ticks": ""
           }
          },
          "scene": {
           "xaxis": {
            "backgroundcolor": "#E5ECF6",
            "gridcolor": "white",
            "gridwidth": 2,
            "linecolor": "white",
            "showbackground": true,
            "ticks": "",
            "zerolinecolor": "white"
           },
           "yaxis": {
            "backgroundcolor": "#E5ECF6",
            "gridcolor": "white",
            "gridwidth": 2,
            "linecolor": "white",
            "showbackground": true,
            "ticks": "",
            "zerolinecolor": "white"
           },
           "zaxis": {
            "backgroundcolor": "#E5ECF6",
            "gridcolor": "white",
            "gridwidth": 2,
            "linecolor": "white",
            "showbackground": true,
            "ticks": "",
            "zerolinecolor": "white"
           }
          },
          "shapedefaults": {
           "line": {
            "color": "#2a3f5f"
           }
          },
          "ternary": {
           "aaxis": {
            "gridcolor": "white",
            "linecolor": "white",
            "ticks": ""
           },
           "baxis": {
            "gridcolor": "white",
            "linecolor": "white",
            "ticks": ""
           },
           "bgcolor": "#E5ECF6",
           "caxis": {
            "gridcolor": "white",
            "linecolor": "white",
            "ticks": ""
           }
          },
          "title": {
           "x": 0.05
          },
          "xaxis": {
           "automargin": true,
           "gridcolor": "white",
           "linecolor": "white",
           "ticks": "",
           "title": {
            "standoff": 15
           },
           "zerolinecolor": "white",
           "zerolinewidth": 2
          },
          "yaxis": {
           "automargin": true,
           "gridcolor": "white",
           "linecolor": "white",
           "ticks": "",
           "title": {
            "standoff": 15
           },
           "zerolinecolor": "white",
           "zerolinewidth": 2
          }
         }
        },
        "title": {
         "text": "First 3 principal components of resnet50_pca's feature set"
        }
       }
      }
     },
     "metadata": {},
     "output_type": "display_data"
    },
    {
     "data": {
      "application/vnd.plotly.v1+json": {
       "config": {
        "plotlyServerURL": "https://plot.ly"
       },
       "data": [
        {
         "marker": {
          "opacity": 0.8,
          "size": 4
         },
         "mode": "markers",
         "name": "ADI",
         "type": "scatter3d",
         "x": [
          337.53631591796875,
          202.69879150390625,
          366.58673095703125,
          162.81423950195312,
          38.37004089355469,
          51.94095993041992,
          382.161865234375,
          302.5118408203125,
          144.8203582763672,
          255.63584899902344,
          272.52197265625,
          100.72557067871094,
          366.13348388671875,
          342.5658874511719,
          -141.3235626220703,
          278.18927001953125,
          76.44586181640625,
          -326.53179931640625,
          22.664709091186523,
          134.26153564453125
         ],
         "y": [
          179.5633087158203,
          269.8034362792969,
          226.57168579101562,
          282.760986328125,
          -90.23970031738281,
          255.5122833251953,
          181.00242614746094,
          258.348876953125,
          252.26324462890625,
          185.52023315429688,
          231.11520385742188,
          289.97662353515625,
          164.25233459472656,
          204.34449768066406,
          199.48983764648438,
          224.21221923828125,
          158.24298095703125,
          77.61822509765625,
          301.00341796875,
          224.4958038330078
         ],
         "z": [
          176.74758911132812,
          184.70443725585938,
          198.9088134765625,
          185.99761962890625,
          86.82190704345703,
          200.7338409423828,
          167.7742156982422,
          181.64764404296875,
          77.04562377929688,
          202.48876953125,
          170.97723388671875,
          174.5432891845703,
          159.27459716796875,
          174.07485961914062,
          176.2230987548828,
          162.402099609375,
          234.833984375,
          149.41673278808594,
          217.16917419433594,
          129.16249084472656
         ]
        },
        {
         "marker": {
          "opacity": 0.8,
          "size": 4
         },
         "mode": "markers",
         "name": "BACK",
         "type": "scatter3d",
         "x": [
          485.03778076171875,
          317.1328125,
          622.2449340820312,
          596.037841796875,
          538.7147827148438,
          553.4757690429688,
          351.9107360839844,
          170.3195037841797,
          638.4268798828125,
          607.4019775390625,
          559.6734619140625,
          454.3237609863281,
          381.52313232421875,
          512.5145263671875,
          496.4980773925781,
          468.91424560546875,
          627.5653076171875,
          583.3777465820312,
          639.2130737304688,
          521.7815551757812,
          642.6181640625,
          598.2623901367188,
          616.7782592773438,
          463.8320617675781,
          489.5054931640625,
          565.1756591796875,
          647.9844970703125,
          615.7109375,
          627.7392578125
         ],
         "y": [
          -50.16337203979492,
          -51.127750396728516,
          -124.12771606445312,
          -133.28143310546875,
          -92.31841278076172,
          -64.93734741210938,
          89.29839324951172,
          135.70697021484375,
          -124.1484375,
          -88.5389404296875,
          -56.49181365966797,
          151.95050048828125,
          -91.73342895507812,
          53.97594451904297,
          -76.98461151123047,
          132.8246307373047,
          -123.49789428710938,
          -85.68328857421875,
          -132.30230712890625,
          62.23717498779297,
          -128.09127807617188,
          -72.57670593261719,
          -103.99470520019531,
          153.56979370117188,
          66.93354034423828,
          -71.4358901977539,
          -132.39907836914062,
          -88.84184265136719,
          -119.25743103027344
         ],
         "z": [
          -154.4935302734375,
          -201.95330810546875,
          -173.11917114257812,
          -208.85531616210938,
          -132.78341674804688,
          -111.57106018066406,
          6.297293186187744,
          -30.199859619140625,
          -156.71218872070312,
          -116.82452392578125,
          -106.72210693359375,
          160.22174072265625,
          -268.1358337402344,
          32.52025604248047,
          -173.32666015625,
          112.66014099121094,
          -165.52276611328125,
          -142.41810607910156,
          -173.11488342285156,
          58.09050750732422,
          -160.09347534179688,
          -115.03620910644531,
          -128.57989501953125,
          164.63534545898438,
          23.175460815429688,
          -133.6507110595703,
          -156.70945739746094,
          -113.58707427978516,
          -143.30931091308594
         ]
        },
        {
         "marker": {
          "opacity": 0.8,
          "size": 4
         },
         "mode": "markers",
         "name": "DEB",
         "type": "scatter3d",
         "x": [
          -149.49844360351562,
          -122.45234680175781,
          -121.80290985107422,
          -104.65337371826172,
          -144.40283203125,
          -267.4480895996094,
          -307.4766845703125,
          -72.79115295410156,
          -110.12351989746094,
          -308.5055847167969,
          -157.38534545898438,
          -46.35184860229492,
          -77.37895202636719,
          101.14909362792969,
          21.70675277709961,
          -144.81483459472656,
          347.8800048828125,
          -134.20753479003906,
          230.07041931152344,
          37.589725494384766,
          -325.8500671386719
         ],
         "y": [
          95.92813110351562,
          74.1938705444336,
          42.134490966796875,
          184.1980438232422,
          -15.851561546325684,
          87.9581298828125,
          -74.01454162597656,
          19.026580810546875,
          152.84991455078125,
          61.321834564208984,
          -87.04853820800781,
          -200.6695556640625,
          96.96525573730469,
          148.93003845214844,
          207.2734375,
          154.31101989746094,
          81.470458984375,
          114.26336669921875,
          -372.3262939453125,
          227.1482696533203,
          -17.896432876586914
         ],
         "z": [
          -127.56375122070312,
          -125.68421936035156,
          24.340694427490234,
          -52.087806701660156,
          -126.85227966308594,
          -179.9755096435547,
          -21.484115600585938,
          -117.61332702636719,
          -61.48935317993164,
          -106.33717346191406,
          13.121495246887207,
          -16.53087615966797,
          -139.13961791992188,
          -59.61113739013672,
          -84.14344787597656,
          -73.85005187988281,
          -26.063796997070312,
          -152.08355712890625,
          89.5384521484375,
          -74.16132354736328,
          -117.68247985839844
         ]
        },
        {
         "marker": {
          "opacity": 0.8,
          "size": 4
         },
         "mode": "markers",
         "name": "LYM",
         "type": "scatter3d",
         "x": [
          77.9285888671875,
          -403.6141052246094,
          48.98389434814453,
          -254.04249572753906,
          -278.2723693847656,
          -80.63780212402344,
          -242.97845458984375,
          81.18186950683594,
          -256.2992858886719,
          -103.80845642089844,
          126.3270263671875,
          38.047542572021484,
          -301.57806396484375,
          -406.8969421386719,
          -195.52935791015625,
          -22.28529167175293,
          -186.59754943847656,
          -67.64008331298828,
          -142.84129333496094,
          -286.3303527832031,
          -274.80609130859375,
          3.443593978881836,
          -126.02537536621094,
          -16.69180679321289
         ],
         "y": [
          -288.99591064453125,
          36.75355529785156,
          -288.237548828125,
          -156.74124145507812,
          -36.74171447753906,
          -281.9949645996094,
          -25.868789672851562,
          -295.6990051269531,
          -156.18516540527344,
          -253.02249145507812,
          -282.25311279296875,
          -325.5934143066406,
          -100.3513412475586,
          -31.562641143798828,
          -186.1067352294922,
          -254.9688720703125,
          -206.2110595703125,
          -109.92919921875,
          -218.28500366210938,
          -56.66972351074219,
          -128.09141540527344,
          -243.5654296875,
          -48.217674255371094,
          -288.0191650390625
         ],
         "z": [
          5.272762775421143,
          -25.90402603149414,
          -4.97885799407959,
          40.5048828125,
          -126.9053955078125,
          46.6929817199707,
          -148.1713409423828,
          63.70121383666992,
          40.34893798828125,
          49.679447174072266,
          43.016334533691406,
          55.940921783447266,
          -112.78727722167969,
          -62.80271530151367,
          19.36495590209961,
          26.096391677856445,
          -29.23776626586914,
          -81.42706298828125,
          21.410554885864258,
          -44.07793426513672,
          -36.842437744140625,
          -44.1947021484375,
          -120.07428741455078,
          49.89318084716797
         ]
        },
        {
         "marker": {
          "opacity": 0.8,
          "size": 4
         },
         "mode": "markers",
         "name": "MUC",
         "type": "scatter3d",
         "x": [
          256.0728759765625,
          -146.56756591796875,
          -26.68929672241211,
          243.50013732910156,
          -49.39759063720703,
          -46.54420471191406,
          294.1457824707031,
          86.18742370605469,
          70.3536148071289,
          -101.28765869140625,
          -147.87728881835938,
          54.89575958251953,
          -259.0045166015625,
          -207.13739013671875,
          209.19374084472656
         ],
         "y": [
          219.0230712890625,
          145.16343688964844,
          183.1514434814453,
          206.62774658203125,
          9.63203239440918,
          200.97665405273438,
          -342.4146728515625,
          208.22857666015625,
          210.23681640625,
          206.71258544921875,
          109.4290771484375,
          192.9697723388672,
          60.602943420410156,
          243.73472595214844,
          -304.0276184082031
         ],
         "z": [
          130.90283203125,
          -11.437630653381348,
          90.81866455078125,
          166.30197143554688,
          16.010019302368164,
          -56.05366516113281,
          40.911102294921875,
          45.567893981933594,
          -18.395029067993164,
          60.19367218017578,
          -16.979663848876953,
          -81.39108276367188,
          -46.94240188598633,
          30.464120864868164,
          41.579071044921875
         ]
        },
        {
         "marker": {
          "opacity": 0.8,
          "size": 4
         },
         "mode": "markers",
         "name": "MUS",
         "type": "scatter3d",
         "x": [
          482.534912109375,
          348.876220703125,
          -88.48851776123047,
          -88.63491821289062,
          -80.5111312866211,
          -161.02777099609375,
          -328.794189453125,
          -153.33123779296875,
          -290.09344482421875,
          -256.8291931152344,
          60.95524215698242,
          16.738615036010742,
          153.44378662109375,
          -34.092498779296875,
          -84.0943832397461,
          75.87401580810547,
          -127.53578186035156,
          -212.30752563476562,
          -106.51407623291016,
          -20.887319564819336,
          40.27125930786133,
          -302.0106201171875,
          13.63048267364502,
          -240.77734375
         ],
         "y": [
          2.958127975463867,
          34.72687530517578,
          -27.573226928710938,
          149.75599670410156,
          -197.9068603515625,
          222.80970764160156,
          51.18467330932617,
          -44.2772102355957,
          130.2383575439453,
          -144.73487854003906,
          74.03246307373047,
          -102.32418823242188,
          94.01081848144531,
          46.979915618896484,
          -16.27994728088379,
          -109.13179779052734,
          176.0167236328125,
          27.102794647216797,
          256.89569091796875,
          233.5350341796875,
          -269.0033264160156,
          127.31775665283203,
          -266.7631530761719,
          140.1811065673828
         ],
         "z": [
          -98.80534362792969,
          -149.771728515625,
          -135.30328369140625,
          -68.17476654052734,
          68.21012115478516,
          -21.087574005126953,
          59.74628448486328,
          -47.62110900878906,
          64.35086059570312,
          94.71975708007812,
          -130.3197479248047,
          104.44172668457031,
          -149.39947509765625,
          -176.1683807373047,
          -61.43216323852539,
          223.4868927001953,
          -13.583398818969727,
          95.09789276123047,
          -23.14461898803711,
          -0.7819538116455078,
          85.01911926269531,
          -37.77125549316406,
          62.92314910888672,
          -21.941932678222656
         ]
        },
        {
         "marker": {
          "opacity": 0.8,
          "size": 4
         },
         "mode": "markers",
         "name": "NORM",
         "type": "scatter3d",
         "x": [
          149.77215576171875,
          -154.31842041015625,
          75.60287475585938,
          54.779632568359375,
          -23.007667541503906,
          -32.31379699707031,
          -74.41253662109375,
          1.1781978607177734,
          -120.45226287841797,
          -4.957448959350586,
          -35.270347595214844,
          -138.17556762695312,
          -8.597136497497559
         ],
         "y": [
          174.49990844726562,
          82.18975067138672,
          165.07073974609375,
          187.1373748779297,
          -240.84921264648438,
          -248.83779907226562,
          -2.894176959991455,
          81.37474060058594,
          176.246826171875,
          87.71057891845703,
          105.51927947998047,
          -185.45623779296875,
          172.76480102539062
         ],
         "z": [
          25.386844635009766,
          -173.15557861328125,
          -61.125030517578125,
          -17.35950469970703,
          110.35279846191406,
          56.263824462890625,
          -225.01995849609375,
          -86.7236557006836,
          -77.62555694580078,
          -101.87867736816406,
          -66.69088745117188,
          76.04521179199219,
          -55.4256591796875
         ]
        },
        {
         "marker": {
          "opacity": 0.8,
          "size": 4
         },
         "mode": "markers",
         "name": "STR",
         "type": "scatter3d",
         "x": [
          -143.1291046142578,
          -208.07476806640625,
          -119.63139343261719,
          -45.0012321472168,
          46.64542770385742,
          -45.332584381103516,
          -1.7643709182739258,
          19.92900848388672,
          -91.30733489990234,
          -14.12925910949707,
          32.25151062011719,
          -86.49701690673828,
          -169.64276123046875,
          173.4693603515625,
          -322.69964599609375,
          81.74842071533203,
          -86.18596649169922,
          -73.60551452636719
         ],
         "y": [
          40.38130187988281,
          155.03866577148438,
          -180.53460693359375,
          -279.1006164550781,
          135.9106903076172,
          -185.56764221191406,
          127.29643249511719,
          -331.7264404296875,
          129.97787475585938,
          128.42431640625,
          98.89520263671875,
          -152.81314086914062,
          -39.401390075683594,
          -325.8692932128906,
          128.22662353515625,
          83.46204376220703,
          137.6034698486328,
          -212.41156005859375
         ],
         "z": [
          -5.904439926147461,
          -150.68951416015625,
          68.35989379882812,
          70.78071594238281,
          -120.97589111328125,
          140.45542907714844,
          -187.58746337890625,
          146.27320861816406,
          -149.02774047851562,
          -131.89942932128906,
          -76.20602416992188,
          78.0804672241211,
          43.977088928222656,
          96.680908203125,
          84.53533172607422,
          -161.14102172851562,
          -59.39497375488281,
          129.172607421875
         ]
        },
        {
         "marker": {
          "opacity": 0.8,
          "size": 4
         },
         "mode": "markers",
         "name": "TUM",
         "type": "scatter3d",
         "x": [
          -84.37967681884766,
          -64.47522735595703,
          -183.9187469482422,
          -160.14952087402344,
          55.525611877441406,
          105.3753433227539,
          -143.8739013671875,
          -263.8330993652344,
          -114.54413604736328,
          -124.42823028564453,
          121.40693664550781,
          -130.93966674804688,
          23.696998596191406,
          -93.59310913085938,
          45.36094284057617,
          -56.39862060546875,
          -132.7417755126953,
          -134.5657501220703,
          -131.4381103515625,
          -163.7329559326172,
          -114.09276580810547,
          8.297989845275879,
          -181.7703399658203,
          -52.464115142822266,
          -127.78208923339844,
          -111.91629791259766,
          -189.35791015625,
          -14.489582061767578,
          -250.81832885742188,
          -109.23715209960938,
          8.313868522644043,
          -115.92460632324219,
          406.9385986328125,
          -29.634883880615234,
          -84.41671752929688,
          -133.78671264648438
         ],
         "y": [
          -54.507633209228516,
          -218.94088745117188,
          40.72186279296875,
          8.109697341918945,
          56.31920623779297,
          4.549914360046387,
          -155.60324096679688,
          -20.467681884765625,
          -156.19569396972656,
          -164.85604858398438,
          -272.9766845703125,
          -6.346904754638672,
          -240.10891723632812,
          128.95648193359375,
          41.82695388793945,
          -131.44764709472656,
          -154.20526123046875,
          -153.40591430664062,
          -176.2265625,
          4.1317644119262695,
          -131.11782836914062,
          85.19712829589844,
          -46.16897964477539,
          -187.437744140625,
          -23.49457550048828,
          -226.60623168945312,
          -7.668210983276367,
          -202.81260681152344,
          -27.941625595092773,
          -122.97216796875,
          -116.75788116455078,
          -115.72069549560547,
          21.97852897644043,
          -262.4957275390625,
          -115.86056518554688,
          -109.98837280273438
         ],
         "z": [
          -147.04022216796875,
          -6.489657402038574,
          7.797140121459961,
          31.193435668945312,
          -164.8547821044922,
          -195.6011505126953,
          -30.73609161376953,
          70.13233184814453,
          -17.049774169921875,
          77.34870910644531,
          11.317601203918457,
          -186.66387939453125,
          6.104380130767822,
          -159.2410888671875,
          -199.6923065185547,
          58.605533599853516,
          115.51860809326172,
          -6.022953987121582,
          63.94978713989258,
          -92.39763641357422,
          54.290321350097656,
          -95.52464294433594,
          -111.92030334472656,
          -12.907814025878906,
          -45.30340576171875,
          44.04460906982422,
          -57.768348693847656,
          -18.512895584106445,
          -61.22842788696289,
          6.8461079597473145,
          -31.499608993530273,
          -20.071752548217773,
          -116.81974792480469,
          77.2352294921875,
          17.433902740478516,
          -14.81277084350586
         ]
        }
       ],
       "layout": {
        "scene": {
         "xaxis": {
          "title": {
           "text": "PC1 axis"
          }
         },
         "yaxis": {
          "title": {
           "text": "PC2 axis"
          }
         },
         "zaxis": {
          "title": {
           "text": "PC3 axis"
          }
         }
        },
        "template": {
         "data": {
          "bar": [
           {
            "error_x": {
             "color": "#2a3f5f"
            },
            "error_y": {
             "color": "#2a3f5f"
            },
            "marker": {
             "line": {
              "color": "#E5ECF6",
              "width": 0.5
             },
             "pattern": {
              "fillmode": "overlay",
              "size": 10,
              "solidity": 0.2
             }
            },
            "type": "bar"
           }
          ],
          "barpolar": [
           {
            "marker": {
             "line": {
              "color": "#E5ECF6",
              "width": 0.5
             },
             "pattern": {
              "fillmode": "overlay",
              "size": 10,
              "solidity": 0.2
             }
            },
            "type": "barpolar"
           }
          ],
          "carpet": [
           {
            "aaxis": {
             "endlinecolor": "#2a3f5f",
             "gridcolor": "white",
             "linecolor": "white",
             "minorgridcolor": "white",
             "startlinecolor": "#2a3f5f"
            },
            "baxis": {
             "endlinecolor": "#2a3f5f",
             "gridcolor": "white",
             "linecolor": "white",
             "minorgridcolor": "white",
             "startlinecolor": "#2a3f5f"
            },
            "type": "carpet"
           }
          ],
          "choropleth": [
           {
            "colorbar": {
             "outlinewidth": 0,
             "ticks": ""
            },
            "type": "choropleth"
           }
          ],
          "contour": [
           {
            "colorbar": {
             "outlinewidth": 0,
             "ticks": ""
            },
            "colorscale": [
             [
              0,
              "#0d0887"
             ],
             [
              0.1111111111111111,
              "#46039f"
             ],
             [
              0.2222222222222222,
              "#7201a8"
             ],
             [
              0.3333333333333333,
              "#9c179e"
             ],
             [
              0.4444444444444444,
              "#bd3786"
             ],
             [
              0.5555555555555556,
              "#d8576b"
             ],
             [
              0.6666666666666666,
              "#ed7953"
             ],
             [
              0.7777777777777778,
              "#fb9f3a"
             ],
             [
              0.8888888888888888,
              "#fdca26"
             ],
             [
              1,
              "#f0f921"
             ]
            ],
            "type": "contour"
           }
          ],
          "contourcarpet": [
           {
            "colorbar": {
             "outlinewidth": 0,
             "ticks": ""
            },
            "type": "contourcarpet"
           }
          ],
          "heatmap": [
           {
            "colorbar": {
             "outlinewidth": 0,
             "ticks": ""
            },
            "colorscale": [
             [
              0,
              "#0d0887"
             ],
             [
              0.1111111111111111,
              "#46039f"
             ],
             [
              0.2222222222222222,
              "#7201a8"
             ],
             [
              0.3333333333333333,
              "#9c179e"
             ],
             [
              0.4444444444444444,
              "#bd3786"
             ],
             [
              0.5555555555555556,
              "#d8576b"
             ],
             [
              0.6666666666666666,
              "#ed7953"
             ],
             [
              0.7777777777777778,
              "#fb9f3a"
             ],
             [
              0.8888888888888888,
              "#fdca26"
             ],
             [
              1,
              "#f0f921"
             ]
            ],
            "type": "heatmap"
           }
          ],
          "heatmapgl": [
           {
            "colorbar": {
             "outlinewidth": 0,
             "ticks": ""
            },
            "colorscale": [
             [
              0,
              "#0d0887"
             ],
             [
              0.1111111111111111,
              "#46039f"
             ],
             [
              0.2222222222222222,
              "#7201a8"
             ],
             [
              0.3333333333333333,
              "#9c179e"
             ],
             [
              0.4444444444444444,
              "#bd3786"
             ],
             [
              0.5555555555555556,
              "#d8576b"
             ],
             [
              0.6666666666666666,
              "#ed7953"
             ],
             [
              0.7777777777777778,
              "#fb9f3a"
             ],
             [
              0.8888888888888888,
              "#fdca26"
             ],
             [
              1,
              "#f0f921"
             ]
            ],
            "type": "heatmapgl"
           }
          ],
          "histogram": [
           {
            "marker": {
             "pattern": {
              "fillmode": "overlay",
              "size": 10,
              "solidity": 0.2
             }
            },
            "type": "histogram"
           }
          ],
          "histogram2d": [
           {
            "colorbar": {
             "outlinewidth": 0,
             "ticks": ""
            },
            "colorscale": [
             [
              0,
              "#0d0887"
             ],
             [
              0.1111111111111111,
              "#46039f"
             ],
             [
              0.2222222222222222,
              "#7201a8"
             ],
             [
              0.3333333333333333,
              "#9c179e"
             ],
             [
              0.4444444444444444,
              "#bd3786"
             ],
             [
              0.5555555555555556,
              "#d8576b"
             ],
             [
              0.6666666666666666,
              "#ed7953"
             ],
             [
              0.7777777777777778,
              "#fb9f3a"
             ],
             [
              0.8888888888888888,
              "#fdca26"
             ],
             [
              1,
              "#f0f921"
             ]
            ],
            "type": "histogram2d"
           }
          ],
          "histogram2dcontour": [
           {
            "colorbar": {
             "outlinewidth": 0,
             "ticks": ""
            },
            "colorscale": [
             [
              0,
              "#0d0887"
             ],
             [
              0.1111111111111111,
              "#46039f"
             ],
             [
              0.2222222222222222,
              "#7201a8"
             ],
             [
              0.3333333333333333,
              "#9c179e"
             ],
             [
              0.4444444444444444,
              "#bd3786"
             ],
             [
              0.5555555555555556,
              "#d8576b"
             ],
             [
              0.6666666666666666,
              "#ed7953"
             ],
             [
              0.7777777777777778,
              "#fb9f3a"
             ],
             [
              0.8888888888888888,
              "#fdca26"
             ],
             [
              1,
              "#f0f921"
             ]
            ],
            "type": "histogram2dcontour"
           }
          ],
          "mesh3d": [
           {
            "colorbar": {
             "outlinewidth": 0,
             "ticks": ""
            },
            "type": "mesh3d"
           }
          ],
          "parcoords": [
           {
            "line": {
             "colorbar": {
              "outlinewidth": 0,
              "ticks": ""
             }
            },
            "type": "parcoords"
           }
          ],
          "pie": [
           {
            "automargin": true,
            "type": "pie"
           }
          ],
          "scatter": [
           {
            "fillpattern": {
             "fillmode": "overlay",
             "size": 10,
             "solidity": 0.2
            },
            "type": "scatter"
           }
          ],
          "scatter3d": [
           {
            "line": {
             "colorbar": {
              "outlinewidth": 0,
              "ticks": ""
             }
            },
            "marker": {
             "colorbar": {
              "outlinewidth": 0,
              "ticks": ""
             }
            },
            "type": "scatter3d"
           }
          ],
          "scattercarpet": [
           {
            "marker": {
             "colorbar": {
              "outlinewidth": 0,
              "ticks": ""
             }
            },
            "type": "scattercarpet"
           }
          ],
          "scattergeo": [
           {
            "marker": {
             "colorbar": {
              "outlinewidth": 0,
              "ticks": ""
             }
            },
            "type": "scattergeo"
           }
          ],
          "scattergl": [
           {
            "marker": {
             "colorbar": {
              "outlinewidth": 0,
              "ticks": ""
             }
            },
            "type": "scattergl"
           }
          ],
          "scattermapbox": [
           {
            "marker": {
             "colorbar": {
              "outlinewidth": 0,
              "ticks": ""
             }
            },
            "type": "scattermapbox"
           }
          ],
          "scatterpolar": [
           {
            "marker": {
             "colorbar": {
              "outlinewidth": 0,
              "ticks": ""
             }
            },
            "type": "scatterpolar"
           }
          ],
          "scatterpolargl": [
           {
            "marker": {
             "colorbar": {
              "outlinewidth": 0,
              "ticks": ""
             }
            },
            "type": "scatterpolargl"
           }
          ],
          "scatterternary": [
           {
            "marker": {
             "colorbar": {
              "outlinewidth": 0,
              "ticks": ""
             }
            },
            "type": "scatterternary"
           }
          ],
          "surface": [
           {
            "colorbar": {
             "outlinewidth": 0,
             "ticks": ""
            },
            "colorscale": [
             [
              0,
              "#0d0887"
             ],
             [
              0.1111111111111111,
              "#46039f"
             ],
             [
              0.2222222222222222,
              "#7201a8"
             ],
             [
              0.3333333333333333,
              "#9c179e"
             ],
             [
              0.4444444444444444,
              "#bd3786"
             ],
             [
              0.5555555555555556,
              "#d8576b"
             ],
             [
              0.6666666666666666,
              "#ed7953"
             ],
             [
              0.7777777777777778,
              "#fb9f3a"
             ],
             [
              0.8888888888888888,
              "#fdca26"
             ],
             [
              1,
              "#f0f921"
             ]
            ],
            "type": "surface"
           }
          ],
          "table": [
           {
            "cells": {
             "fill": {
              "color": "#EBF0F8"
             },
             "line": {
              "color": "white"
             }
            },
            "header": {
             "fill": {
              "color": "#C8D4E3"
             },
             "line": {
              "color": "white"
             }
            },
            "type": "table"
           }
          ]
         },
         "layout": {
          "annotationdefaults": {
           "arrowcolor": "#2a3f5f",
           "arrowhead": 0,
           "arrowwidth": 1
          },
          "autotypenumbers": "strict",
          "coloraxis": {
           "colorbar": {
            "outlinewidth": 0,
            "ticks": ""
           }
          },
          "colorscale": {
           "diverging": [
            [
             0,
             "#8e0152"
            ],
            [
             0.1,
             "#c51b7d"
            ],
            [
             0.2,
             "#de77ae"
            ],
            [
             0.3,
             "#f1b6da"
            ],
            [
             0.4,
             "#fde0ef"
            ],
            [
             0.5,
             "#f7f7f7"
            ],
            [
             0.6,
             "#e6f5d0"
            ],
            [
             0.7,
             "#b8e186"
            ],
            [
             0.8,
             "#7fbc41"
            ],
            [
             0.9,
             "#4d9221"
            ],
            [
             1,
             "#276419"
            ]
           ],
           "sequential": [
            [
             0,
             "#0d0887"
            ],
            [
             0.1111111111111111,
             "#46039f"
            ],
            [
             0.2222222222222222,
             "#7201a8"
            ],
            [
             0.3333333333333333,
             "#9c179e"
            ],
            [
             0.4444444444444444,
             "#bd3786"
            ],
            [
             0.5555555555555556,
             "#d8576b"
            ],
            [
             0.6666666666666666,
             "#ed7953"
            ],
            [
             0.7777777777777778,
             "#fb9f3a"
            ],
            [
             0.8888888888888888,
             "#fdca26"
            ],
            [
             1,
             "#f0f921"
            ]
           ],
           "sequentialminus": [
            [
             0,
             "#0d0887"
            ],
            [
             0.1111111111111111,
             "#46039f"
            ],
            [
             0.2222222222222222,
             "#7201a8"
            ],
            [
             0.3333333333333333,
             "#9c179e"
            ],
            [
             0.4444444444444444,
             "#bd3786"
            ],
            [
             0.5555555555555556,
             "#d8576b"
            ],
            [
             0.6666666666666666,
             "#ed7953"
            ],
            [
             0.7777777777777778,
             "#fb9f3a"
            ],
            [
             0.8888888888888888,
             "#fdca26"
            ],
            [
             1,
             "#f0f921"
            ]
           ]
          },
          "colorway": [
           "#636efa",
           "#EF553B",
           "#00cc96",
           "#ab63fa",
           "#FFA15A",
           "#19d3f3",
           "#FF6692",
           "#B6E880",
           "#FF97FF",
           "#FECB52"
          ],
          "font": {
           "color": "#2a3f5f"
          },
          "geo": {
           "bgcolor": "white",
           "lakecolor": "white",
           "landcolor": "#E5ECF6",
           "showlakes": true,
           "showland": true,
           "subunitcolor": "white"
          },
          "hoverlabel": {
           "align": "left"
          },
          "hovermode": "closest",
          "mapbox": {
           "style": "light"
          },
          "paper_bgcolor": "white",
          "plot_bgcolor": "#E5ECF6",
          "polar": {
           "angularaxis": {
            "gridcolor": "white",
            "linecolor": "white",
            "ticks": ""
           },
           "bgcolor": "#E5ECF6",
           "radialaxis": {
            "gridcolor": "white",
            "linecolor": "white",
            "ticks": ""
           }
          },
          "scene": {
           "xaxis": {
            "backgroundcolor": "#E5ECF6",
            "gridcolor": "white",
            "gridwidth": 2,
            "linecolor": "white",
            "showbackground": true,
            "ticks": "",
            "zerolinecolor": "white"
           },
           "yaxis": {
            "backgroundcolor": "#E5ECF6",
            "gridcolor": "white",
            "gridwidth": 2,
            "linecolor": "white",
            "showbackground": true,
            "ticks": "",
            "zerolinecolor": "white"
           },
           "zaxis": {
            "backgroundcolor": "#E5ECF6",
            "gridcolor": "white",
            "gridwidth": 2,
            "linecolor": "white",
            "showbackground": true,
            "ticks": "",
            "zerolinecolor": "white"
           }
          },
          "shapedefaults": {
           "line": {
            "color": "#2a3f5f"
           }
          },
          "ternary": {
           "aaxis": {
            "gridcolor": "white",
            "linecolor": "white",
            "ticks": ""
           },
           "baxis": {
            "gridcolor": "white",
            "linecolor": "white",
            "ticks": ""
           },
           "bgcolor": "#E5ECF6",
           "caxis": {
            "gridcolor": "white",
            "linecolor": "white",
            "ticks": ""
           }
          },
          "title": {
           "x": 0.05
          },
          "xaxis": {
           "automargin": true,
           "gridcolor": "white",
           "linecolor": "white",
           "ticks": "",
           "title": {
            "standoff": 15
           },
           "zerolinecolor": "white",
           "zerolinewidth": 2
          },
          "yaxis": {
           "automargin": true,
           "gridcolor": "white",
           "linecolor": "white",
           "ticks": "",
           "title": {
            "standoff": 15
           },
           "zerolinecolor": "white",
           "zerolinewidth": 2
          }
         }
        },
        "title": {
         "text": "First 3 principal components of inceptionv3_pca's feature set"
        }
       }
      }
     },
     "metadata": {},
     "output_type": "display_data"
    },
    {
     "data": {
      "application/vnd.plotly.v1+json": {
       "config": {
        "plotlyServerURL": "https://plot.ly"
       },
       "data": [
        {
         "marker": {
          "opacity": 0.8,
          "size": 4
         },
         "mode": "markers",
         "name": "ADI",
         "type": "scatter3d",
         "x": [
          3.5528178215026855,
          -62.199581146240234,
          -45.40657424926758,
          -68.95060729980469,
          -49.19501495361328,
          -106.8216781616211,
          -55.63591003417969,
          -44.881019592285156,
          -28.98640251159668,
          -100.83082580566406,
          -72.47393798828125,
          -59.5177116394043,
          -59.84120559692383,
          -45.79460144042969,
          -118.60225677490234,
          -42.48987579345703,
          -75.1707534790039,
          -108.68812561035156,
          -87.38125610351562,
          -119.1864013671875
         ],
         "y": [
          130.4864044189453,
          135.99224853515625,
          152.5175323486328,
          172.81605529785156,
          39.693538665771484,
          113.52945709228516,
          150.59742736816406,
          150.36627197265625,
          122.86595916748047,
          98.58250427246094,
          161.54727172851562,
          103.91300964355469,
          141.1721649169922,
          176.05209350585938,
          71.01167297363281,
          148.09910583496094,
          108.68074798583984,
          34.47460174560547,
          114.15682220458984,
          163.7283477783203
         ],
         "z": [
          -6.111663818359375,
          103.58980560302734,
          54.566646575927734,
          80.28276824951172,
          53.88888931274414,
          131.618896484375,
          24.356792449951172,
          30.014219284057617,
          75.94746398925781,
          54.90876770019531,
          104.12947082519531,
          62.24267578125,
          65.82298278808594,
          54.17677307128906,
          48.42878341674805,
          33.35859680175781,
          33.61027908325195,
          32.463523864746094,
          82.89149475097656,
          109.13554382324219
         ]
        },
        {
         "marker": {
          "opacity": 0.8,
          "size": 4
         },
         "mode": "markers",
         "name": "BACK",
         "type": "scatter3d",
         "x": [
          25.864513397216797,
          -3.1971781253814697,
          26.015132904052734,
          23.354740142822266,
          9.383590698242188,
          18.04896354675293,
          39.09554672241211,
          31.76459503173828,
          14.92629623413086,
          26.81549072265625,
          20.814804077148438,
          28.526817321777344,
          41.35577392578125,
          11.7437162399292,
          21.60190200805664,
          16.337411880493164,
          21.90045738220215,
          14.487849235534668,
          21.514219284057617,
          17.587039947509766,
          18.89478302001953,
          16.41989517211914,
          19.44512367248535,
          29.912094116210938,
          41.26679611206055,
          38.868656158447266,
          22.087650299072266,
          19.26605987548828,
          17.199325561523438
         ],
         "y": [
          95.12171173095703,
          43.03782272338867,
          80.78248596191406,
          68.36908721923828,
          77.7581558227539,
          91.3154296875,
          30.21287727355957,
          12.98569393157959,
          96.13300323486328,
          94.5243911743164,
          100.36341857910156,
          94.78975677490234,
          37.60037612915039,
          85.26615905761719,
          95.8180923461914,
          108.19898223876953,
          96.61077117919922,
          93.23687744140625,
          93.24404907226562,
          90.61785125732422,
          91.06100463867188,
          93.83968353271484,
          94.47238159179688,
          74.45982360839844,
          71.46595764160156,
          75.49127197265625,
          97.09016418457031,
          97.20109558105469,
          96.4180679321289
         ],
         "z": [
          -83.837158203125,
          -60.900718688964844,
          -59.59785461425781,
          -70.069091796875,
          -39.767337799072266,
          -31.041017532348633,
          -41.40291976928711,
          5.70501708984375,
          -53.08057403564453,
          -64.11200714111328,
          -64.09602355957031,
          -62.89966583251953,
          -59.66387176513672,
          -32.08727264404297,
          -51.139591217041016,
          -54.47958755493164,
          -63.79420471191406,
          -65.04691314697266,
          -55.66459274291992,
          -65.49510955810547,
          -46.06852722167969,
          -65.32674407958984,
          -60.50445556640625,
          -49.92316436767578,
          -69.25898742675781,
          -55.233917236328125,
          -48.603126525878906,
          -66.81631469726562,
          -36.93900680541992
         ]
        },
        {
         "marker": {
          "opacity": 0.8,
          "size": 4
         },
         "mode": "markers",
         "name": "DEB",
         "type": "scatter3d",
         "x": [
          58.18976974487305,
          -4.648479461669922,
          -49.28296661376953,
          25.021724700927734,
          -5.383533000946045,
          77.73233795166016,
          74.93040466308594,
          24.504209518432617,
          24.014039993286133,
          70.50689697265625,
          54.78232192993164,
          99.16503143310547,
          8.75940990447998,
          -19.3094425201416,
          43.722293853759766,
          39.896663665771484,
          28.434024810791016,
          35.17878341674805,
          109.67900085449219,
          -20.25188636779785,
          76.37571716308594
         ],
         "y": [
          -12.924558639526367,
          -13.287580490112305,
          -55.031063079833984,
          -11.983216285705566,
          -67.9668960571289,
          -65.93036651611328,
          4.880559921264648,
          48.68817138671875,
          13.11336898803711,
          20.965301513671875,
          3.084425449371338,
          -41.67737579345703,
          -64.53533935546875,
          -35.8737678527832,
          -6.6811394691467285,
          -0.24391770362854004,
          18.621461868286133,
          -32.5756721496582,
          -38.567142486572266,
          -21.288219451904297,
          16.376102447509766
         ],
         "z": [
          -40.5581169128418,
          -26.183605194091797,
          2.907116651535034,
          -66.46526336669922,
          -46.776912689208984,
          3.83927321434021,
          -12.478309631347656,
          -84.94950103759766,
          -34.25300979614258,
          -14.385088920593262,
          -23.06667137145996,
          -12.681809425354004,
          -5.845019340515137,
          -34.70741653442383,
          -73.1895751953125,
          -73.93570709228516,
          -43.57667541503906,
          -40.795684814453125,
          19.603370666503906,
          -66.31655883789062,
          -25.28630256652832
         ]
        },
        {
         "marker": {
          "opacity": 0.8,
          "size": 4
         },
         "mode": "markers",
         "name": "LYM",
         "type": "scatter3d",
         "x": [
          181.8733673095703,
          125.57728576660156,
          148.45639038085938,
          109.982177734375,
          147.55172729492188,
          160.51992797851562,
          126.44878387451172,
          194.39903259277344,
          102.91022491455078,
          153.7056427001953,
          179.13970947265625,
          166.69857788085938,
          181.91085815429688,
          174.2590789794922,
          110.83805847167969,
          122.5643539428711,
          182.5226593017578,
          142.4331512451172,
          125.42230224609375,
          135.49205017089844,
          140.67074584960938,
          171.97799682617188,
          115.74008178710938,
          163.0534210205078
         ],
         "y": [
          9.403273582458496,
          -0.04285682737827301,
          -22.55364227294922,
          -8.864252090454102,
          4.80742883682251,
          9.549939155578613,
          2.3936948776245117,
          0.5685060024261475,
          11.009653091430664,
          -7.502480983734131,
          -11.223811149597168,
          -6.120447158813477,
          -1.273191213607788,
          7.459649085998535,
          -28.349510192871094,
          1.8945436477661133,
          -15.026941299438477,
          2.6125645637512207,
          -28.502471923828125,
          -5.951521873474121,
          -9.373851776123047,
          -7.814907550811768,
          -18.532669067382812,
          1.7477805614471436
         ],
         "z": [
          15.584762573242188,
          -7.903061389923096,
          11.017561912536621,
          12.77890682220459,
          -0.7609487771987915,
          1.5024994611740112,
          -17.099323272705078,
          36.407958984375,
          28.49757194519043,
          4.21917200088501,
          30.808176040649414,
          21.62491226196289,
          42.57247543334961,
          65.69857025146484,
          0.24930518865585327,
          -22.528270721435547,
          47.096981048583984,
          2.4645161628723145,
          16.046369552612305,
          23.913330078125,
          23.16420555114746,
          27.14080238342285,
          -2.577610731124878,
          7.825323104858398
         ]
        },
        {
         "marker": {
          "opacity": 0.8,
          "size": 4
         },
         "mode": "markers",
         "name": "MUC",
         "type": "scatter3d",
         "x": [
          30.21284294128418,
          -65.47663116455078,
          -109.46124267578125,
          -61.14038848876953,
          25.550756454467773,
          -76.18716430664062,
          -32.247920989990234,
          -31.86174964904785,
          -66.8653793334961,
          -116.98546600341797,
          -2.899304151535034,
          -51.514862060546875,
          -131.2262725830078,
          -68.35230255126953,
          -96.88886260986328
         ],
         "y": [
          51.36080551147461,
          -25.718854904174805,
          -26.364803314208984,
          56.885074615478516,
          -3.090731620788574,
          -49.03831481933594,
          -75.3994369506836,
          12.780181884765625,
          -39.333213806152344,
          -26.417102813720703,
          -3.6300978660583496,
          -19.951120376586914,
          -78.30436706542969,
          34.48115539550781,
          -48.04847717285156
         ],
         "z": [
          -43.37250900268555,
          -76.85214233398438,
          -76.74800872802734,
          20.022228240966797,
          26.44191551208496,
          -21.442047119140625,
          -71.2120361328125,
          -79.6136474609375,
          -60.444461822509766,
          -47.54585647583008,
          -37.24724197387695,
          -11.539518356323242,
          -20.758190155029297,
          -17.27348518371582,
          -88.99759674072266
         ]
        },
        {
         "marker": {
          "opacity": 0.8,
          "size": 4
         },
         "mode": "markers",
         "name": "MUS",
         "type": "scatter3d",
         "x": [
          -52.25724411010742,
          -3.320347547531128,
          -16.60215187072754,
          -30.068151473999023,
          -53.89087677001953,
          -72.77464294433594,
          -77.63626861572266,
          -61.942962646484375,
          -108.00560760498047,
          -21.181013107299805,
          -38.23221206665039,
          -100.82083892822266,
          -47.548004150390625,
          -14.050127029418945,
          -97.5836181640625,
          -5.636931419372559,
          -111.30712127685547,
          -47.176536560058594,
          -111.09675598144531,
          -73.87396240234375,
          -59.83556365966797,
          -44.97083282470703,
          -49.193843841552734,
          -73.73665618896484
         ],
         "y": [
          -11.48115348815918,
          31.9588623046875,
          16.72354507446289,
          19.35362434387207,
          -40.65956497192383,
          -62.19978332519531,
          -66.84612274169922,
          -33.8255729675293,
          -32.6063117980957,
          -93.063720703125,
          -7.756565093994141,
          -13.710773468017578,
          7.729564189910889,
          8.076762199401855,
          -73.93702697753906,
          58.75079345703125,
          -33.80302810668945,
          9.994853019714355,
          -16.817533493041992,
          1.0989875793457031,
          -43.28248596191406,
          -51.517494201660156,
          -103.5842056274414,
          -18.055490493774414
         ],
         "z": [
          -95.73937225341797,
          -76.66500091552734,
          -62.413143157958984,
          -113.9071273803711,
          -41.4874382019043,
          18.00081443786621,
          -9.878305435180664,
          -52.290645599365234,
          -46.86524963378906,
          4.115769386291504,
          -91.38751220703125,
          -22.64496421813965,
          -88.09651947021484,
          -94.07628631591797,
          -63.13471984863281,
          -4.356758117675781,
          -24.415454864501953,
          39.50752258300781,
          -69.93506622314453,
          -68.1097640991211,
          5.659120559692383,
          -5.3773651123046875,
          70.6078109741211,
          -9.504368782043457
         ]
        },
        {
         "marker": {
          "opacity": 0.8,
          "size": 4
         },
         "mode": "markers",
         "name": "NORM",
         "type": "scatter3d",
         "x": [
          -26.033313751220703,
          22.38256072998047,
          23.680309295654297,
          -49.185211181640625,
          -60.31336212158203,
          39.393795013427734,
          67.19232177734375,
          -9.063045501708984,
          49.7743034362793,
          31.43663787841797,
          5.703850269317627,
          28.258506774902344,
          40.803470611572266
         ],
         "y": [
          -8.949066162109375,
          -40.737571716308594,
          -5.240854263305664,
          -30.83438491821289,
          -81.76156616210938,
          -55.611968994140625,
          -47.50754165649414,
          -26.580684661865234,
          7.476710796356201,
          -13.522357940673828,
          -29.71976661682129,
          -19.285905838012695,
          -6.927491188049316
         ],
         "z": [
          -6.379668712615967,
          4.992425918579102,
          7.17799186706543,
          -19.326353073120117,
          93.66167449951172,
          51.91737747192383,
          -26.080387115478516,
          -35.73123550415039,
          -25.335403442382812,
          10.08299732208252,
          -4.642097473144531,
          54.059635162353516,
          -22.110719680786133
         ]
        },
        {
         "marker": {
          "opacity": 0.8,
          "size": 4
         },
         "mode": "markers",
         "name": "STR",
         "type": "scatter3d",
         "x": [
          -9.164775848388672,
          -38.61021423339844,
          -65.28618621826172,
          -45.27602005004883,
          -38.2374382019043,
          -60.84442138671875,
          -32.24276351928711,
          -56.40230941772461,
          -54.378849029541016,
          -54.777557373046875,
          -53.45806884765625,
          -93.26058959960938,
          -110.44119262695312,
          -40.454551696777344,
          -88.44489288330078,
          -78.82222747802734,
          -52.42623519897461,
          -48.767555236816406
         ],
         "y": [
          -48.96529769897461,
          -69.62921142578125,
          -78.75623321533203,
          -69.73260498046875,
          -19.894088745117188,
          -79.93183898925781,
          -23.4371280670166,
          -65.269775390625,
          -38.41577911376953,
          -33.73765182495117,
          -45.098785400390625,
          -90.89022827148438,
          -146.88682556152344,
          -79.83541870117188,
          -36.900421142578125,
          -71.85636138916016,
          -16.210975646972656,
          -46.19137954711914
         ],
         "z": [
          -54.45820236206055,
          -73.8922348022461,
          5.467257976531982,
          -34.14073944091797,
          -85.11348724365234,
          -20.334928512573242,
          -98.78348541259766,
          -36.0317268371582,
          -93.61921691894531,
          -78.07795715332031,
          -10.70712947845459,
          -20.41010093688965,
          52.36764907836914,
          1.533294677734375,
          -47.08084487915039,
          -63.259254455566406,
          -66.44513702392578,
          50.94114685058594
         ]
        },
        {
         "marker": {
          "opacity": 0.8,
          "size": 4
         },
         "mode": "markers",
         "name": "TUM",
         "type": "scatter3d",
         "x": [
          -26.498653411865234,
          -5.195218563079834,
          -17.58485221862793,
          34.067928314208984,
          20.527667999267578,
          -19.454679489135742,
          33.793006896972656,
          -82.99652099609375,
          27.385093688964844,
          -32.670005798339844,
          8.715981483459473,
          42.80900192260742,
          -7.541316032409668,
          -16.98362922668457,
          -13.457854270935059,
          -18.748733520507812,
          -26.644723892211914,
          -4.139264106750488,
          1.0251034498214722,
          4.445638656616211,
          -65.27645111083984,
          -45.69816589355469,
          44.03853225708008,
          45.23816680908203,
          -3.6315245628356934,
          24.65386962890625,
          -6.091226577758789,
          -24.056795120239258,
          -66.9922103881836,
          -30.320880889892578,
          9.851476669311523,
          -4.800340175628662,
          9.165349960327148,
          -26.4869384765625,
          -27.608131408691406,
          2.074211359024048
         ],
         "y": [
          -63.67755126953125,
          -68.73493194580078,
          -7.539820194244385,
          -32.0439453125,
          -19.66088104248047,
          -3.6216797828674316,
          -42.328556060791016,
          -117.34382629394531,
          -69.49359130859375,
          -71.24995422363281,
          -8.394630432128906,
          -17.547304153442383,
          -79.90000915527344,
          -10.862051963806152,
          -19.641033172607422,
          -49.77617263793945,
          -52.231693267822266,
          -100.80782318115234,
          -105.21117401123047,
          -38.76459503173828,
          -76.1850357055664,
          -53.860103607177734,
          -24.236698150634766,
          -79.92195892333984,
          -9.077670097351074,
          -138.4425811767578,
          -55.16972732543945,
          -17.54731559753418,
          -75.27472686767578,
          -71.9269790649414,
          -3.5692272186279297,
          -77.95659637451172,
          17.378887176513672,
          -60.2153434753418,
          -116.8199462890625,
          -95.84841918945312
         ],
         "z": [
          8.381153106689453,
          31.340545654296875,
          18.314321517944336,
          13.205029487609863,
          19.994096755981445,
          -29.0992488861084,
          6.232997894287109,
          132.1444854736328,
          25.964977264404297,
          111.91969299316406,
          11.468852043151855,
          -32.290775299072266,
          37.47270584106445,
          -36.13797378540039,
          -18.597614288330078,
          47.83888626098633,
          32.574337005615234,
          85.37022399902344,
          112.43016052246094,
          34.027259826660156,
          66.36309051513672,
          42.705772399902344,
          -17.575536727905273,
          20.094242095947266,
          35.418418884277344,
          98.27294921875,
          93.38037872314453,
          40.932960510253906,
          109.0694580078125,
          30.932531356811523,
          27.167587280273438,
          64.32674407958984,
          -56.09922790527344,
          12.184549331665039,
          53.34669494628906,
          74.41416931152344
         ]
        }
       ],
       "layout": {
        "scene": {
         "xaxis": {
          "title": {
           "text": "PC1 axis"
          }
         },
         "yaxis": {
          "title": {
           "text": "PC2 axis"
          }
         },
         "zaxis": {
          "title": {
           "text": "PC3 axis"
          }
         }
        },
        "template": {
         "data": {
          "bar": [
           {
            "error_x": {
             "color": "#2a3f5f"
            },
            "error_y": {
             "color": "#2a3f5f"
            },
            "marker": {
             "line": {
              "color": "#E5ECF6",
              "width": 0.5
             },
             "pattern": {
              "fillmode": "overlay",
              "size": 10,
              "solidity": 0.2
             }
            },
            "type": "bar"
           }
          ],
          "barpolar": [
           {
            "marker": {
             "line": {
              "color": "#E5ECF6",
              "width": 0.5
             },
             "pattern": {
              "fillmode": "overlay",
              "size": 10,
              "solidity": 0.2
             }
            },
            "type": "barpolar"
           }
          ],
          "carpet": [
           {
            "aaxis": {
             "endlinecolor": "#2a3f5f",
             "gridcolor": "white",
             "linecolor": "white",
             "minorgridcolor": "white",
             "startlinecolor": "#2a3f5f"
            },
            "baxis": {
             "endlinecolor": "#2a3f5f",
             "gridcolor": "white",
             "linecolor": "white",
             "minorgridcolor": "white",
             "startlinecolor": "#2a3f5f"
            },
            "type": "carpet"
           }
          ],
          "choropleth": [
           {
            "colorbar": {
             "outlinewidth": 0,
             "ticks": ""
            },
            "type": "choropleth"
           }
          ],
          "contour": [
           {
            "colorbar": {
             "outlinewidth": 0,
             "ticks": ""
            },
            "colorscale": [
             [
              0,
              "#0d0887"
             ],
             [
              0.1111111111111111,
              "#46039f"
             ],
             [
              0.2222222222222222,
              "#7201a8"
             ],
             [
              0.3333333333333333,
              "#9c179e"
             ],
             [
              0.4444444444444444,
              "#bd3786"
             ],
             [
              0.5555555555555556,
              "#d8576b"
             ],
             [
              0.6666666666666666,
              "#ed7953"
             ],
             [
              0.7777777777777778,
              "#fb9f3a"
             ],
             [
              0.8888888888888888,
              "#fdca26"
             ],
             [
              1,
              "#f0f921"
             ]
            ],
            "type": "contour"
           }
          ],
          "contourcarpet": [
           {
            "colorbar": {
             "outlinewidth": 0,
             "ticks": ""
            },
            "type": "contourcarpet"
           }
          ],
          "heatmap": [
           {
            "colorbar": {
             "outlinewidth": 0,
             "ticks": ""
            },
            "colorscale": [
             [
              0,
              "#0d0887"
             ],
             [
              0.1111111111111111,
              "#46039f"
             ],
             [
              0.2222222222222222,
              "#7201a8"
             ],
             [
              0.3333333333333333,
              "#9c179e"
             ],
             [
              0.4444444444444444,
              "#bd3786"
             ],
             [
              0.5555555555555556,
              "#d8576b"
             ],
             [
              0.6666666666666666,
              "#ed7953"
             ],
             [
              0.7777777777777778,
              "#fb9f3a"
             ],
             [
              0.8888888888888888,
              "#fdca26"
             ],
             [
              1,
              "#f0f921"
             ]
            ],
            "type": "heatmap"
           }
          ],
          "heatmapgl": [
           {
            "colorbar": {
             "outlinewidth": 0,
             "ticks": ""
            },
            "colorscale": [
             [
              0,
              "#0d0887"
             ],
             [
              0.1111111111111111,
              "#46039f"
             ],
             [
              0.2222222222222222,
              "#7201a8"
             ],
             [
              0.3333333333333333,
              "#9c179e"
             ],
             [
              0.4444444444444444,
              "#bd3786"
             ],
             [
              0.5555555555555556,
              "#d8576b"
             ],
             [
              0.6666666666666666,
              "#ed7953"
             ],
             [
              0.7777777777777778,
              "#fb9f3a"
             ],
             [
              0.8888888888888888,
              "#fdca26"
             ],
             [
              1,
              "#f0f921"
             ]
            ],
            "type": "heatmapgl"
           }
          ],
          "histogram": [
           {
            "marker": {
             "pattern": {
              "fillmode": "overlay",
              "size": 10,
              "solidity": 0.2
             }
            },
            "type": "histogram"
           }
          ],
          "histogram2d": [
           {
            "colorbar": {
             "outlinewidth": 0,
             "ticks": ""
            },
            "colorscale": [
             [
              0,
              "#0d0887"
             ],
             [
              0.1111111111111111,
              "#46039f"
             ],
             [
              0.2222222222222222,
              "#7201a8"
             ],
             [
              0.3333333333333333,
              "#9c179e"
             ],
             [
              0.4444444444444444,
              "#bd3786"
             ],
             [
              0.5555555555555556,
              "#d8576b"
             ],
             [
              0.6666666666666666,
              "#ed7953"
             ],
             [
              0.7777777777777778,
              "#fb9f3a"
             ],
             [
              0.8888888888888888,
              "#fdca26"
             ],
             [
              1,
              "#f0f921"
             ]
            ],
            "type": "histogram2d"
           }
          ],
          "histogram2dcontour": [
           {
            "colorbar": {
             "outlinewidth": 0,
             "ticks": ""
            },
            "colorscale": [
             [
              0,
              "#0d0887"
             ],
             [
              0.1111111111111111,
              "#46039f"
             ],
             [
              0.2222222222222222,
              "#7201a8"
             ],
             [
              0.3333333333333333,
              "#9c179e"
             ],
             [
              0.4444444444444444,
              "#bd3786"
             ],
             [
              0.5555555555555556,
              "#d8576b"
             ],
             [
              0.6666666666666666,
              "#ed7953"
             ],
             [
              0.7777777777777778,
              "#fb9f3a"
             ],
             [
              0.8888888888888888,
              "#fdca26"
             ],
             [
              1,
              "#f0f921"
             ]
            ],
            "type": "histogram2dcontour"
           }
          ],
          "mesh3d": [
           {
            "colorbar": {
             "outlinewidth": 0,
             "ticks": ""
            },
            "type": "mesh3d"
           }
          ],
          "parcoords": [
           {
            "line": {
             "colorbar": {
              "outlinewidth": 0,
              "ticks": ""
             }
            },
            "type": "parcoords"
           }
          ],
          "pie": [
           {
            "automargin": true,
            "type": "pie"
           }
          ],
          "scatter": [
           {
            "fillpattern": {
             "fillmode": "overlay",
             "size": 10,
             "solidity": 0.2
            },
            "type": "scatter"
           }
          ],
          "scatter3d": [
           {
            "line": {
             "colorbar": {
              "outlinewidth": 0,
              "ticks": ""
             }
            },
            "marker": {
             "colorbar": {
              "outlinewidth": 0,
              "ticks": ""
             }
            },
            "type": "scatter3d"
           }
          ],
          "scattercarpet": [
           {
            "marker": {
             "colorbar": {
              "outlinewidth": 0,
              "ticks": ""
             }
            },
            "type": "scattercarpet"
           }
          ],
          "scattergeo": [
           {
            "marker": {
             "colorbar": {
              "outlinewidth": 0,
              "ticks": ""
             }
            },
            "type": "scattergeo"
           }
          ],
          "scattergl": [
           {
            "marker": {
             "colorbar": {
              "outlinewidth": 0,
              "ticks": ""
             }
            },
            "type": "scattergl"
           }
          ],
          "scattermapbox": [
           {
            "marker": {
             "colorbar": {
              "outlinewidth": 0,
              "ticks": ""
             }
            },
            "type": "scattermapbox"
           }
          ],
          "scatterpolar": [
           {
            "marker": {
             "colorbar": {
              "outlinewidth": 0,
              "ticks": ""
             }
            },
            "type": "scatterpolar"
           }
          ],
          "scatterpolargl": [
           {
            "marker": {
             "colorbar": {
              "outlinewidth": 0,
              "ticks": ""
             }
            },
            "type": "scatterpolargl"
           }
          ],
          "scatterternary": [
           {
            "marker": {
             "colorbar": {
              "outlinewidth": 0,
              "ticks": ""
             }
            },
            "type": "scatterternary"
           }
          ],
          "surface": [
           {
            "colorbar": {
             "outlinewidth": 0,
             "ticks": ""
            },
            "colorscale": [
             [
              0,
              "#0d0887"
             ],
             [
              0.1111111111111111,
              "#46039f"
             ],
             [
              0.2222222222222222,
              "#7201a8"
             ],
             [
              0.3333333333333333,
              "#9c179e"
             ],
             [
              0.4444444444444444,
              "#bd3786"
             ],
             [
              0.5555555555555556,
              "#d8576b"
             ],
             [
              0.6666666666666666,
              "#ed7953"
             ],
             [
              0.7777777777777778,
              "#fb9f3a"
             ],
             [
              0.8888888888888888,
              "#fdca26"
             ],
             [
              1,
              "#f0f921"
             ]
            ],
            "type": "surface"
           }
          ],
          "table": [
           {
            "cells": {
             "fill": {
              "color": "#EBF0F8"
             },
             "line": {
              "color": "white"
             }
            },
            "header": {
             "fill": {
              "color": "#C8D4E3"
             },
             "line": {
              "color": "white"
             }
            },
            "type": "table"
           }
          ]
         },
         "layout": {
          "annotationdefaults": {
           "arrowcolor": "#2a3f5f",
           "arrowhead": 0,
           "arrowwidth": 1
          },
          "autotypenumbers": "strict",
          "coloraxis": {
           "colorbar": {
            "outlinewidth": 0,
            "ticks": ""
           }
          },
          "colorscale": {
           "diverging": [
            [
             0,
             "#8e0152"
            ],
            [
             0.1,
             "#c51b7d"
            ],
            [
             0.2,
             "#de77ae"
            ],
            [
             0.3,
             "#f1b6da"
            ],
            [
             0.4,
             "#fde0ef"
            ],
            [
             0.5,
             "#f7f7f7"
            ],
            [
             0.6,
             "#e6f5d0"
            ],
            [
             0.7,
             "#b8e186"
            ],
            [
             0.8,
             "#7fbc41"
            ],
            [
             0.9,
             "#4d9221"
            ],
            [
             1,
             "#276419"
            ]
           ],
           "sequential": [
            [
             0,
             "#0d0887"
            ],
            [
             0.1111111111111111,
             "#46039f"
            ],
            [
             0.2222222222222222,
             "#7201a8"
            ],
            [
             0.3333333333333333,
             "#9c179e"
            ],
            [
             0.4444444444444444,
             "#bd3786"
            ],
            [
             0.5555555555555556,
             "#d8576b"
            ],
            [
             0.6666666666666666,
             "#ed7953"
            ],
            [
             0.7777777777777778,
             "#fb9f3a"
            ],
            [
             0.8888888888888888,
             "#fdca26"
            ],
            [
             1,
             "#f0f921"
            ]
           ],
           "sequentialminus": [
            [
             0,
             "#0d0887"
            ],
            [
             0.1111111111111111,
             "#46039f"
            ],
            [
             0.2222222222222222,
             "#7201a8"
            ],
            [
             0.3333333333333333,
             "#9c179e"
            ],
            [
             0.4444444444444444,
             "#bd3786"
            ],
            [
             0.5555555555555556,
             "#d8576b"
            ],
            [
             0.6666666666666666,
             "#ed7953"
            ],
            [
             0.7777777777777778,
             "#fb9f3a"
            ],
            [
             0.8888888888888888,
             "#fdca26"
            ],
            [
             1,
             "#f0f921"
            ]
           ]
          },
          "colorway": [
           "#636efa",
           "#EF553B",
           "#00cc96",
           "#ab63fa",
           "#FFA15A",
           "#19d3f3",
           "#FF6692",
           "#B6E880",
           "#FF97FF",
           "#FECB52"
          ],
          "font": {
           "color": "#2a3f5f"
          },
          "geo": {
           "bgcolor": "white",
           "lakecolor": "white",
           "landcolor": "#E5ECF6",
           "showlakes": true,
           "showland": true,
           "subunitcolor": "white"
          },
          "hoverlabel": {
           "align": "left"
          },
          "hovermode": "closest",
          "mapbox": {
           "style": "light"
          },
          "paper_bgcolor": "white",
          "plot_bgcolor": "#E5ECF6",
          "polar": {
           "angularaxis": {
            "gridcolor": "white",
            "linecolor": "white",
            "ticks": ""
           },
           "bgcolor": "#E5ECF6",
           "radialaxis": {
            "gridcolor": "white",
            "linecolor": "white",
            "ticks": ""
           }
          },
          "scene": {
           "xaxis": {
            "backgroundcolor": "#E5ECF6",
            "gridcolor": "white",
            "gridwidth": 2,
            "linecolor": "white",
            "showbackground": true,
            "ticks": "",
            "zerolinecolor": "white"
           },
           "yaxis": {
            "backgroundcolor": "#E5ECF6",
            "gridcolor": "white",
            "gridwidth": 2,
            "linecolor": "white",
            "showbackground": true,
            "ticks": "",
            "zerolinecolor": "white"
           },
           "zaxis": {
            "backgroundcolor": "#E5ECF6",
            "gridcolor": "white",
            "gridwidth": 2,
            "linecolor": "white",
            "showbackground": true,
            "ticks": "",
            "zerolinecolor": "white"
           }
          },
          "shapedefaults": {
           "line": {
            "color": "#2a3f5f"
           }
          },
          "ternary": {
           "aaxis": {
            "gridcolor": "white",
            "linecolor": "white",
            "ticks": ""
           },
           "baxis": {
            "gridcolor": "white",
            "linecolor": "white",
            "ticks": ""
           },
           "bgcolor": "#E5ECF6",
           "caxis": {
            "gridcolor": "white",
            "linecolor": "white",
            "ticks": ""
           }
          },
          "title": {
           "x": 0.05
          },
          "xaxis": {
           "automargin": true,
           "gridcolor": "white",
           "linecolor": "white",
           "ticks": "",
           "title": {
            "standoff": 15
           },
           "zerolinecolor": "white",
           "zerolinewidth": 2
          },
          "yaxis": {
           "automargin": true,
           "gridcolor": "white",
           "linecolor": "white",
           "ticks": "",
           "title": {
            "standoff": 15
           },
           "zerolinecolor": "white",
           "zerolinewidth": 2
          }
         }
        },
        "title": {
         "text": "First 3 principal components of vgg16_pca's feature set"
        }
       }
      }
     },
     "metadata": {},
     "output_type": "display_data"
    },
    {
     "data": {
      "application/vnd.plotly.v1+json": {
       "config": {
        "plotlyServerURL": "https://plot.ly"
       },
       "data": [
        {
         "marker": {
          "opacity": 0.8,
          "size": 4
         },
         "mode": "markers",
         "name": "ADI",
         "type": "scatter3d",
         "x": [
          8.651405334472656,
          8.968232154846191,
          8.722943305969238,
          8.688459396362305,
          8.996756553649902,
          8.951047897338867,
          8.727184295654297,
          8.5951566696167,
          8.971689224243164,
          8.737366676330566,
          8.774079322814941,
          8.921685218811035,
          8.672588348388672,
          8.60661792755127,
          8.849462509155273,
          8.704778671264648,
          8.880475044250488,
          9.438804626464844,
          8.809271812438965,
          8.830300331115723
         ],
         "y": [
          5.787372589111328,
          6.877857685089111,
          5.837378025054932,
          5.846057891845703,
          6.320103168487549,
          6.244982719421387,
          5.916922092437744,
          5.643403053283691,
          6.844295501708984,
          6.007340431213379,
          5.9597086906433105,
          6.134202480316162,
          5.809494972229004,
          5.643187522888184,
          6.223074913024902,
          5.816380977630615,
          6.168622970581055,
          7.417702674865723,
          6.103999137878418,
          6.104244709014893
         ],
         "z": [
          10.848262786865234,
          8.61902904510498,
          11.13727855682373,
          11.024888038635254,
          10.557738304138184,
          10.860946655273438,
          10.87182331085205,
          10.871129035949707,
          8.782734870910645,
          10.627263069152832,
          11.006396293640137,
          10.874295234680176,
          10.971348762512207,
          11.013897895812988,
          10.804142951965332,
          10.913431167602539,
          10.652477264404297,
          9.47266960144043,
          10.750824928283691,
          10.816352844238281
         ]
        },
        {
         "marker": {
          "opacity": 0.8,
          "size": 4
         },
         "mode": "markers",
         "name": "BACK",
         "type": "scatter3d",
         "x": [
          -2.3098113536834717,
          -1.9612956047058105,
          -1.909471035003662,
          -2.1448862552642822,
          -1.1013180017471313,
          -1.2952888011932373,
          -2.2503910064697266,
          -1.215661883354187,
          -2.5063905715942383,
          -2.6313884258270264,
          -2.1354002952575684,
          4.685398101806641,
          -1.9818284511566162,
          -1.9870399236679077,
          -1.0342247486114502,
          4.635228633880615,
          -2.5370733737945557,
          -2.121540069580078,
          -2.5766093730926514,
          4.72728967666626,
          -2.088675022125244,
          -2.433718681335449,
          -2.219295024871826,
          4.702597618103027,
          -0.48711851239204407,
          -2.063878297805786,
          -2.5414726734161377,
          -2.5351455211639404,
          -1.383708119392395
         ],
         "y": [
          10.024707794189453,
          10.188488960266113,
          9.369491577148438,
          9.556673049926758,
          9.118284225463867,
          8.22436809539795,
          10.438319206237793,
          9.089865684509277,
          9.61458683013916,
          9.676834106445312,
          9.702433586120605,
          -0.48111221194267273,
          10.202555656433105,
          9.365782737731934,
          9.052729606628418,
          0.050055887550115585,
          9.550800323486328,
          9.69086742401123,
          9.443429946899414,
          0.24505408108234406,
          9.068343162536621,
          9.387228012084961,
          9.184896469116211,
          -0.6301055550575256,
          7.625412464141846,
          9.474181175231934,
          9.212141990661621,
          9.467605590820312,
          9.107447624206543
         ],
         "z": [
          5.238749980926514,
          5.292730331420898,
          5.19281530380249,
          5.281287670135498,
          5.112476825714111,
          4.968503475189209,
          5.323843479156494,
          5.125893592834473,
          5.210785865783691,
          5.274013519287109,
          5.2461724281311035,
          3.0947747230529785,
          5.296175956726074,
          5.1778035163879395,
          5.0996994972229,
          3.426737070083618,
          5.232271194458008,
          5.242367744445801,
          5.205261707305908,
          3.598557710647583,
          5.146825313568115,
          5.184179782867432,
          5.161600589752197,
          3.163264036178589,
          4.909087657928467,
          5.241621494293213,
          5.145628452301025,
          5.209434986114502,
          5.12640905380249
         ]
        },
        {
         "marker": {
          "opacity": 0.8,
          "size": 4
         },
         "mode": "markers",
         "name": "DEB",
         "type": "scatter3d",
         "x": [
          9.74740982055664,
          9.36854362487793,
          9.686253547668457,
          9.650087356567383,
          9.661186218261719,
          9.41396427154541,
          9.617033004760742,
          9.792291641235352,
          9.372648239135742,
          9.626412391662598,
          9.725167274475098,
          9.788301467895508,
          9.346800804138184,
          9.283061027526855,
          9.584945678710938,
          9.642280578613281,
          9.5824556350708,
          9.388235092163086,
          9.89852523803711,
          9.594853401184082,
          9.683096885681152
         ],
         "y": [
          8.545124053955078,
          8.655733108520508,
          7.9762067794799805,
          8.43281364440918,
          8.926202774047852,
          8.664031028747559,
          8.578612327575684,
          8.562012672424316,
          8.345611572265625,
          8.524352073669434,
          7.88189172744751,
          8.961787223815918,
          8.595389366149902,
          8.2932767868042,
          8.489333152770996,
          8.403535842895508,
          8.64865779876709,
          8.431891441345215,
          8.095295906066895,
          8.485897064208984,
          8.605790138244629
         ],
         "z": [
          8.639217376708984,
          5.563880443572998,
          9.11068344116211,
          8.801133155822754,
          3.390578508377075,
          5.36453104019165,
          4.66273832321167,
          8.559404373168945,
          6.369504451751709,
          4.606837272644043,
          9.046347618103027,
          3.016688823699951,
          5.865730285644531,
          6.732243537902832,
          8.766585350036621,
          8.837352752685547,
          3.295656204223633,
          6.0847978591918945,
          8.795597076416016,
          8.77504825592041,
          4.261982440948486
         ]
        },
        {
         "marker": {
          "opacity": 0.8,
          "size": 4
         },
         "mode": "markers",
         "name": "LYM",
         "type": "scatter3d",
         "x": [
          10.129464149475098,
          10.340272903442383,
          10.190149307250977,
          10.217312812805176,
          10.160867691040039,
          10.188621520996094,
          9.977527618408203,
          10.17941951751709,
          10.17082691192627,
          10.351513862609863,
          10.11839485168457,
          10.16083812713623,
          10.152047157287598,
          10.169849395751953,
          10.347280502319336,
          10.316967964172363,
          10.167579650878906,
          10.111701965332031,
          10.343716621398926,
          10.311506271362305,
          10.178133010864258,
          10.13538646697998,
          9.75126838684082,
          10.256807327270508
         ],
         "y": [
          9.379559516906738,
          9.422475814819336,
          9.358450889587402,
          9.434991836547852,
          9.38740348815918,
          9.420609474182129,
          9.183526992797852,
          9.296027183532715,
          9.381059646606445,
          9.458532333374023,
          9.341525077819824,
          9.362326622009277,
          9.162402153015137,
          9.072439193725586,
          9.445707321166992,
          9.518939018249512,
          9.199602127075195,
          9.3609037399292,
          9.502997398376465,
          9.325757026672363,
          9.301003456115723,
          9.380160331726074,
          8.96865177154541,
          9.437576293945312
         ],
         "z": [
          -0.3489067256450653,
          -1.3794384002685547,
          -0.4867331087589264,
          -0.8736363649368286,
          -0.4020589292049408,
          -0.6951858997344971,
          1.0463823080062866,
          -0.29431992769241333,
          -0.4984127879142761,
          -1.424210548400879,
          -0.24166929721832275,
          -0.32309404015541077,
          -0.08418966084718704,
          0.13232657313346863,
          -1.4288727045059204,
          -1.4984767436981201,
          -0.16831879317760468,
          -0.24493302404880524,
          -1.512282133102417,
          -0.9742652177810669,
          -0.25643956661224365,
          -0.3656087815761566,
          3.180184841156006,
          -0.9927964806556702
         ]
        },
        {
         "marker": {
          "opacity": 0.8,
          "size": 4
         },
         "mode": "markers",
         "name": "MUC",
         "type": "scatter3d",
         "x": [
          9.303653717041016,
          9.384188652038574,
          9.400824546813965,
          9.202726364135742,
          9.805437088012695,
          9.365649223327637,
          10.203845977783203,
          9.33350944519043,
          9.3494873046875,
          9.452035903930664,
          9.639233589172363,
          9.340471267700195,
          9.388141632080078,
          9.414236068725586,
          9.755194664001465
         ],
         "y": [
          7.492908954620361,
          7.7154974937438965,
          7.473453998565674,
          7.457433700561523,
          8.915499687194824,
          7.72408390045166,
          8.46742057800293,
          7.6140875816345215,
          7.6604814529418945,
          7.546860218048096,
          7.7724504470825195,
          7.774240970611572,
          8.195812225341797,
          7.500420570373535,
          8.220871925354004
         ],
         "z": [
          8.559423446655273,
          8.387290000915527,
          9.061909675598145,
          7.817070960998535,
          2.270153522491455,
          8.07215404510498,
          7.435982704162598,
          8.490866661071777,
          8.257864952087402,
          8.861945152282715,
          8.233391761779785,
          8.159811973571777,
          6.362316131591797,
          9.096654891967773,
          8.332660675048828
         ]
        },
        {
         "marker": {
          "opacity": 0.8,
          "size": 4
         },
         "mode": "markers",
         "name": "MUS",
         "type": "scatter3d",
         "x": [
          6.90642786026001,
          6.902469635009766,
          9.33690357208252,
          9.394375801086426,
          9.373677253723145,
          9.295662879943848,
          9.294475555419922,
          9.35746955871582,
          9.559759140014648,
          9.768457412719727,
          9.467159271240234,
          9.435083389282227,
          9.460287094116211,
          9.4761381149292,
          9.393882751464844,
          8.93846607208252,
          9.545434951782227,
          9.538213729858398,
          9.500479698181152,
          9.54963493347168,
          9.712578773498535,
          9.521285057067871,
          10.063678741455078,
          9.555154800415039
         ],
         "y": [
          8.65888786315918,
          8.669753074645996,
          7.880137920379639,
          7.997762203216553,
          7.914441108703613,
          8.07532024383545,
          7.725491046905518,
          7.827450752258301,
          8.005640983581543,
          8.11817455291748,
          8.307300567626953,
          7.594849586486816,
          8.288677215576172,
          8.197617530822754,
          7.952041149139404,
          6.319681644439697,
          7.9545392990112305,
          7.793031215667725,
          7.973780632019043,
          7.926995754241943,
          7.895120620727539,
          7.985722064971924,
          8.32823371887207,
          8.028477668762207
         ],
         "z": [
          7.133340358734131,
          7.130983829498291,
          7.67862606048584,
          8.197916030883789,
          7.980283737182617,
          6.830708026885986,
          7.923740863800049,
          8.029291152954102,
          9.823909759521484,
          8.782454490661621,
          7.782400131225586,
          9.271425247192383,
          7.758080959320068,
          8.033012390136719,
          8.006731986999512,
          10.64483642578125,
          9.91695785522461,
          9.833196640014648,
          9.900486946105957,
          9.956242561340332,
          9.234271049499512,
          9.767407417297363,
          8.18939208984375,
          9.66331958770752
         ]
        },
        {
         "marker": {
          "opacity": 0.8,
          "size": 4
         },
         "mode": "markers",
         "name": "NORM",
         "type": "scatter3d",
         "x": [
          9.307579040527344,
          9.665897369384766,
          9.425786018371582,
          9.444941520690918,
          9.761146545410156,
          10.153709411621094,
          9.681563377380371,
          9.621005058288574,
          9.650813102722168,
          9.61724853515625,
          9.603978157043457,
          10.124692916870117,
          9.432992935180664
         ],
         "y": [
          7.871515274047852,
          8.796798706054688,
          8.241654396057129,
          8.41019058227539,
          7.847964763641357,
          8.4324951171875,
          8.977338790893555,
          8.848448753356934,
          8.728493690490723,
          8.815267562866211,
          8.752069473266602,
          8.329699516296387,
          8.374893188476562
         ],
         "z": [
          6.621462345123291,
          3.491462230682373,
          5.902756690979004,
          5.170317649841309,
          8.820589065551758,
          7.3652024269104,
          3.0808000564575195,
          2.969844341278076,
          3.7402751445770264,
          2.8436028957366943,
          3.7644145488739014,
          7.606478214263916,
          5.299363613128662
         ]
        },
        {
         "marker": {
          "opacity": 0.8,
          "size": 4
         },
         "mode": "markers",
         "name": "STR",
         "type": "scatter3d",
         "x": [
          9.671381950378418,
          9.35068130493164,
          9.700485229492188,
          9.832019805908203,
          9.2505464553833,
          9.639814376831055,
          8.99593734741211,
          9.922614097595215,
          9.44204044342041,
          9.311895370483398,
          9.685418128967285,
          9.657011985778809,
          9.76055908203125,
          9.764930725097656,
          9.653916358947754,
          9.303505897521973,
          9.589861869812012,
          9.712002754211426
         ],
         "y": [
          8.133655548095703,
          8.138178825378418,
          7.992771625518799,
          8.216503143310547,
          8.560275077819824,
          7.889496803283691,
          8.50527572631836,
          8.242985725402832,
          8.501774787902832,
          8.312499046325684,
          8.07830810546875,
          7.870943546295166,
          8.082670211791992,
          8.01630973815918,
          7.9655022621154785,
          8.298202514648438,
          8.04896068572998,
          8.016030311584473
         ],
         "z": [
          9.004321098327637,
          6.961501121520996,
          8.85461711883545,
          8.465290069580078,
          6.165574073791504,
          9.490935325622559,
          6.589685440063477,
          8.408580780029297,
          6.224124908447266,
          6.685444355010986,
          9.355005264282227,
          9.4157075881958,
          9.10527229309082,
          8.934489250183105,
          9.59658432006836,
          6.7874603271484375,
          9.67946720123291,
          9.0421142578125
         ]
        },
        {
         "marker": {
          "opacity": 0.8,
          "size": 4
         },
         "mode": "markers",
         "name": "TUM",
         "type": "scatter3d",
         "x": [
          9.74933910369873,
          10.218735694885254,
          9.69474983215332,
          9.933087348937988,
          9.704078674316406,
          9.697283744812012,
          9.749001502990723,
          9.924823760986328,
          10.199528694152832,
          10.276349067687988,
          10.05621337890625,
          9.715173721313477,
          10.195859909057617,
          9.472925186157227,
          9.621569633483887,
          10.036274909973145,
          9.962502479553223,
          10.184701919555664,
          9.823566436767578,
          9.644664764404297,
          10.215372085571289,
          9.634566307067871,
          9.807917594909668,
          10.192000389099121,
          10.213302612304688,
          9.823421478271484,
          10.060995101928711,
          10.303821563720703,
          10.070655822753906,
          10.165406227111816,
          10.331016540527344,
          10.0328950881958,
          9.146803855895996,
          10.164924621582031,
          9.957754135131836,
          10.052210807800293
         ],
         "y": [
          8.998048782348633,
          8.432282447814941,
          8.820452690124512,
          8.068963050842285,
          8.854008674621582,
          8.997694969177246,
          9.033456802368164,
          8.125765800476074,
          8.38232421875,
          8.48475456237793,
          8.279301643371582,
          8.990732192993164,
          8.45114517211914,
          8.680744171142578,
          8.88686466217041,
          8.325631141662598,
          8.232039451599121,
          8.471892356872559,
          8.103631019592285,
          8.83083438873291,
          8.426718711853027,
          8.726058959960938,
          8.991080284118652,
          8.529644966125488,
          8.362387657165527,
          8.092996597290039,
          8.202226638793945,
          8.467130661010742,
          8.20881462097168,
          8.434441566467285,
          8.536654472351074,
          8.328897476196289,
          8.657574653625488,
          8.375138282775879,
          8.255888938903809,
          8.301950454711914
         ],
         "z": [
          2.5807223320007324,
          7.417927265167236,
          2.9973907470703125,
          8.314316749572754,
          2.7095725536346436,
          3.085343837738037,
          2.746525526046753,
          8.751204490661621,
          7.3718037605285645,
          7.229547023773193,
          8.098995208740234,
          3.0951297283172607,
          7.641375541687012,
          4.843771934509277,
          3.6874711513519287,
          8.288503646850586,
          8.596247673034668,
          7.4185686111450195,
          8.960872650146484,
          3.3102405071258545,
          7.490504741668701,
          3.318173408508301,
          2.643176555633545,
          7.5019707679748535,
          7.190251350402832,
          8.959330558776855,
          7.802374362945557,
          6.927950859069824,
          7.716084957122803,
          7.780638217926025,
          7.064302921295166,
          8.222212791442871,
          4.428203105926514,
          7.737330436706543,
          8.604446411132812,
          8.284838676452637
         ]
        }
       ],
       "layout": {
        "scene": {
         "xaxis": {
          "title": {
           "text": "PC1 axis"
          }
         },
         "yaxis": {
          "title": {
           "text": "PC2 axis"
          }
         },
         "zaxis": {
          "title": {
           "text": "PC3 axis"
          }
         }
        },
        "template": {
         "data": {
          "bar": [
           {
            "error_x": {
             "color": "#2a3f5f"
            },
            "error_y": {
             "color": "#2a3f5f"
            },
            "marker": {
             "line": {
              "color": "#E5ECF6",
              "width": 0.5
             },
             "pattern": {
              "fillmode": "overlay",
              "size": 10,
              "solidity": 0.2
             }
            },
            "type": "bar"
           }
          ],
          "barpolar": [
           {
            "marker": {
             "line": {
              "color": "#E5ECF6",
              "width": 0.5
             },
             "pattern": {
              "fillmode": "overlay",
              "size": 10,
              "solidity": 0.2
             }
            },
            "type": "barpolar"
           }
          ],
          "carpet": [
           {
            "aaxis": {
             "endlinecolor": "#2a3f5f",
             "gridcolor": "white",
             "linecolor": "white",
             "minorgridcolor": "white",
             "startlinecolor": "#2a3f5f"
            },
            "baxis": {
             "endlinecolor": "#2a3f5f",
             "gridcolor": "white",
             "linecolor": "white",
             "minorgridcolor": "white",
             "startlinecolor": "#2a3f5f"
            },
            "type": "carpet"
           }
          ],
          "choropleth": [
           {
            "colorbar": {
             "outlinewidth": 0,
             "ticks": ""
            },
            "type": "choropleth"
           }
          ],
          "contour": [
           {
            "colorbar": {
             "outlinewidth": 0,
             "ticks": ""
            },
            "colorscale": [
             [
              0,
              "#0d0887"
             ],
             [
              0.1111111111111111,
              "#46039f"
             ],
             [
              0.2222222222222222,
              "#7201a8"
             ],
             [
              0.3333333333333333,
              "#9c179e"
             ],
             [
              0.4444444444444444,
              "#bd3786"
             ],
             [
              0.5555555555555556,
              "#d8576b"
             ],
             [
              0.6666666666666666,
              "#ed7953"
             ],
             [
              0.7777777777777778,
              "#fb9f3a"
             ],
             [
              0.8888888888888888,
              "#fdca26"
             ],
             [
              1,
              "#f0f921"
             ]
            ],
            "type": "contour"
           }
          ],
          "contourcarpet": [
           {
            "colorbar": {
             "outlinewidth": 0,
             "ticks": ""
            },
            "type": "contourcarpet"
           }
          ],
          "heatmap": [
           {
            "colorbar": {
             "outlinewidth": 0,
             "ticks": ""
            },
            "colorscale": [
             [
              0,
              "#0d0887"
             ],
             [
              0.1111111111111111,
              "#46039f"
             ],
             [
              0.2222222222222222,
              "#7201a8"
             ],
             [
              0.3333333333333333,
              "#9c179e"
             ],
             [
              0.4444444444444444,
              "#bd3786"
             ],
             [
              0.5555555555555556,
              "#d8576b"
             ],
             [
              0.6666666666666666,
              "#ed7953"
             ],
             [
              0.7777777777777778,
              "#fb9f3a"
             ],
             [
              0.8888888888888888,
              "#fdca26"
             ],
             [
              1,
              "#f0f921"
             ]
            ],
            "type": "heatmap"
           }
          ],
          "heatmapgl": [
           {
            "colorbar": {
             "outlinewidth": 0,
             "ticks": ""
            },
            "colorscale": [
             [
              0,
              "#0d0887"
             ],
             [
              0.1111111111111111,
              "#46039f"
             ],
             [
              0.2222222222222222,
              "#7201a8"
             ],
             [
              0.3333333333333333,
              "#9c179e"
             ],
             [
              0.4444444444444444,
              "#bd3786"
             ],
             [
              0.5555555555555556,
              "#d8576b"
             ],
             [
              0.6666666666666666,
              "#ed7953"
             ],
             [
              0.7777777777777778,
              "#fb9f3a"
             ],
             [
              0.8888888888888888,
              "#fdca26"
             ],
             [
              1,
              "#f0f921"
             ]
            ],
            "type": "heatmapgl"
           }
          ],
          "histogram": [
           {
            "marker": {
             "pattern": {
              "fillmode": "overlay",
              "size": 10,
              "solidity": 0.2
             }
            },
            "type": "histogram"
           }
          ],
          "histogram2d": [
           {
            "colorbar": {
             "outlinewidth": 0,
             "ticks": ""
            },
            "colorscale": [
             [
              0,
              "#0d0887"
             ],
             [
              0.1111111111111111,
              "#46039f"
             ],
             [
              0.2222222222222222,
              "#7201a8"
             ],
             [
              0.3333333333333333,
              "#9c179e"
             ],
             [
              0.4444444444444444,
              "#bd3786"
             ],
             [
              0.5555555555555556,
              "#d8576b"
             ],
             [
              0.6666666666666666,
              "#ed7953"
             ],
             [
              0.7777777777777778,
              "#fb9f3a"
             ],
             [
              0.8888888888888888,
              "#fdca26"
             ],
             [
              1,
              "#f0f921"
             ]
            ],
            "type": "histogram2d"
           }
          ],
          "histogram2dcontour": [
           {
            "colorbar": {
             "outlinewidth": 0,
             "ticks": ""
            },
            "colorscale": [
             [
              0,
              "#0d0887"
             ],
             [
              0.1111111111111111,
              "#46039f"
             ],
             [
              0.2222222222222222,
              "#7201a8"
             ],
             [
              0.3333333333333333,
              "#9c179e"
             ],
             [
              0.4444444444444444,
              "#bd3786"
             ],
             [
              0.5555555555555556,
              "#d8576b"
             ],
             [
              0.6666666666666666,
              "#ed7953"
             ],
             [
              0.7777777777777778,
              "#fb9f3a"
             ],
             [
              0.8888888888888888,
              "#fdca26"
             ],
             [
              1,
              "#f0f921"
             ]
            ],
            "type": "histogram2dcontour"
           }
          ],
          "mesh3d": [
           {
            "colorbar": {
             "outlinewidth": 0,
             "ticks": ""
            },
            "type": "mesh3d"
           }
          ],
          "parcoords": [
           {
            "line": {
             "colorbar": {
              "outlinewidth": 0,
              "ticks": ""
             }
            },
            "type": "parcoords"
           }
          ],
          "pie": [
           {
            "automargin": true,
            "type": "pie"
           }
          ],
          "scatter": [
           {
            "fillpattern": {
             "fillmode": "overlay",
             "size": 10,
             "solidity": 0.2
            },
            "type": "scatter"
           }
          ],
          "scatter3d": [
           {
            "line": {
             "colorbar": {
              "outlinewidth": 0,
              "ticks": ""
             }
            },
            "marker": {
             "colorbar": {
              "outlinewidth": 0,
              "ticks": ""
             }
            },
            "type": "scatter3d"
           }
          ],
          "scattercarpet": [
           {
            "marker": {
             "colorbar": {
              "outlinewidth": 0,
              "ticks": ""
             }
            },
            "type": "scattercarpet"
           }
          ],
          "scattergeo": [
           {
            "marker": {
             "colorbar": {
              "outlinewidth": 0,
              "ticks": ""
             }
            },
            "type": "scattergeo"
           }
          ],
          "scattergl": [
           {
            "marker": {
             "colorbar": {
              "outlinewidth": 0,
              "ticks": ""
             }
            },
            "type": "scattergl"
           }
          ],
          "scattermapbox": [
           {
            "marker": {
             "colorbar": {
              "outlinewidth": 0,
              "ticks": ""
             }
            },
            "type": "scattermapbox"
           }
          ],
          "scatterpolar": [
           {
            "marker": {
             "colorbar": {
              "outlinewidth": 0,
              "ticks": ""
             }
            },
            "type": "scatterpolar"
           }
          ],
          "scatterpolargl": [
           {
            "marker": {
             "colorbar": {
              "outlinewidth": 0,
              "ticks": ""
             }
            },
            "type": "scatterpolargl"
           }
          ],
          "scatterternary": [
           {
            "marker": {
             "colorbar": {
              "outlinewidth": 0,
              "ticks": ""
             }
            },
            "type": "scatterternary"
           }
          ],
          "surface": [
           {
            "colorbar": {
             "outlinewidth": 0,
             "ticks": ""
            },
            "colorscale": [
             [
              0,
              "#0d0887"
             ],
             [
              0.1111111111111111,
              "#46039f"
             ],
             [
              0.2222222222222222,
              "#7201a8"
             ],
             [
              0.3333333333333333,
              "#9c179e"
             ],
             [
              0.4444444444444444,
              "#bd3786"
             ],
             [
              0.5555555555555556,
              "#d8576b"
             ],
             [
              0.6666666666666666,
              "#ed7953"
             ],
             [
              0.7777777777777778,
              "#fb9f3a"
             ],
             [
              0.8888888888888888,
              "#fdca26"
             ],
             [
              1,
              "#f0f921"
             ]
            ],
            "type": "surface"
           }
          ],
          "table": [
           {
            "cells": {
             "fill": {
              "color": "#EBF0F8"
             },
             "line": {
              "color": "white"
             }
            },
            "header": {
             "fill": {
              "color": "#C8D4E3"
             },
             "line": {
              "color": "white"
             }
            },
            "type": "table"
           }
          ]
         },
         "layout": {
          "annotationdefaults": {
           "arrowcolor": "#2a3f5f",
           "arrowhead": 0,
           "arrowwidth": 1
          },
          "autotypenumbers": "strict",
          "coloraxis": {
           "colorbar": {
            "outlinewidth": 0,
            "ticks": ""
           }
          },
          "colorscale": {
           "diverging": [
            [
             0,
             "#8e0152"
            ],
            [
             0.1,
             "#c51b7d"
            ],
            [
             0.2,
             "#de77ae"
            ],
            [
             0.3,
             "#f1b6da"
            ],
            [
             0.4,
             "#fde0ef"
            ],
            [
             0.5,
             "#f7f7f7"
            ],
            [
             0.6,
             "#e6f5d0"
            ],
            [
             0.7,
             "#b8e186"
            ],
            [
             0.8,
             "#7fbc41"
            ],
            [
             0.9,
             "#4d9221"
            ],
            [
             1,
             "#276419"
            ]
           ],
           "sequential": [
            [
             0,
             "#0d0887"
            ],
            [
             0.1111111111111111,
             "#46039f"
            ],
            [
             0.2222222222222222,
             "#7201a8"
            ],
            [
             0.3333333333333333,
             "#9c179e"
            ],
            [
             0.4444444444444444,
             "#bd3786"
            ],
            [
             0.5555555555555556,
             "#d8576b"
            ],
            [
             0.6666666666666666,
             "#ed7953"
            ],
            [
             0.7777777777777778,
             "#fb9f3a"
            ],
            [
             0.8888888888888888,
             "#fdca26"
            ],
            [
             1,
             "#f0f921"
            ]
           ],
           "sequentialminus": [
            [
             0,
             "#0d0887"
            ],
            [
             0.1111111111111111,
             "#46039f"
            ],
            [
             0.2222222222222222,
             "#7201a8"
            ],
            [
             0.3333333333333333,
             "#9c179e"
            ],
            [
             0.4444444444444444,
             "#bd3786"
            ],
            [
             0.5555555555555556,
             "#d8576b"
            ],
            [
             0.6666666666666666,
             "#ed7953"
            ],
            [
             0.7777777777777778,
             "#fb9f3a"
            ],
            [
             0.8888888888888888,
             "#fdca26"
            ],
            [
             1,
             "#f0f921"
            ]
           ]
          },
          "colorway": [
           "#636efa",
           "#EF553B",
           "#00cc96",
           "#ab63fa",
           "#FFA15A",
           "#19d3f3",
           "#FF6692",
           "#B6E880",
           "#FF97FF",
           "#FECB52"
          ],
          "font": {
           "color": "#2a3f5f"
          },
          "geo": {
           "bgcolor": "white",
           "lakecolor": "white",
           "landcolor": "#E5ECF6",
           "showlakes": true,
           "showland": true,
           "subunitcolor": "white"
          },
          "hoverlabel": {
           "align": "left"
          },
          "hovermode": "closest",
          "mapbox": {
           "style": "light"
          },
          "paper_bgcolor": "white",
          "plot_bgcolor": "#E5ECF6",
          "polar": {
           "angularaxis": {
            "gridcolor": "white",
            "linecolor": "white",
            "ticks": ""
           },
           "bgcolor": "#E5ECF6",
           "radialaxis": {
            "gridcolor": "white",
            "linecolor": "white",
            "ticks": ""
           }
          },
          "scene": {
           "xaxis": {
            "backgroundcolor": "#E5ECF6",
            "gridcolor": "white",
            "gridwidth": 2,
            "linecolor": "white",
            "showbackground": true,
            "ticks": "",
            "zerolinecolor": "white"
           },
           "yaxis": {
            "backgroundcolor": "#E5ECF6",
            "gridcolor": "white",
            "gridwidth": 2,
            "linecolor": "white",
            "showbackground": true,
            "ticks": "",
            "zerolinecolor": "white"
           },
           "zaxis": {
            "backgroundcolor": "#E5ECF6",
            "gridcolor": "white",
            "gridwidth": 2,
            "linecolor": "white",
            "showbackground": true,
            "ticks": "",
            "zerolinecolor": "white"
           }
          },
          "shapedefaults": {
           "line": {
            "color": "#2a3f5f"
           }
          },
          "ternary": {
           "aaxis": {
            "gridcolor": "white",
            "linecolor": "white",
            "ticks": ""
           },
           "baxis": {
            "gridcolor": "white",
            "linecolor": "white",
            "ticks": ""
           },
           "bgcolor": "#E5ECF6",
           "caxis": {
            "gridcolor": "white",
            "linecolor": "white",
            "ticks": ""
           }
          },
          "title": {
           "x": 0.05
          },
          "xaxis": {
           "automargin": true,
           "gridcolor": "white",
           "linecolor": "white",
           "ticks": "",
           "title": {
            "standoff": 15
           },
           "zerolinecolor": "white",
           "zerolinewidth": 2
          },
          "yaxis": {
           "automargin": true,
           "gridcolor": "white",
           "linecolor": "white",
           "ticks": "",
           "title": {
            "standoff": 15
           },
           "zerolinecolor": "white",
           "zerolinewidth": 2
          }
         }
        },
        "title": {
         "text": "First 3 principal components of pge_umap's feature set"
        }
       }
      }
     },
     "metadata": {},
     "output_type": "display_data"
    },
    {
     "data": {
      "application/vnd.plotly.v1+json": {
       "config": {
        "plotlyServerURL": "https://plot.ly"
       },
       "data": [
        {
         "marker": {
          "opacity": 0.8,
          "size": 4
         },
         "mode": "markers",
         "name": "ADI",
         "type": "scatter3d",
         "x": [
          9.598511695861816,
          9.736810684204102,
          9.642394065856934,
          9.69780158996582,
          9.79749870300293,
          9.718017578125,
          9.644013404846191,
          9.656081199645996,
          9.744033813476562,
          9.740280151367188,
          9.734694480895996,
          9.774087905883789,
          9.684098243713379,
          9.645352363586426,
          9.739721298217773,
          9.65806770324707,
          9.703008651733398,
          10.387920379638672,
          9.659244537353516,
          9.7001314163208
         ],
         "y": [
          9.697550773620605,
          9.677495956420898,
          9.69881820678711,
          9.695211410522461,
          9.70371150970459,
          9.699031829833984,
          9.702725410461426,
          9.704757690429688,
          9.681952476501465,
          9.697744369506836,
          9.705976486206055,
          9.714366912841797,
          9.70157241821289,
          9.704761505126953,
          9.697968482971191,
          9.70434856414795,
          9.704083442687988,
          9.642251968383789,
          9.697027206420898,
          9.700311660766602
         ],
         "z": [
          -0.036822717636823654,
          -0.03184551000595093,
          -0.03690072521567345,
          -0.028426025062799454,
          -0.021183358505368233,
          -0.028619395568966866,
          -0.03330167382955551,
          -0.033758021891117096,
          -0.03646593168377876,
          -0.022741230204701424,
          -0.036735594272613525,
          -0.03250573202967644,
          -0.033894676715135574,
          -0.034517012536525726,
          -0.022879870608448982,
          -0.03425789624452591,
          -0.029253048822283745,
          0.03556622564792633,
          -0.03164586424827576,
          -0.027865517884492874
         ]
        },
        {
         "marker": {
          "opacity": 0.8,
          "size": 4
         },
         "mode": "markers",
         "name": "BACK",
         "type": "scatter3d",
         "x": [
          0.21483562886714935,
          5.696446418762207,
          5.267348766326904,
          5.2305684089660645,
          5.536672115325928,
          1.01085364818573,
          7.590390205383301,
          7.595910549163818,
          0.1320274919271469,
          0.17729219794273376,
          0.09176574647426605,
          8.103145599365234,
          5.698800086975098,
          1.5072635412216187,
          0.0703151673078537,
          8.07475471496582,
          0.18815435469150543,
          0.038285914808511734,
          0.16092896461486816,
          7.5197343826293945,
          0.1099284216761589,
          0.04834859073162079,
          0.1553424447774887,
          8.186054229736328,
          7.275259971618652,
          1.081303358078003,
          0.17207130789756775,
          0.12938138842582703,
          0.12872296571731567
         ],
         "y": [
          10.50920581817627,
          10.040170669555664,
          10.073569297790527,
          10.085138320922852,
          10.069212913513184,
          10.469505310058594,
          9.887165069580078,
          9.881858825683594,
          10.523812294006348,
          10.511427879333496,
          10.510489463806152,
          9.867513656616211,
          10.038503646850586,
          10.368587493896484,
          10.51036262512207,
          9.863662719726562,
          10.520665168762207,
          10.507186889648438,
          10.522527694702148,
          9.873305320739746,
          10.522685050964355,
          10.516368865966797,
          10.5192232131958,
          9.844378471374512,
          9.906218528747559,
          10.428420066833496,
          10.52331829071045,
          10.511992454528809,
          10.52142333984375
         ],
         "z": [
          0.03503592684864998,
          0.02965591475367546,
          0.03081592172384262,
          0.049856964498758316,
          0.055773478001356125,
          0.05702529475092888,
          0.03920777514576912,
          0.03732592985033989,
          0.038243476301431656,
          0.08651705086231232,
          0.0506567656993866,
          0.06845097988843918,
          0.02862323448061943,
          0.06667487323284149,
          0.0343388132750988,
          0.07054360210895538,
          0.0437438078224659,
          0.02041543461382389,
          0.04642093926668167,
          0.081557497382164,
          0.04354400932788849,
          0.03970217704772949,
          0.0719645619392395,
          0.0535450279712677,
          0.07274486124515533,
          0.044439490884542465,
          0.07514499872922897,
          0.0639229565858841,
          0.05699710547924042
         ]
        },
        {
         "marker": {
          "opacity": 0.8,
          "size": 4
         },
         "mode": "markers",
         "name": "DEB",
         "type": "scatter3d",
         "x": [
          10.35207462310791,
          10.367745399475098,
          10.423504829406738,
          10.35117244720459,
          10.366439819335938,
          10.365450859069824,
          10.296991348266602,
          10.349672317504883,
          10.351574897766113,
          10.292673110961914,
          10.382858276367188,
          10.176645278930664,
          10.363755226135254,
          10.362083435058594,
          10.347528457641602,
          10.350099563598633,
          10.358097076416016,
          10.359158515930176,
          10.385136604309082,
          10.351178169250488,
          10.294602394104004
         ],
         "y": [
          9.64330768585205,
          9.642646789550781,
          9.6388521194458,
          9.641761779785156,
          9.643625259399414,
          9.644000053405762,
          9.646263122558594,
          9.642483711242676,
          9.642810821533203,
          9.645212173461914,
          9.632661819458008,
          9.65938663482666,
          9.64279842376709,
          9.64285659790039,
          9.642364501953125,
          9.642024993896484,
          9.64479923248291,
          9.643108367919922,
          9.632966995239258,
          9.641904830932617,
          9.64606761932373
         ],
         "z": [
          0.05165611580014229,
          0.051458463072776794,
          0.037535183131694794,
          0.04887097701430321,
          0.05060870200395584,
          0.050826314836740494,
          0.05354553833603859,
          0.05188431590795517,
          0.05195024982094765,
          0.0554124191403389,
          0.04383813962340355,
          0.04676615074276924,
          0.0514339953660965,
          0.049797650426626205,
          0.04792678728699684,
          0.049743328243494034,
          0.05291873589158058,
          0.05037003010511398,
          0.04230436682701111,
          0.04697433114051819,
          0.05412910506129265
         ]
        },
        {
         "marker": {
          "opacity": 0.8,
          "size": 4
         },
         "mode": "markers",
         "name": "LYM",
         "type": "scatter3d",
         "x": [
          10.042057037353516,
          9.919761657714844,
          9.990299224853516,
          9.945960998535156,
          10.110856056213379,
          10.006598472595215,
          10.150398254394531,
          10.044729232788086,
          10.098467826843262,
          9.935192108154297,
          10.0518798828125,
          10.059484481811523,
          10.092272758483887,
          10.082308769226074,
          9.921061515808105,
          9.933295249938965,
          10.079011917114258,
          10.023835182189941,
          9.924251556396484,
          9.95441722869873,
          10.12938117980957,
          10.096624374389648,
          10.159707069396973,
          9.99898910522461
         ],
         "y": [
          9.663798332214355,
          9.673761367797852,
          9.672853469848633,
          9.67373275756836,
          9.659322738647461,
          9.667946815490723,
          9.660873413085938,
          9.660612106323242,
          9.660003662109375,
          9.67260456085205,
          9.65578842163086,
          9.663065910339355,
          9.655865669250488,
          9.655989646911621,
          9.670312881469727,
          9.67448902130127,
          9.659854888916016,
          9.666257858276367,
          9.672664642333984,
          9.675006866455078,
          9.6616792678833,
          9.659151077270508,
          9.66015911102295,
          9.668963432312012
         ],
         "z": [
          0.04274250939488411,
          0.036170125007629395,
          0.044616539031267166,
          0.028663398697972298,
          0.0466318242251873,
          0.03418518975377083,
          0.04692811891436577,
          0.04360853135585785,
          0.0396912544965744,
          0.03428061679005623,
          0.03625522553920746,
          0.04600398987531662,
          0.044023189693689346,
          0.042940352112054825,
          0.0347832515835762,
          0.032430753111839294,
          0.03889359161257744,
          0.03068988397717476,
          0.03297264873981476,
          0.029298851266503334,
          0.04739876091480255,
          0.0445311963558197,
          0.04674483835697174,
          0.034539636224508286
         ]
        },
        {
         "marker": {
          "opacity": 0.8,
          "size": 4
         },
         "mode": "markers",
         "name": "MUC",
         "type": "scatter3d",
         "x": [
          10.411728858947754,
          10.430867195129395,
          10.398659706115723,
          10.40815544128418,
          10.427807807922363,
          10.428070068359375,
          10.421526908874512,
          10.433487892150879,
          10.424651145935059,
          10.4344482421875,
          10.428242683410645,
          10.429027557373047,
          10.388538360595703,
          10.436078071594238,
          10.426691055297852
         ],
         "y": [
          9.635138511657715,
          9.641532897949219,
          9.642121315002441,
          9.641508102416992,
          9.635018348693848,
          9.642230987548828,
          9.639405250549316,
          9.636835098266602,
          9.64024829864502,
          9.637104034423828,
          9.63448715209961,
          9.64111042022705,
          9.642719268798828,
          9.637665748596191,
          9.638859748840332
         ],
         "z": [
          0.03805806115269661,
          0.03256416320800781,
          0.040207017213106155,
          0.03275613486766815,
          0.034820154309272766,
          0.03223581239581108,
          0.03836480528116226,
          0.034689761698246,
          0.03274860978126526,
          0.03426080942153931,
          0.034845829010009766,
          0.03296276554465294,
          0.0449628010392189,
          0.0327661894261837,
          0.03775816038250923
         ]
        },
        {
         "marker": {
          "opacity": 0.8,
          "size": 4
         },
         "mode": "markers",
         "name": "MUS",
         "type": "scatter3d",
         "x": [
          10.361016273498535,
          10.371014595031738,
          10.381503105163574,
          10.389261245727539,
          10.398209571838379,
          10.418639183044434,
          10.377974510192871,
          10.377174377441406,
          10.401798248291016,
          10.426204681396484,
          10.391962051391602,
          10.364623069763184,
          10.388694763183594,
          10.386420249938965,
          10.391535758972168,
          10.311929702758789,
          10.389976501464844,
          10.331759452819824,
          10.393033981323242,
          10.385957717895508,
          10.427745819091797,
          10.403274536132812,
          10.440185546875,
          10.401493072509766
         ],
         "y": [
          9.646689414978027,
          9.648446083068848,
          9.641986846923828,
          9.641045570373535,
          9.640813827514648,
          9.641977310180664,
          9.641901016235352,
          9.642395973205566,
          9.645903587341309,
          9.639979362487793,
          9.644501686096191,
          9.642396926879883,
          9.64513111114502,
          9.642007827758789,
          9.641212463378906,
          9.643606185913086,
          9.644804954528809,
          9.64322280883789,
          9.644071578979492,
          9.644384384155273,
          9.638988494873047,
          9.642098426818848,
          9.638134956359863,
          9.644346237182617
         ],
         "z": [
          0.06313621252775192,
          0.05175012722611427,
          0.03944901376962662,
          0.03835815191268921,
          0.03810672089457512,
          0.044630926102399826,
          0.03839907795190811,
          0.03897780179977417,
          0.03794329985976219,
          0.03653602674603462,
          0.044253867119550705,
          0.03508027270436287,
          0.04417112097144127,
          0.03990580141544342,
          0.03888045623898506,
          0.03446988761425018,
          0.04019273817539215,
          0.03538018465042114,
          0.040180426090955734,
          0.04104350134730339,
          0.03659443557262421,
          0.039522286504507065,
          0.040137577801942825,
          0.038778942078351974
         ]
        },
        {
         "marker": {
          "opacity": 0.8,
          "size": 4
         },
         "mode": "markers",
         "name": "NORM",
         "type": "scatter3d",
         "x": [
          10.376218795776367,
          10.369939804077148,
          10.373973846435547,
          10.37364387512207,
          10.438932418823242,
          10.429865837097168,
          10.339533805847168,
          10.353130340576172,
          10.340855598449707,
          10.361257553100586,
          10.3563232421875,
          10.430974960327148,
          10.372650146484375
         ],
         "y": [
          9.651773452758789,
          9.649394989013672,
          9.648910522460938,
          9.648333549499512,
          9.638021469116211,
          9.639244079589844,
          9.650331497192383,
          9.649658203125,
          9.64603042602539,
          9.649580955505371,
          9.648380279541016,
          9.639938354492188,
          9.6491060256958
         ],
         "z": [
          0.055007223039865494,
          0.05196410045027733,
          0.050087254494428635,
          0.050290547311306,
          0.037752967327833176,
          0.04216077923774719,
          0.05003627389669418,
          0.05071399733424187,
          0.052775055170059204,
          0.051035720854997635,
          0.051659613847732544,
          0.04129992797970772,
          0.051402490586042404
         ]
        },
        {
         "marker": {
          "opacity": 0.8,
          "size": 4
         },
         "mode": "markers",
         "name": "STR",
         "type": "scatter3d",
         "x": [
          10.4284086227417,
          10.382898330688477,
          10.432259559631348,
          10.421419143676758,
          10.390856742858887,
          10.431222915649414,
          10.384400367736816,
          10.428705215454102,
          10.390213966369629,
          10.38315200805664,
          10.418368339538574,
          10.413301467895508,
          10.430500984191895,
          10.436585426330566,
          10.399867057800293,
          10.39529800415039,
          10.42891788482666,
          10.43769645690918
         ],
         "y": [
          9.63899040222168,
          9.642616271972656,
          9.638895988464355,
          9.639315605163574,
          9.642145156860352,
          9.638470649719238,
          9.64366626739502,
          9.640079498291016,
          9.642511367797852,
          9.64284610748291,
          9.64063549041748,
          9.640653610229492,
          9.639904975891113,
          9.637954711914062,
          9.642020225524902,
          9.642263412475586,
          9.640657424926758,
          9.639172554016113
         ],
         "z": [
          0.03958367928862572,
          0.047006238251924515,
          0.036324642598629,
          0.03840317577123642,
          0.04605887457728386,
          0.03677283972501755,
          0.04748134687542915,
          0.03591926768422127,
          0.04625467583537102,
          0.04746623337268829,
          0.03908659517765045,
          0.037775881588459015,
          0.036764826625585556,
          0.03711741045117378,
          0.03983958438038826,
          0.04611548036336899,
          0.03385377675294876,
          0.035255562514066696
         ]
        },
        {
         "marker": {
          "opacity": 0.8,
          "size": 4
         },
         "mode": "markers",
         "name": "TUM",
         "type": "scatter3d",
         "x": [
          10.37736988067627,
          10.435630798339844,
          10.3719482421875,
          10.424760818481445,
          10.334775924682617,
          10.374519348144531,
          10.369184494018555,
          10.436494827270508,
          10.427299499511719,
          10.438538551330566,
          10.42531681060791,
          10.347784042358398,
          10.420073509216309,
          10.367365837097168,
          10.37402629852295,
          10.434378623962402,
          10.430360794067383,
          10.435741424560547,
          10.430625915527344,
          10.357427597045898,
          10.43286418914795,
          10.428214073181152,
          10.34909725189209,
          10.419072151184082,
          10.425589561462402,
          10.42945671081543,
          10.43050479888916,
          10.438661575317383,
          10.434481620788574,
          10.42635440826416,
          10.434834480285645,
          10.372882843017578,
          10.377008438110352,
          10.434602737426758,
          10.436563491821289,
          10.430804252624512
         ],
         "y": [
          9.643251419067383,
          9.635751724243164,
          9.643306732177734,
          9.63593864440918,
          9.646356582641602,
          9.643614768981934,
          9.6439208984375,
          9.635172843933105,
          9.636835098266602,
          9.634021759033203,
          9.634885787963867,
          9.648935317993164,
          9.636761665344238,
          9.645373344421387,
          9.643719673156738,
          9.635369300842285,
          9.636491775512695,
          9.63788890838623,
          9.636385917663574,
          9.643306732177734,
          9.635851860046387,
          9.634542465209961,
          9.646539688110352,
          9.637131690979004,
          9.635649681091309,
          9.637150764465332,
          9.638068199157715,
          9.634528160095215,
          9.635226249694824,
          9.636028289794922,
          9.633380889892578,
          9.644689559936523,
          9.644427299499512,
          9.63609790802002,
          9.634639739990234,
          9.637726783752441
         ],
         "z": [
          0.05071302875876427,
          0.04533590376377106,
          0.050976961851119995,
          0.04529626667499542,
          0.05223061144351959,
          0.051299236714839935,
          0.05070764943957329,
          0.04314357042312622,
          0.04446522518992424,
          0.046377141028642654,
          0.045698028057813644,
          0.05071147903800011,
          0.04594870284199715,
          0.05047978088259697,
          0.050899703055620193,
          0.04252514988183975,
          0.04273148998618126,
          0.04272037371993065,
          0.04188062623143196,
          0.052044566720724106,
          0.045623529702425,
          0.04699614644050598,
          0.0516551174223423,
          0.04571129009127617,
          0.04618265479803085,
          0.041142504662275314,
          0.041539911180734634,
          0.04707866162061691,
          0.04538407921791077,
          0.04586426541209221,
          0.04824034124612808,
          0.05037765949964523,
          0.05302339792251587,
          0.045168161392211914,
          0.04327424243092537,
          0.0431133434176445
         ]
        }
       ],
       "layout": {
        "scene": {
         "xaxis": {
          "title": {
           "text": "PC1 axis"
          }
         },
         "yaxis": {
          "title": {
           "text": "PC2 axis"
          }
         },
         "zaxis": {
          "title": {
           "text": "PC3 axis"
          }
         }
        },
        "template": {
         "data": {
          "bar": [
           {
            "error_x": {
             "color": "#2a3f5f"
            },
            "error_y": {
             "color": "#2a3f5f"
            },
            "marker": {
             "line": {
              "color": "#E5ECF6",
              "width": 0.5
             },
             "pattern": {
              "fillmode": "overlay",
              "size": 10,
              "solidity": 0.2
             }
            },
            "type": "bar"
           }
          ],
          "barpolar": [
           {
            "marker": {
             "line": {
              "color": "#E5ECF6",
              "width": 0.5
             },
             "pattern": {
              "fillmode": "overlay",
              "size": 10,
              "solidity": 0.2
             }
            },
            "type": "barpolar"
           }
          ],
          "carpet": [
           {
            "aaxis": {
             "endlinecolor": "#2a3f5f",
             "gridcolor": "white",
             "linecolor": "white",
             "minorgridcolor": "white",
             "startlinecolor": "#2a3f5f"
            },
            "baxis": {
             "endlinecolor": "#2a3f5f",
             "gridcolor": "white",
             "linecolor": "white",
             "minorgridcolor": "white",
             "startlinecolor": "#2a3f5f"
            },
            "type": "carpet"
           }
          ],
          "choropleth": [
           {
            "colorbar": {
             "outlinewidth": 0,
             "ticks": ""
            },
            "type": "choropleth"
           }
          ],
          "contour": [
           {
            "colorbar": {
             "outlinewidth": 0,
             "ticks": ""
            },
            "colorscale": [
             [
              0,
              "#0d0887"
             ],
             [
              0.1111111111111111,
              "#46039f"
             ],
             [
              0.2222222222222222,
              "#7201a8"
             ],
             [
              0.3333333333333333,
              "#9c179e"
             ],
             [
              0.4444444444444444,
              "#bd3786"
             ],
             [
              0.5555555555555556,
              "#d8576b"
             ],
             [
              0.6666666666666666,
              "#ed7953"
             ],
             [
              0.7777777777777778,
              "#fb9f3a"
             ],
             [
              0.8888888888888888,
              "#fdca26"
             ],
             [
              1,
              "#f0f921"
             ]
            ],
            "type": "contour"
           }
          ],
          "contourcarpet": [
           {
            "colorbar": {
             "outlinewidth": 0,
             "ticks": ""
            },
            "type": "contourcarpet"
           }
          ],
          "heatmap": [
           {
            "colorbar": {
             "outlinewidth": 0,
             "ticks": ""
            },
            "colorscale": [
             [
              0,
              "#0d0887"
             ],
             [
              0.1111111111111111,
              "#46039f"
             ],
             [
              0.2222222222222222,
              "#7201a8"
             ],
             [
              0.3333333333333333,
              "#9c179e"
             ],
             [
              0.4444444444444444,
              "#bd3786"
             ],
             [
              0.5555555555555556,
              "#d8576b"
             ],
             [
              0.6666666666666666,
              "#ed7953"
             ],
             [
              0.7777777777777778,
              "#fb9f3a"
             ],
             [
              0.8888888888888888,
              "#fdca26"
             ],
             [
              1,
              "#f0f921"
             ]
            ],
            "type": "heatmap"
           }
          ],
          "heatmapgl": [
           {
            "colorbar": {
             "outlinewidth": 0,
             "ticks": ""
            },
            "colorscale": [
             [
              0,
              "#0d0887"
             ],
             [
              0.1111111111111111,
              "#46039f"
             ],
             [
              0.2222222222222222,
              "#7201a8"
             ],
             [
              0.3333333333333333,
              "#9c179e"
             ],
             [
              0.4444444444444444,
              "#bd3786"
             ],
             [
              0.5555555555555556,
              "#d8576b"
             ],
             [
              0.6666666666666666,
              "#ed7953"
             ],
             [
              0.7777777777777778,
              "#fb9f3a"
             ],
             [
              0.8888888888888888,
              "#fdca26"
             ],
             [
              1,
              "#f0f921"
             ]
            ],
            "type": "heatmapgl"
           }
          ],
          "histogram": [
           {
            "marker": {
             "pattern": {
              "fillmode": "overlay",
              "size": 10,
              "solidity": 0.2
             }
            },
            "type": "histogram"
           }
          ],
          "histogram2d": [
           {
            "colorbar": {
             "outlinewidth": 0,
             "ticks": ""
            },
            "colorscale": [
             [
              0,
              "#0d0887"
             ],
             [
              0.1111111111111111,
              "#46039f"
             ],
             [
              0.2222222222222222,
              "#7201a8"
             ],
             [
              0.3333333333333333,
              "#9c179e"
             ],
             [
              0.4444444444444444,
              "#bd3786"
             ],
             [
              0.5555555555555556,
              "#d8576b"
             ],
             [
              0.6666666666666666,
              "#ed7953"
             ],
             [
              0.7777777777777778,
              "#fb9f3a"
             ],
             [
              0.8888888888888888,
              "#fdca26"
             ],
             [
              1,
              "#f0f921"
             ]
            ],
            "type": "histogram2d"
           }
          ],
          "histogram2dcontour": [
           {
            "colorbar": {
             "outlinewidth": 0,
             "ticks": ""
            },
            "colorscale": [
             [
              0,
              "#0d0887"
             ],
             [
              0.1111111111111111,
              "#46039f"
             ],
             [
              0.2222222222222222,
              "#7201a8"
             ],
             [
              0.3333333333333333,
              "#9c179e"
             ],
             [
              0.4444444444444444,
              "#bd3786"
             ],
             [
              0.5555555555555556,
              "#d8576b"
             ],
             [
              0.6666666666666666,
              "#ed7953"
             ],
             [
              0.7777777777777778,
              "#fb9f3a"
             ],
             [
              0.8888888888888888,
              "#fdca26"
             ],
             [
              1,
              "#f0f921"
             ]
            ],
            "type": "histogram2dcontour"
           }
          ],
          "mesh3d": [
           {
            "colorbar": {
             "outlinewidth": 0,
             "ticks": ""
            },
            "type": "mesh3d"
           }
          ],
          "parcoords": [
           {
            "line": {
             "colorbar": {
              "outlinewidth": 0,
              "ticks": ""
             }
            },
            "type": "parcoords"
           }
          ],
          "pie": [
           {
            "automargin": true,
            "type": "pie"
           }
          ],
          "scatter": [
           {
            "fillpattern": {
             "fillmode": "overlay",
             "size": 10,
             "solidity": 0.2
            },
            "type": "scatter"
           }
          ],
          "scatter3d": [
           {
            "line": {
             "colorbar": {
              "outlinewidth": 0,
              "ticks": ""
             }
            },
            "marker": {
             "colorbar": {
              "outlinewidth": 0,
              "ticks": ""
             }
            },
            "type": "scatter3d"
           }
          ],
          "scattercarpet": [
           {
            "marker": {
             "colorbar": {
              "outlinewidth": 0,
              "ticks": ""
             }
            },
            "type": "scattercarpet"
           }
          ],
          "scattergeo": [
           {
            "marker": {
             "colorbar": {
              "outlinewidth": 0,
              "ticks": ""
             }
            },
            "type": "scattergeo"
           }
          ],
          "scattergl": [
           {
            "marker": {
             "colorbar": {
              "outlinewidth": 0,
              "ticks": ""
             }
            },
            "type": "scattergl"
           }
          ],
          "scattermapbox": [
           {
            "marker": {
             "colorbar": {
              "outlinewidth": 0,
              "ticks": ""
             }
            },
            "type": "scattermapbox"
           }
          ],
          "scatterpolar": [
           {
            "marker": {
             "colorbar": {
              "outlinewidth": 0,
              "ticks": ""
             }
            },
            "type": "scatterpolar"
           }
          ],
          "scatterpolargl": [
           {
            "marker": {
             "colorbar": {
              "outlinewidth": 0,
              "ticks": ""
             }
            },
            "type": "scatterpolargl"
           }
          ],
          "scatterternary": [
           {
            "marker": {
             "colorbar": {
              "outlinewidth": 0,
              "ticks": ""
             }
            },
            "type": "scatterternary"
           }
          ],
          "surface": [
           {
            "colorbar": {
             "outlinewidth": 0,
             "ticks": ""
            },
            "colorscale": [
             [
              0,
              "#0d0887"
             ],
             [
              0.1111111111111111,
              "#46039f"
             ],
             [
              0.2222222222222222,
              "#7201a8"
             ],
             [
              0.3333333333333333,
              "#9c179e"
             ],
             [
              0.4444444444444444,
              "#bd3786"
             ],
             [
              0.5555555555555556,
              "#d8576b"
             ],
             [
              0.6666666666666666,
              "#ed7953"
             ],
             [
              0.7777777777777778,
              "#fb9f3a"
             ],
             [
              0.8888888888888888,
              "#fdca26"
             ],
             [
              1,
              "#f0f921"
             ]
            ],
            "type": "surface"
           }
          ],
          "table": [
           {
            "cells": {
             "fill": {
              "color": "#EBF0F8"
             },
             "line": {
              "color": "white"
             }
            },
            "header": {
             "fill": {
              "color": "#C8D4E3"
             },
             "line": {
              "color": "white"
             }
            },
            "type": "table"
           }
          ]
         },
         "layout": {
          "annotationdefaults": {
           "arrowcolor": "#2a3f5f",
           "arrowhead": 0,
           "arrowwidth": 1
          },
          "autotypenumbers": "strict",
          "coloraxis": {
           "colorbar": {
            "outlinewidth": 0,
            "ticks": ""
           }
          },
          "colorscale": {
           "diverging": [
            [
             0,
             "#8e0152"
            ],
            [
             0.1,
             "#c51b7d"
            ],
            [
             0.2,
             "#de77ae"
            ],
            [
             0.3,
             "#f1b6da"
            ],
            [
             0.4,
             "#fde0ef"
            ],
            [
             0.5,
             "#f7f7f7"
            ],
            [
             0.6,
             "#e6f5d0"
            ],
            [
             0.7,
             "#b8e186"
            ],
            [
             0.8,
             "#7fbc41"
            ],
            [
             0.9,
             "#4d9221"
            ],
            [
             1,
             "#276419"
            ]
           ],
           "sequential": [
            [
             0,
             "#0d0887"
            ],
            [
             0.1111111111111111,
             "#46039f"
            ],
            [
             0.2222222222222222,
             "#7201a8"
            ],
            [
             0.3333333333333333,
             "#9c179e"
            ],
            [
             0.4444444444444444,
             "#bd3786"
            ],
            [
             0.5555555555555556,
             "#d8576b"
            ],
            [
             0.6666666666666666,
             "#ed7953"
            ],
            [
             0.7777777777777778,
             "#fb9f3a"
            ],
            [
             0.8888888888888888,
             "#fdca26"
            ],
            [
             1,
             "#f0f921"
            ]
           ],
           "sequentialminus": [
            [
             0,
             "#0d0887"
            ],
            [
             0.1111111111111111,
             "#46039f"
            ],
            [
             0.2222222222222222,
             "#7201a8"
            ],
            [
             0.3333333333333333,
             "#9c179e"
            ],
            [
             0.4444444444444444,
             "#bd3786"
            ],
            [
             0.5555555555555556,
             "#d8576b"
            ],
            [
             0.6666666666666666,
             "#ed7953"
            ],
            [
             0.7777777777777778,
             "#fb9f3a"
            ],
            [
             0.8888888888888888,
             "#fdca26"
            ],
            [
             1,
             "#f0f921"
            ]
           ]
          },
          "colorway": [
           "#636efa",
           "#EF553B",
           "#00cc96",
           "#ab63fa",
           "#FFA15A",
           "#19d3f3",
           "#FF6692",
           "#B6E880",
           "#FF97FF",
           "#FECB52"
          ],
          "font": {
           "color": "#2a3f5f"
          },
          "geo": {
           "bgcolor": "white",
           "lakecolor": "white",
           "landcolor": "#E5ECF6",
           "showlakes": true,
           "showland": true,
           "subunitcolor": "white"
          },
          "hoverlabel": {
           "align": "left"
          },
          "hovermode": "closest",
          "mapbox": {
           "style": "light"
          },
          "paper_bgcolor": "white",
          "plot_bgcolor": "#E5ECF6",
          "polar": {
           "angularaxis": {
            "gridcolor": "white",
            "linecolor": "white",
            "ticks": ""
           },
           "bgcolor": "#E5ECF6",
           "radialaxis": {
            "gridcolor": "white",
            "linecolor": "white",
            "ticks": ""
           }
          },
          "scene": {
           "xaxis": {
            "backgroundcolor": "#E5ECF6",
            "gridcolor": "white",
            "gridwidth": 2,
            "linecolor": "white",
            "showbackground": true,
            "ticks": "",
            "zerolinecolor": "white"
           },
           "yaxis": {
            "backgroundcolor": "#E5ECF6",
            "gridcolor": "white",
            "gridwidth": 2,
            "linecolor": "white",
            "showbackground": true,
            "ticks": "",
            "zerolinecolor": "white"
           },
           "zaxis": {
            "backgroundcolor": "#E5ECF6",
            "gridcolor": "white",
            "gridwidth": 2,
            "linecolor": "white",
            "showbackground": true,
            "ticks": "",
            "zerolinecolor": "white"
           }
          },
          "shapedefaults": {
           "line": {
            "color": "#2a3f5f"
           }
          },
          "ternary": {
           "aaxis": {
            "gridcolor": "white",
            "linecolor": "white",
            "ticks": ""
           },
           "baxis": {
            "gridcolor": "white",
            "linecolor": "white",
            "ticks": ""
           },
           "bgcolor": "#E5ECF6",
           "caxis": {
            "gridcolor": "white",
            "linecolor": "white",
            "ticks": ""
           }
          },
          "title": {
           "x": 0.05
          },
          "xaxis": {
           "automargin": true,
           "gridcolor": "white",
           "linecolor": "white",
           "ticks": "",
           "title": {
            "standoff": 15
           },
           "zerolinecolor": "white",
           "zerolinewidth": 2
          },
          "yaxis": {
           "automargin": true,
           "gridcolor": "white",
           "linecolor": "white",
           "ticks": "",
           "title": {
            "standoff": 15
           },
           "zerolinecolor": "white",
           "zerolinewidth": 2
          }
         }
        },
        "title": {
         "text": "First 3 principal components of resnet50_umap's feature set"
        }
       }
      }
     },
     "metadata": {},
     "output_type": "display_data"
    },
    {
     "data": {
      "application/vnd.plotly.v1+json": {
       "config": {
        "plotlyServerURL": "https://plot.ly"
       },
       "data": [
        {
         "marker": {
          "opacity": 0.8,
          "size": 4
         },
         "mode": "markers",
         "name": "ADI",
         "type": "scatter3d",
         "x": [
          8.784448623657227,
          9.043883323669434,
          8.762495994567871,
          9.113069534301758,
          10.112456321716309,
          9.307404518127441,
          8.754573822021484,
          8.933187484741211,
          9.017495155334473,
          8.945070266723633,
          8.902609825134277,
          9.240376472473145,
          8.714844703674316,
          8.81241226196289,
          9.500255584716797,
          8.835758209228516,
          9.410303115844727,
          10.322803497314453,
          9.37077808380127,
          9.190483093261719
         ],
         "y": [
          2.6432106494903564,
          3.4576902389526367,
          2.5143275260925293,
          4.069185733795166,
          9.601810455322266,
          4.688129901885986,
          2.419182777404785,
          3.265875816345215,
          4.313488006591797,
          3.539409875869751,
          3.2921550273895264,
          4.67716646194458,
          2.5824925899505615,
          2.879751443862915,
          6.048107624053955,
          3.1506662368774414,
          5.37827205657959,
          9.641908645629883,
          4.785953998565674,
          4.595014572143555
         ],
         "z": [
          9.234790802001953,
          9.802987098693848,
          9.311402320861816,
          9.954591751098633,
          5.360781669616699,
          9.999205589294434,
          9.137017250061035,
          9.7306489944458,
          10.053657531738281,
          9.31773853302002,
          9.615519523620605,
          10.004668235778809,
          9.066561698913574,
          9.30752944946289,
          9.918953895568848,
          9.589407920837402,
          9.652435302734375,
          8.65151596069336,
          9.957242012023926,
          9.85346794128418
         ]
        },
        {
         "marker": {
          "opacity": 0.8,
          "size": 4
         },
         "mode": "markers",
         "name": "BACK",
         "type": "scatter3d",
         "x": [
          -1.9349089860916138,
          -1.6990721225738525,
          -2.6621875762939453,
          -2.386916160583496,
          -2.3423116207122803,
          -1.8106052875518799,
          8.345786094665527,
          9.120064735412598,
          -2.8029770851135254,
          -2.5926833152770996,
          -2.335766553878784,
          8.428936004638672,
          -1.6526954174041748,
          5.772214889526367,
          -1.9722124338150024,
          8.42695426940918,
          -2.7068581581115723,
          -2.4210078716278076,
          -2.7145469188690186,
          6.093278884887695,
          -2.8095593452453613,
          -2.4783148765563965,
          -2.56413197517395,
          8.278719902038574,
          5.916494369506836,
          -2.4684159755706787,
          -2.8901803493499756,
          -2.5343379974365234,
          -2.8400349617004395
         ],
         "y": [
          8.795235633850098,
          8.818106651306152,
          9.25487232208252,
          9.123517036437988,
          9.033447265625,
          8.745182037353516,
          6.0476155281066895,
          7.17559814453125,
          9.318164825439453,
          9.023283004760742,
          8.969194412231445,
          0.5955536365509033,
          8.811951637268066,
          0.4766630232334137,
          8.908869743347168,
          1.5634406805038452,
          9.273421287536621,
          9.062209129333496,
          9.29150104522705,
          0.31168776750564575,
          9.326118469238281,
          9.004127502441406,
          9.004640579223633,
          -0.0948399156332016,
          0.7258128523826599,
          9.086084365844727,
          9.377066612243652,
          9.012797355651855,
          9.340740203857422
         ],
         "z": [
          7.800326347351074,
          7.920802116394043,
          7.3877739906311035,
          7.559298515319824,
          7.53609037399292,
          7.677027225494385,
          11.64400577545166,
          10.815207481384277,
          7.276880741119385,
          7.207311153411865,
          7.4649152755737305,
          7.9537200927734375,
          7.9488654136657715,
          6.8488664627075195,
          7.7755961418151855,
          8.52898120880127,
          7.351408004760742,
          7.456143379211426,
          7.355297088623047,
          6.864579677581787,
          7.269308567047119,
          7.318325519561768,
          7.2121758460998535,
          7.2632622718811035,
          7.106412410736084,
          7.414923191070557,
          7.207802772521973,
          7.260754585266113,
          7.247415542602539
         ]
        },
        {
         "marker": {
          "opacity": 0.8,
          "size": 4
         },
         "mode": "markers",
         "name": "DEB",
         "type": "scatter3d",
         "x": [
          9.899996757507324,
          9.890198707580566,
          10.091001510620117,
          9.782054901123047,
          9.847705841064453,
          10.069868087768555,
          10.229490280151367,
          9.860868453979492,
          9.742149353027344,
          10.06938362121582,
          10.232207298278809,
          10.211462020874023,
          9.633424758911133,
          9.17192268371582,
          9.376991271972656,
          9.889494895935059,
          8.322070121765137,
          9.760268211364746,
          10.223050117492676,
          9.320258140563965,
          10.152214050292969
         ],
         "y": [
          9.510260581970215,
          9.496482849121094,
          9.340560913085938,
          8.603763580322266,
          9.741973876953125,
          10.043505668640137,
          10.635110855102539,
          9.652965545654297,
          8.591750144958496,
          10.006197929382324,
          10.105985641479492,
          11.03606128692627,
          8.894021034240723,
          7.2885284423828125,
          7.548984527587891,
          8.996795654296875,
          6.150923728942871,
          9.163755416870117,
          10.449470520019531,
          7.39691686630249,
          10.408663749694824
         ],
         "z": [
          9.823654174804688,
          9.519603729248047,
          8.262468338012695,
          10.947840690612793,
          8.371685028076172,
          8.736949920654297,
          7.009097099304199,
          8.978689193725586,
          10.38314437866211,
          8.423413276672363,
          6.496243000030518,
          4.5486836433410645,
          10.4926176071167,
          11.16177749633789,
          11.435515403747559,
          10.554069519042969,
          11.55009651184082,
          10.051488876342773,
          2.2242166996002197,
          11.488706588745117,
          7.717730522155762
         ]
        },
        {
         "marker": {
          "opacity": 0.8,
          "size": 4
         },
         "mode": "markers",
         "name": "LYM",
         "type": "scatter3d",
         "x": [
          10.29832649230957,
          10.356744766235352,
          10.352816581726074,
          10.493108749389648,
          10.128666877746582,
          10.386821746826172,
          10.09241008758545,
          10.286952018737793,
          10.233023643493652,
          10.499703407287598,
          10.289566040039062,
          10.29566764831543,
          10.252217292785645,
          10.256467819213867,
          10.452428817749023,
          10.469592094421387,
          10.27482795715332,
          10.114971160888672,
          10.483054161071777,
          10.257933616638184,
          10.244057655334473,
          10.26239013671875,
          9.976123809814453,
          10.346482276916504
         ],
         "y": [
          11.410017967224121,
          10.703614234924316,
          11.485666275024414,
          11.479242324829102,
          10.375329971313477,
          11.47028636932373,
          10.295524597167969,
          11.361611366271973,
          10.842032432556152,
          11.629663467407227,
          11.367786407470703,
          11.369091987609863,
          10.855414390563965,
          10.753375053405762,
          11.386163711547852,
          11.61121940612793,
          11.064967155456543,
          10.640327453613281,
          11.540666580200195,
          10.679239273071289,
          10.750923156738281,
          11.283212661743164,
          10.164093971252441,
          11.386795043945312
         ],
         "z": [
          2.5820846557617188,
          7.3182692527771,
          2.6998538970947266,
          4.5764079093933105,
          7.543560981750488,
          3.488670825958252,
          7.619895935058594,
          2.12019681930542,
          5.5749735832214355,
          3.5000228881835938,
          2.1221389770507812,
          2.3138270378112793,
          6.155178546905518,
          6.48371696472168,
          4.740900993347168,
          3.200498580932617,
          5.0121965408325195,
          5.992806911468506,
          3.980288028717041,
          6.9466776847839355,
          6.179962635040283,
          3.750063896179199,
          7.821088790893555,
          3.263476610183716
         ]
        },
        {
         "marker": {
          "opacity": 0.8,
          "size": 4
         },
         "mode": "markers",
         "name": "MUC",
         "type": "scatter3d",
         "x": [
          8.816046714782715,
          9.963716506958008,
          9.671517372131348,
          8.824277877807617,
          9.484296798706055,
          9.5300874710083,
          10.197619438171387,
          9.221916198730469,
          9.277790069580078,
          9.751714706420898,
          9.976126670837402,
          9.267054557800293,
          10.143407821655273,
          9.91269302368164,
          10.175537109375
         ],
         "y": [
          3.4771018028259277,
          8.90298843383789,
          7.7039570808410645,
          3.261476993560791,
          8.84419059753418,
          7.710370063781738,
          10.331378936767578,
          6.735950946807861,
          7.091057777404785,
          7.87044620513916,
          9.156822204589844,
          7.455904483795166,
          9.847813606262207,
          8.292421340942383,
          10.18835163116455
         ],
         "z": [
          9.815924644470215,
          9.994521141052246,
          10.630038261413574,
          9.304667472839355,
          9.48281478881836,
          10.99499797821045,
          2.353027582168579,
          11.135465621948242,
          11.033385276794434,
          10.607488632202148,
          9.876018524169922,
          11.056756019592285,
          8.860855102539062,
          10.514668464660645,
          3.154111385345459
         ]
        },
        {
         "marker": {
          "opacity": 0.8,
          "size": 4
         },
         "mode": "markers",
         "name": "MUS",
         "type": "scatter3d",
         "x": [
          8.035218238830566,
          8.255273818969727,
          9.733453750610352,
          9.96825122833252,
          10.211897850036621,
          9.768674850463867,
          10.297880172729492,
          10.112167358398438,
          10.271103858947754,
          10.37205696105957,
          9.224970817565918,
          10.192282676696777,
          8.965083122253418,
          9.491434097290039,
          10.090841293334961,
          10.241888999938965,
          9.789542198181152,
          10.090239524841309,
          9.852633476257324,
          9.743809700012207,
          10.241495132446289,
          10.182565689086914,
          10.249832153320312,
          10.130141258239746
         ],
         "y": [
          5.895762920379639,
          6.1961493492126465,
          9.575407981872559,
          8.963226318359375,
          10.292552947998047,
          8.270028114318848,
          9.78672981262207,
          9.973443031311035,
          9.501116752624512,
          10.332189559936523,
          7.864669322967529,
          9.740039825439453,
          7.42181396484375,
          9.009941101074219,
          9.622596740722656,
          10.262628555297852,
          8.228360176086426,
          9.181347846984863,
          8.193659782409668,
          7.953726291656494,
          10.207768440246582,
          9.490188598632812,
          10.320979118347168,
          9.194592475891113
         ],
         "z": [
          11.81538200378418,
          11.733240127563477,
          8.820054054260254,
          9.889591217041016,
          5.190190315246582,
          10.060466766357422,
          8.903557777404785,
          6.307402610778809,
          9.386284828186035,
          6.746494770050049,
          11.003493309020996,
          5.131390571594238,
          11.181907653808594,
          10.220776557922363,
          7.66864538192749,
          3.506868600845337,
          10.710015296936035,
          8.09669017791748,
          10.756131172180176,
          11.211183547973633,
          4.3601837158203125,
          10.033185005187988,
          4.03341007232666,
          9.162582397460938
         ]
        },
        {
         "marker": {
          "opacity": 0.8,
          "size": 4
         },
         "mode": "markers",
         "name": "NORM",
         "type": "scatter3d",
         "x": [
          9.087739944458008,
          9.843392372131348,
          9.275938034057617,
          9.275030136108398,
          10.252981185913086,
          10.2439546585083,
          9.644986152648926,
          9.469220161437988,
          9.663100242614746,
          9.428759574890137,
          9.548251152038574,
          10.2864990234375,
          9.449837684631348
         ],
         "y": [
          6.827253818511963,
          9.404135704040527,
          7.575491428375244,
          7.333976745605469,
          10.279378890991211,
          10.405876159667969,
          9.31883716583252,
          8.367959022521973,
          8.337677001953125,
          8.53909683227539,
          8.2744140625,
          10.499871253967285,
          7.852087020874023
         ],
         "z": [
          10.891335487365723,
          9.300689697265625,
          10.797722816467285,
          10.69791316986084,
          4.656730651855469,
          4.748156547546387,
          9.277227401733398,
          9.912001609802246,
          9.82768440246582,
          9.802449226379395,
          9.974298477172852,
          5.555373191833496,
          10.23067569732666
         ]
        },
        {
         "marker": {
          "opacity": 0.8,
          "size": 4
         },
         "mode": "markers",
         "name": "STR",
         "type": "scatter3d",
         "x": [
          10.093616485595703,
          9.948945045471191,
          10.287002563476562,
          10.283672332763672,
          9.52193546295166,
          10.291352272033691,
          9.457801818847656,
          10.312419891357422,
          9.713214874267578,
          9.424135208129883,
          9.463273048400879,
          10.319408416748047,
          10.25466251373291,
          10.220586776733398,
          10.275668144226074,
          9.184958457946777,
          9.877257347106934,
          10.313763618469238
         ],
         "y": [
          9.484371185302734,
          9.434120178222656,
          10.433830261230469,
          10.440083503723145,
          8.311372756958008,
          10.094082832336426,
          8.617045402526855,
          10.484138488769531,
          8.982925415039062,
          8.198915481567383,
          8.024627685546875,
          10.194490432739258,
          9.851377487182617,
          10.38328742980957,
          9.522089004516602,
          8.002490043640137,
          8.933683395385742,
          10.284797668457031
         ],
         "z": [
          8.670534133911133,
          9.547039031982422,
          5.39530611038208,
          4.369650840759277,
          11.479196548461914,
          4.9188408851623535,
          10.68010425567627,
          3.8409268856048584,
          10.317755699157715,
          10.647072792053223,
          10.821969032287598,
          5.557838439941406,
          7.525345802307129,
          2.8430163860321045,
          9.37570571899414,
          10.83230972290039,
          10.469378471374512,
          4.936008453369141
         ]
        },
        {
         "marker": {
          "opacity": 0.8,
          "size": 4
         },
         "mode": "markers",
         "name": "TUM",
         "type": "scatter3d",
         "x": [
          9.658754348754883,
          10.16191291809082,
          9.909907341003418,
          10.151494026184082,
          9.290093421936035,
          9.274453163146973,
          10.142877578735352,
          10.30258560180664,
          10.17563533782959,
          10.157496452331543,
          10.188267707824707,
          9.783686637878418,
          10.194938659667969,
          9.64276123046875,
          9.381743431091309,
          10.214583396911621,
          10.294297218322754,
          10.21237564086914,
          10.310479164123535,
          9.777392387390137,
          10.188093185424805,
          9.400530815124512,
          9.97098159790039,
          10.185004234313965,
          9.961997985839844,
          10.287169456481934,
          10.133127212524414,
          10.14280891418457,
          10.177870750427246,
          10.167095184326172,
          10.11429500579834,
          10.163252830505371,
          8.261664390563965,
          10.236858367919922,
          10.204819679260254,
          10.161395072937012
         ],
         "y": [
          9.467883110046387,
          10.319091796875,
          9.635822296142578,
          9.751087188720703,
          8.430177688598633,
          8.518953323364258,
          10.322009086608887,
          9.99662971496582,
          10.189741134643555,
          10.154574394226074,
          10.17766284942627,
          9.646245002746582,
          10.27501392364502,
          8.714811325073242,
          8.538286209106445,
          9.986930847167969,
          10.208215713500977,
          10.374062538146973,
          10.364738464355469,
          9.49360466003418,
          10.001338958740234,
          8.385836601257324,
          10.083515167236328,
          10.313292503356934,
          9.807784080505371,
          10.452316284179688,
          9.922991752624512,
          10.447968482971191,
          10.246399879455566,
          10.24832820892334,
          10.065264701843262,
          10.084383964538574,
          6.159921646118164,
          10.418400764465332,
          10.04342269897461,
          10.138021469116211
         ],
         "z": [
          8.755888938903809,
          5.323684215545654,
          8.127556800842285,
          7.864408016204834,
          10.17632007598877,
          10.152737617492676,
          6.341975212097168,
          7.7181572914123535,
          6.026822090148926,
          5.989665985107422,
          4.200558185577393,
          8.813026428222656,
          4.534524440765381,
          10.2249116897583,
          10.012012481689453,
          5.797092914581299,
          5.909251689910889,
          5.769412517547607,
          5.826439380645752,
          8.749539375305176,
          6.19028902053833,
          10.1251802444458,
          7.9197282791137695,
          5.522655487060547,
          8.018534660339355,
          5.291591167449951,
          7.89495849609375,
          5.310534477233887,
          7.718203544616699,
          6.1690287590026855,
          5.878655433654785,
          6.463288307189941,
          11.609477996826172,
          4.762490272521973,
          6.195188045501709,
          6.455672264099121
         ]
        }
       ],
       "layout": {
        "scene": {
         "xaxis": {
          "title": {
           "text": "PC1 axis"
          }
         },
         "yaxis": {
          "title": {
           "text": "PC2 axis"
          }
         },
         "zaxis": {
          "title": {
           "text": "PC3 axis"
          }
         }
        },
        "template": {
         "data": {
          "bar": [
           {
            "error_x": {
             "color": "#2a3f5f"
            },
            "error_y": {
             "color": "#2a3f5f"
            },
            "marker": {
             "line": {
              "color": "#E5ECF6",
              "width": 0.5
             },
             "pattern": {
              "fillmode": "overlay",
              "size": 10,
              "solidity": 0.2
             }
            },
            "type": "bar"
           }
          ],
          "barpolar": [
           {
            "marker": {
             "line": {
              "color": "#E5ECF6",
              "width": 0.5
             },
             "pattern": {
              "fillmode": "overlay",
              "size": 10,
              "solidity": 0.2
             }
            },
            "type": "barpolar"
           }
          ],
          "carpet": [
           {
            "aaxis": {
             "endlinecolor": "#2a3f5f",
             "gridcolor": "white",
             "linecolor": "white",
             "minorgridcolor": "white",
             "startlinecolor": "#2a3f5f"
            },
            "baxis": {
             "endlinecolor": "#2a3f5f",
             "gridcolor": "white",
             "linecolor": "white",
             "minorgridcolor": "white",
             "startlinecolor": "#2a3f5f"
            },
            "type": "carpet"
           }
          ],
          "choropleth": [
           {
            "colorbar": {
             "outlinewidth": 0,
             "ticks": ""
            },
            "type": "choropleth"
           }
          ],
          "contour": [
           {
            "colorbar": {
             "outlinewidth": 0,
             "ticks": ""
            },
            "colorscale": [
             [
              0,
              "#0d0887"
             ],
             [
              0.1111111111111111,
              "#46039f"
             ],
             [
              0.2222222222222222,
              "#7201a8"
             ],
             [
              0.3333333333333333,
              "#9c179e"
             ],
             [
              0.4444444444444444,
              "#bd3786"
             ],
             [
              0.5555555555555556,
              "#d8576b"
             ],
             [
              0.6666666666666666,
              "#ed7953"
             ],
             [
              0.7777777777777778,
              "#fb9f3a"
             ],
             [
              0.8888888888888888,
              "#fdca26"
             ],
             [
              1,
              "#f0f921"
             ]
            ],
            "type": "contour"
           }
          ],
          "contourcarpet": [
           {
            "colorbar": {
             "outlinewidth": 0,
             "ticks": ""
            },
            "type": "contourcarpet"
           }
          ],
          "heatmap": [
           {
            "colorbar": {
             "outlinewidth": 0,
             "ticks": ""
            },
            "colorscale": [
             [
              0,
              "#0d0887"
             ],
             [
              0.1111111111111111,
              "#46039f"
             ],
             [
              0.2222222222222222,
              "#7201a8"
             ],
             [
              0.3333333333333333,
              "#9c179e"
             ],
             [
              0.4444444444444444,
              "#bd3786"
             ],
             [
              0.5555555555555556,
              "#d8576b"
             ],
             [
              0.6666666666666666,
              "#ed7953"
             ],
             [
              0.7777777777777778,
              "#fb9f3a"
             ],
             [
              0.8888888888888888,
              "#fdca26"
             ],
             [
              1,
              "#f0f921"
             ]
            ],
            "type": "heatmap"
           }
          ],
          "heatmapgl": [
           {
            "colorbar": {
             "outlinewidth": 0,
             "ticks": ""
            },
            "colorscale": [
             [
              0,
              "#0d0887"
             ],
             [
              0.1111111111111111,
              "#46039f"
             ],
             [
              0.2222222222222222,
              "#7201a8"
             ],
             [
              0.3333333333333333,
              "#9c179e"
             ],
             [
              0.4444444444444444,
              "#bd3786"
             ],
             [
              0.5555555555555556,
              "#d8576b"
             ],
             [
              0.6666666666666666,
              "#ed7953"
             ],
             [
              0.7777777777777778,
              "#fb9f3a"
             ],
             [
              0.8888888888888888,
              "#fdca26"
             ],
             [
              1,
              "#f0f921"
             ]
            ],
            "type": "heatmapgl"
           }
          ],
          "histogram": [
           {
            "marker": {
             "pattern": {
              "fillmode": "overlay",
              "size": 10,
              "solidity": 0.2
             }
            },
            "type": "histogram"
           }
          ],
          "histogram2d": [
           {
            "colorbar": {
             "outlinewidth": 0,
             "ticks": ""
            },
            "colorscale": [
             [
              0,
              "#0d0887"
             ],
             [
              0.1111111111111111,
              "#46039f"
             ],
             [
              0.2222222222222222,
              "#7201a8"
             ],
             [
              0.3333333333333333,
              "#9c179e"
             ],
             [
              0.4444444444444444,
              "#bd3786"
             ],
             [
              0.5555555555555556,
              "#d8576b"
             ],
             [
              0.6666666666666666,
              "#ed7953"
             ],
             [
              0.7777777777777778,
              "#fb9f3a"
             ],
             [
              0.8888888888888888,
              "#fdca26"
             ],
             [
              1,
              "#f0f921"
             ]
            ],
            "type": "histogram2d"
           }
          ],
          "histogram2dcontour": [
           {
            "colorbar": {
             "outlinewidth": 0,
             "ticks": ""
            },
            "colorscale": [
             [
              0,
              "#0d0887"
             ],
             [
              0.1111111111111111,
              "#46039f"
             ],
             [
              0.2222222222222222,
              "#7201a8"
             ],
             [
              0.3333333333333333,
              "#9c179e"
             ],
             [
              0.4444444444444444,
              "#bd3786"
             ],
             [
              0.5555555555555556,
              "#d8576b"
             ],
             [
              0.6666666666666666,
              "#ed7953"
             ],
             [
              0.7777777777777778,
              "#fb9f3a"
             ],
             [
              0.8888888888888888,
              "#fdca26"
             ],
             [
              1,
              "#f0f921"
             ]
            ],
            "type": "histogram2dcontour"
           }
          ],
          "mesh3d": [
           {
            "colorbar": {
             "outlinewidth": 0,
             "ticks": ""
            },
            "type": "mesh3d"
           }
          ],
          "parcoords": [
           {
            "line": {
             "colorbar": {
              "outlinewidth": 0,
              "ticks": ""
             }
            },
            "type": "parcoords"
           }
          ],
          "pie": [
           {
            "automargin": true,
            "type": "pie"
           }
          ],
          "scatter": [
           {
            "fillpattern": {
             "fillmode": "overlay",
             "size": 10,
             "solidity": 0.2
            },
            "type": "scatter"
           }
          ],
          "scatter3d": [
           {
            "line": {
             "colorbar": {
              "outlinewidth": 0,
              "ticks": ""
             }
            },
            "marker": {
             "colorbar": {
              "outlinewidth": 0,
              "ticks": ""
             }
            },
            "type": "scatter3d"
           }
          ],
          "scattercarpet": [
           {
            "marker": {
             "colorbar": {
              "outlinewidth": 0,
              "ticks": ""
             }
            },
            "type": "scattercarpet"
           }
          ],
          "scattergeo": [
           {
            "marker": {
             "colorbar": {
              "outlinewidth": 0,
              "ticks": ""
             }
            },
            "type": "scattergeo"
           }
          ],
          "scattergl": [
           {
            "marker": {
             "colorbar": {
              "outlinewidth": 0,
              "ticks": ""
             }
            },
            "type": "scattergl"
           }
          ],
          "scattermapbox": [
           {
            "marker": {
             "colorbar": {
              "outlinewidth": 0,
              "ticks": ""
             }
            },
            "type": "scattermapbox"
           }
          ],
          "scatterpolar": [
           {
            "marker": {
             "colorbar": {
              "outlinewidth": 0,
              "ticks": ""
             }
            },
            "type": "scatterpolar"
           }
          ],
          "scatterpolargl": [
           {
            "marker": {
             "colorbar": {
              "outlinewidth": 0,
              "ticks": ""
             }
            },
            "type": "scatterpolargl"
           }
          ],
          "scatterternary": [
           {
            "marker": {
             "colorbar": {
              "outlinewidth": 0,
              "ticks": ""
             }
            },
            "type": "scatterternary"
           }
          ],
          "surface": [
           {
            "colorbar": {
             "outlinewidth": 0,
             "ticks": ""
            },
            "colorscale": [
             [
              0,
              "#0d0887"
             ],
             [
              0.1111111111111111,
              "#46039f"
             ],
             [
              0.2222222222222222,
              "#7201a8"
             ],
             [
              0.3333333333333333,
              "#9c179e"
             ],
             [
              0.4444444444444444,
              "#bd3786"
             ],
             [
              0.5555555555555556,
              "#d8576b"
             ],
             [
              0.6666666666666666,
              "#ed7953"
             ],
             [
              0.7777777777777778,
              "#fb9f3a"
             ],
             [
              0.8888888888888888,
              "#fdca26"
             ],
             [
              1,
              "#f0f921"
             ]
            ],
            "type": "surface"
           }
          ],
          "table": [
           {
            "cells": {
             "fill": {
              "color": "#EBF0F8"
             },
             "line": {
              "color": "white"
             }
            },
            "header": {
             "fill": {
              "color": "#C8D4E3"
             },
             "line": {
              "color": "white"
             }
            },
            "type": "table"
           }
          ]
         },
         "layout": {
          "annotationdefaults": {
           "arrowcolor": "#2a3f5f",
           "arrowhead": 0,
           "arrowwidth": 1
          },
          "autotypenumbers": "strict",
          "coloraxis": {
           "colorbar": {
            "outlinewidth": 0,
            "ticks": ""
           }
          },
          "colorscale": {
           "diverging": [
            [
             0,
             "#8e0152"
            ],
            [
             0.1,
             "#c51b7d"
            ],
            [
             0.2,
             "#de77ae"
            ],
            [
             0.3,
             "#f1b6da"
            ],
            [
             0.4,
             "#fde0ef"
            ],
            [
             0.5,
             "#f7f7f7"
            ],
            [
             0.6,
             "#e6f5d0"
            ],
            [
             0.7,
             "#b8e186"
            ],
            [
             0.8,
             "#7fbc41"
            ],
            [
             0.9,
             "#4d9221"
            ],
            [
             1,
             "#276419"
            ]
           ],
           "sequential": [
            [
             0,
             "#0d0887"
            ],
            [
             0.1111111111111111,
             "#46039f"
            ],
            [
             0.2222222222222222,
             "#7201a8"
            ],
            [
             0.3333333333333333,
             "#9c179e"
            ],
            [
             0.4444444444444444,
             "#bd3786"
            ],
            [
             0.5555555555555556,
             "#d8576b"
            ],
            [
             0.6666666666666666,
             "#ed7953"
            ],
            [
             0.7777777777777778,
             "#fb9f3a"
            ],
            [
             0.8888888888888888,
             "#fdca26"
            ],
            [
             1,
             "#f0f921"
            ]
           ],
           "sequentialminus": [
            [
             0,
             "#0d0887"
            ],
            [
             0.1111111111111111,
             "#46039f"
            ],
            [
             0.2222222222222222,
             "#7201a8"
            ],
            [
             0.3333333333333333,
             "#9c179e"
            ],
            [
             0.4444444444444444,
             "#bd3786"
            ],
            [
             0.5555555555555556,
             "#d8576b"
            ],
            [
             0.6666666666666666,
             "#ed7953"
            ],
            [
             0.7777777777777778,
             "#fb9f3a"
            ],
            [
             0.8888888888888888,
             "#fdca26"
            ],
            [
             1,
             "#f0f921"
            ]
           ]
          },
          "colorway": [
           "#636efa",
           "#EF553B",
           "#00cc96",
           "#ab63fa",
           "#FFA15A",
           "#19d3f3",
           "#FF6692",
           "#B6E880",
           "#FF97FF",
           "#FECB52"
          ],
          "font": {
           "color": "#2a3f5f"
          },
          "geo": {
           "bgcolor": "white",
           "lakecolor": "white",
           "landcolor": "#E5ECF6",
           "showlakes": true,
           "showland": true,
           "subunitcolor": "white"
          },
          "hoverlabel": {
           "align": "left"
          },
          "hovermode": "closest",
          "mapbox": {
           "style": "light"
          },
          "paper_bgcolor": "white",
          "plot_bgcolor": "#E5ECF6",
          "polar": {
           "angularaxis": {
            "gridcolor": "white",
            "linecolor": "white",
            "ticks": ""
           },
           "bgcolor": "#E5ECF6",
           "radialaxis": {
            "gridcolor": "white",
            "linecolor": "white",
            "ticks": ""
           }
          },
          "scene": {
           "xaxis": {
            "backgroundcolor": "#E5ECF6",
            "gridcolor": "white",
            "gridwidth": 2,
            "linecolor": "white",
            "showbackground": true,
            "ticks": "",
            "zerolinecolor": "white"
           },
           "yaxis": {
            "backgroundcolor": "#E5ECF6",
            "gridcolor": "white",
            "gridwidth": 2,
            "linecolor": "white",
            "showbackground": true,
            "ticks": "",
            "zerolinecolor": "white"
           },
           "zaxis": {
            "backgroundcolor": "#E5ECF6",
            "gridcolor": "white",
            "gridwidth": 2,
            "linecolor": "white",
            "showbackground": true,
            "ticks": "",
            "zerolinecolor": "white"
           }
          },
          "shapedefaults": {
           "line": {
            "color": "#2a3f5f"
           }
          },
          "ternary": {
           "aaxis": {
            "gridcolor": "white",
            "linecolor": "white",
            "ticks": ""
           },
           "baxis": {
            "gridcolor": "white",
            "linecolor": "white",
            "ticks": ""
           },
           "bgcolor": "#E5ECF6",
           "caxis": {
            "gridcolor": "white",
            "linecolor": "white",
            "ticks": ""
           }
          },
          "title": {
           "x": 0.05
          },
          "xaxis": {
           "automargin": true,
           "gridcolor": "white",
           "linecolor": "white",
           "ticks": "",
           "title": {
            "standoff": 15
           },
           "zerolinecolor": "white",
           "zerolinewidth": 2
          },
          "yaxis": {
           "automargin": true,
           "gridcolor": "white",
           "linecolor": "white",
           "ticks": "",
           "title": {
            "standoff": 15
           },
           "zerolinecolor": "white",
           "zerolinewidth": 2
          }
         }
        },
        "title": {
         "text": "First 3 principal components of inceptionv3_umap's feature set"
        }
       }
      }
     },
     "metadata": {},
     "output_type": "display_data"
    },
    {
     "data": {
      "application/vnd.plotly.v1+json": {
       "config": {
        "plotlyServerURL": "https://plot.ly"
       },
       "data": [
        {
         "marker": {
          "opacity": 0.8,
          "size": 4
         },
         "mode": "markers",
         "name": "ADI",
         "type": "scatter3d",
         "x": [
          2.709628105163574,
          2.7785396575927734,
          2.730128288269043,
          2.7729756832122803,
          3.738309383392334,
          3.207017183303833,
          3.187720537185669,
          2.99665904045105,
          2.7521896362304688,
          3.509383201599121,
          3.040318012237549,
          3.460848808288574,
          3.0665903091430664,
          2.8354809284210205,
          3.6354191303253174,
          2.8663058280944824,
          3.3910210132598877,
          3.766688823699951,
          3.0565574169158936,
          3.2955217361450195
         ],
         "y": [
          10.033437728881836,
          9.755005836486816,
          10.152093887329102,
          10.311647415161133,
          9.84042739868164,
          10.111632347106934,
          9.930414199829102,
          10.14760684967041,
          9.590519905090332,
          9.88048267364502,
          10.451974868774414,
          10.09668254852295,
          10.006336212158203,
          10.25614070892334,
          9.838924407958984,
          10.090727806091309,
          9.950944900512695,
          9.807882308959961,
          10.127325057983398,
          10.15359878540039
         ],
         "z": [
          1.9241136312484741,
          1.6117186546325684,
          1.6585606336593628,
          1.575485348701477,
          2.7798960208892822,
          1.986562967300415,
          2.496208429336548,
          2.0490829944610596,
          1.7462100982666016,
          2.6837241649627686,
          1.4726721048355103,
          2.247014284133911,
          1.997197151184082,
          1.7850373983383179,
          2.737854480743408,
          2.019296407699585,
          2.4728987216949463,
          2.9065029621124268,
          1.8781170845031738,
          2.23956561088562
         ]
        },
        {
         "marker": {
          "opacity": 0.8,
          "size": 4
         },
         "mode": "markers",
         "name": "BACK",
         "type": "scatter3d",
         "x": [
          -3.483034372329712,
          -0.9678419828414917,
          0.8713845014572144,
          0.9682482481002808,
          -1.9750428199768066,
          -2.9365930557250977,
          -0.9364985227584839,
          -0.9734976291656494,
          -3.2703418731689453,
          -2.7293028831481934,
          -3.073509931564331,
          1.0608761310577393,
          -0.9527348875999451,
          -3.128453254699707,
          -3.0624308586120605,
          1.0596835613250732,
          -3.327375888824463,
          -3.095613479614258,
          -3.2688071727752686,
          0.9775086045265198,
          -3.09629225730896,
          -2.9596033096313477,
          -2.899085760116577,
          1.2193102836608887,
          0.9609038233757019,
          -3.1666080951690674,
          -3.0490634441375732,
          -2.851602077484131,
          -3.051424980163574
         ],
         "y": [
          1.938094973564148,
          2.476984977722168,
          4.478350639343262,
          4.502389430999756,
          2.531982898712158,
          2.894745349884033,
          2.460850954055786,
          2.425131320953369,
          2.399667978286743,
          2.54394268989563,
          2.644587278366089,
          4.961557865142822,
          2.4603819847106934,
          2.5537877082824707,
          2.6500132083892822,
          4.966905117034912,
          2.27817440032959,
          2.661708354949951,
          2.3656113147735596,
          4.783817291259766,
          2.580528497695923,
          2.691087484359741,
          2.615366220474243,
          4.971964359283447,
          4.412018299102783,
          2.6096293926239014,
          2.5549402236938477,
          2.5644187927246094,
          2.5830440521240234
         ],
         "z": [
          8.723642349243164,
          8.546490669250488,
          7.279078960418701,
          7.3154754638671875,
          8.352743148803711,
          7.906406879425049,
          8.559700012207031,
          8.558245658874512,
          8.314748764038086,
          8.234955787658691,
          8.103227615356445,
          6.8733344078063965,
          8.552490234375,
          8.191943168640137,
          8.099808692932129,
          6.86720609664917,
          8.422401428222656,
          8.079732894897461,
          8.347113609313965,
          7.063960552215576,
          8.16880989074707,
          8.054095268249512,
          8.142288208007812,
          6.979293346405029,
          7.432202339172363,
          8.135550498962402,
          8.200133323669434,
          8.200626373291016,
          8.175482749938965
         ]
        },
        {
         "marker": {
          "opacity": 0.8,
          "size": 4
         },
         "mode": "markers",
         "name": "DEB",
         "type": "scatter3d",
         "x": [
          9.291701316833496,
          9.652201652526855,
          8.483086585998535,
          9.199174880981445,
          9.489341735839844,
          9.676811218261719,
          8.933332443237305,
          9.16207504272461,
          8.762677192687988,
          8.738561630249023,
          8.604236602783203,
          9.543899536132812,
          9.648862838745117,
          8.987196922302246,
          9.269488334655762,
          9.237035751342773,
          8.792619705200195,
          9.286460876464844,
          8.5079984664917,
          9.036332130432129,
          8.83018970489502
         ],
         "y": [
          3.1043331623077393,
          3.2972278594970703,
          5.250091075897217,
          3.3109259605407715,
          3.3405537605285645,
          3.2140920162200928,
          2.6907482147216797,
          3.093834638595581,
          3.458282232284546,
          2.7630228996276855,
          4.639864444732666,
          3.018674612045288,
          3.2983553409576416,
          4.040958404541016,
          3.20542573928833,
          3.2115581035614014,
          3.1357059478759766,
          3.3536176681518555,
          4.938531875610352,
          3.6980316638946533,
          2.718737840652466
         ],
         "z": [
          9.117751121520996,
          9.086228370666504,
          9.602965354919434,
          9.006230354309082,
          8.686627388000488,
          8.619762420654297,
          7.425943851470947,
          9.313799858093262,
          8.262134552001953,
          7.384195327758789,
          9.123406410217285,
          8.094254493713379,
          9.026636123657227,
          9.123700141906738,
          8.960180282592773,
          9.003003120422363,
          7.876368522644043,
          8.638407707214355,
          9.035812377929688,
          9.176240921020508,
          7.419450283050537
         ]
        },
        {
         "marker": {
          "opacity": 0.8,
          "size": 4
         },
         "mode": "markers",
         "name": "LYM",
         "type": "scatter3d",
         "x": [
          9.967230796813965,
          10.202582359313965,
          10.035778999328613,
          10.163273811340332,
          9.76859188079834,
          9.978791236877441,
          9.383103370666504,
          9.933858871459961,
          9.127289772033691,
          10.151509284973145,
          9.950393676757812,
          9.956782341003418,
          9.827359199523926,
          9.790573120117188,
          10.15971565246582,
          10.176647186279297,
          9.818989753723145,
          9.9979248046875,
          10.212663650512695,
          9.996983528137207,
          9.791417121887207,
          9.840147018432617,
          9.516544342041016,
          9.986806869506836
         ],
         "y": [
          -0.35967761278152466,
          -1.252639651298523,
          -0.568077564239502,
          -1.2351758480072021,
          0.31663012504577637,
          -0.4538402855396271,
          2.314558744430542,
          -0.28738725185394287,
          2.3985328674316406,
          -1.1562620401382446,
          -0.3233913481235504,
          -0.33076825737953186,
          0.05596059560775757,
          0.06922078877687454,
          -1.2148926258087158,
          -1.2846601009368896,
          0.09855284541845322,
          -0.3938376307487488,
          -1.3392014503479004,
          -0.542085587978363,
          0.2314017117023468,
          0.05855567008256912,
          2.801065683364868,
          -0.4405688941478729
         ],
         "z": [
          3.461446762084961,
          1.7834292650222778,
          3.0748164653778076,
          1.8173928260803223,
          4.447616100311279,
          3.257399082183838,
          7.121334552764893,
          3.7116665840148926,
          7.125659465789795,
          2.044290542602539,
          3.491429090499878,
          3.555479049682617,
          4.228060245513916,
          4.249597072601318,
          1.7862229347229004,
          1.740952491760254,
          4.208256721496582,
          3.277409553527832,
          1.6557252407073975,
          2.8681893348693848,
          4.337311267852783,
          4.134543418884277,
          7.7599945068359375,
          3.242753267288208
         ]
        },
        {
         "marker": {
          "opacity": 0.8,
          "size": 4
         },
         "mode": "markers",
         "name": "MUC",
         "type": "scatter3d",
         "x": [
          8.135383605957031,
          7.717004776000977,
          7.64733362197876,
          2.7993524074554443,
          8.237791061401367,
          7.845552921295166,
          7.871860980987549,
          7.8527936935424805,
          7.8501667976379395,
          7.714566707611084,
          8.188302993774414,
          8.070981979370117,
          7.928938865661621,
          7.606950759887695,
          7.792081832885742
         ],
         "y": [
          4.362009525299072,
          5.470346450805664,
          5.821133136749268,
          9.400096893310547,
          4.650496482849121,
          5.507579803466797,
          6.242433547973633,
          5.253897666931152,
          5.501891613006592,
          5.697595119476318,
          4.767036437988281,
          5.147111892700195,
          6.320214748382568,
          5.862990379333496,
          6.371982574462891
         ],
         "z": [
          8.312143325805664,
          8.68194580078125,
          8.940120697021484,
          1.9298990964889526,
          8.623944282531738,
          8.76583480834961,
          9.900620460510254,
          8.889575958251953,
          8.847094535827637,
          8.958227157592773,
          8.654427528381348,
          9.02340316772461,
          9.829673767089844,
          8.614469528198242,
          10.12729549407959
         ]
        },
        {
         "marker": {
          "opacity": 0.8,
          "size": 4
         },
         "mode": "markers",
         "name": "MUS",
         "type": "scatter3d",
         "x": [
          8.278932571411133,
          8.911553382873535,
          7.059925079345703,
          7.0985493659973145,
          7.890019416809082,
          8.101292610168457,
          7.381282329559326,
          7.532059192657471,
          7.952261447906494,
          8.160928726196289,
          7.553249835968018,
          7.028635501861572,
          7.534120082855225,
          7.167361259460449,
          7.820024013519287,
          6.906825065612793,
          7.912483215332031,
          6.780233383178711,
          7.796511650085449,
          7.9355340003967285,
          7.777428150177002,
          8.117203712463379,
          8.386617660522461,
          8.271238327026367
         ],
         "y": [
          5.491220951080322,
          3.394458532333374,
          6.404259204864502,
          6.531628131866455,
          6.153326988220215,
          6.120920658111572,
          6.327657222747803,
          6.5080671310424805,
          6.657033920288086,
          6.274682998657227,
          6.153015613555908,
          6.649836540222168,
          6.172601699829102,
          6.367062091827393,
          6.155989646911621,
          6.50706148147583,
          6.7584686279296875,
          6.676715850830078,
          6.937802314758301,
          6.596423149108887,
          6.340862274169922,
          6.197261333465576,
          6.077518939971924,
          5.856222152709961
         ],
         "z": [
          10.092727661132812,
          8.747275352478027,
          9.728764533996582,
          9.879462242126465,
          9.842208862304688,
          9.754056930541992,
          9.686064720153809,
          9.805419921875,
          10.183526992797852,
          10.079201698303223,
          10.170185089111328,
          9.429417610168457,
          10.209381103515625,
          9.986693382263184,
          9.837276458740234,
          9.253605842590332,
          10.183350563049316,
          9.285667419433594,
          10.289237022399902,
          10.125774383544922,
          10.108183860778809,
          9.851645469665527,
          9.957181930541992,
          9.701098442077637
         ]
        },
        {
         "marker": {
          "opacity": 0.8,
          "size": 4
         },
         "mode": "markers",
         "name": "NORM",
         "type": "scatter3d",
         "x": [
          8.380011558532715,
          8.964335441589355,
          8.968088150024414,
          8.61662483215332,
          8.798028945922852,
          9.188647270202637,
          9.598611831665039,
          9.093742370605469,
          8.827803611755371,
          9.047986030578613,
          8.99264144897461,
          8.605697631835938,
          8.764781951904297
         ],
         "y": [
          4.675826549530029,
          4.045989513397217,
          3.8870155811309814,
          4.456940650939941,
          5.29368782043457,
          4.203667640686035,
          3.226402521133423,
          3.8522191047668457,
          3.562333345413208,
          3.670419216156006,
          3.8744256496429443,
          5.076160430908203,
          4.1014885902404785
         ],
         "z": [
          8.288902282714844,
          8.102161407470703,
          7.847138404846191,
          8.143651962280273,
          8.945069313049316,
          8.637011528015137,
          8.590497016906738,
          8.651927947998047,
          8.163119316101074,
          8.22507381439209,
          8.559489250183105,
          8.56374454498291,
          7.890214920043945
         ]
        },
        {
         "marker": {
          "opacity": 0.8,
          "size": 4
         },
         "mode": "markers",
         "name": "STR",
         "type": "scatter3d",
         "x": [
          8.445838928222656,
          8.333867073059082,
          8.142200469970703,
          7.968177318572998,
          8.235313415527344,
          8.010432243347168,
          8.253022193908691,
          8.111588478088379,
          8.229338645935059,
          8.288928031921387,
          8.248794555664062,
          8.075569152832031,
          8.258894920349121,
          7.984457969665527,
          8.035786628723145,
          8.296724319458008,
          8.04211711883545,
          8.211014747619629
         ],
         "y": [
          5.321882247924805,
          5.444212913513184,
          6.219444274902344,
          6.200369358062744,
          5.59303092956543,
          6.391067981719971,
          5.625226020812988,
          6.0409088134765625,
          5.5989861488342285,
          5.542272567749023,
          5.890117645263672,
          6.4962053298950195,
          6.319205284118652,
          6.300267219543457,
          6.438807010650635,
          5.565783977508545,
          5.618841171264648,
          5.953959941864014
         ],
         "z": [
          9.651147842407227,
          9.667216300964355,
          10.005697250366211,
          10.054667472839355,
          9.776522636413574,
          10.016228675842285,
          9.717584609985352,
          9.7191743850708,
          9.813494682312012,
          9.981657981872559,
          9.865242004394531,
          10.018101692199707,
          10.093381881713867,
          10.136052131652832,
          10.065434455871582,
          9.884714126586914,
          9.43619441986084,
          9.650712966918945
         ]
        },
        {
         "marker": {
          "opacity": 0.8,
          "size": 4
         },
         "mode": "markers",
         "name": "TUM",
         "type": "scatter3d",
         "x": [
          9.283377647399902,
          9.276183128356934,
          9.087469100952148,
          8.973660469055176,
          9.114087104797363,
          8.924001693725586,
          9.173868179321289,
          9.354293823242188,
          9.301889419555664,
          9.287280082702637,
          8.431127548217773,
          9.109626770019531,
          9.308835983276367,
          8.50581169128418,
          9.102187156677246,
          8.977402687072754,
          8.86182689666748,
          9.13940715789795,
          9.350273132324219,
          8.958281517028809,
          9.127707481384277,
          8.867687225341797,
          9.019211769104004,
          9.363006591796875,
          8.8594331741333,
          9.322394371032715,
          8.99626636505127,
          9.155217170715332,
          9.19689655303955,
          9.162232398986816,
          9.222862243652344,
          8.838518142700195,
          9.006145477294922,
          9.1869478225708,
          9.49189567565918,
          9.397696495056152
         ],
         "y": [
          4.301244258880615,
          4.510149002075195,
          4.0305914878845215,
          4.482010364532471,
          3.9072065353393555,
          3.9192566871643066,
          4.002406120300293,
          4.643153667449951,
          4.33199405670166,
          4.647377014160156,
          5.2649760246276855,
          3.570634603500366,
          4.447168827056885,
          4.959078788757324,
          3.8099610805511475,
          4.9507832527160645,
          4.930705547332764,
          5.096159934997559,
          4.776412487030029,
          4.178099632263184,
          4.671483993530273,
          4.334917068481445,
          3.8741512298583984,
          4.228309631347656,
          4.70893669128418,
          4.872457981109619,
          5.074695110321045,
          4.440454959869385,
          4.795370101928711,
          4.7313432693481445,
          4.197300434112549,
          5.053657531738281,
          3.3750810623168945,
          4.513941287994385,
          4.491774559020996,
          4.7206130027771
         ],
         "z": [
          9.238908767700195,
          9.316205024719238,
          8.865880966186523,
          8.86106014251709,
          8.715689659118652,
          8.79049015045166,
          8.767513275146484,
          9.377388954162598,
          9.143522262573242,
          9.244160652160645,
          9.1738862991333,
          8.38222599029541,
          9.252494812011719,
          9.165833473205566,
          8.85290813446045,
          9.334122657775879,
          9.107888221740723,
          9.268804550170898,
          9.324095726013184,
          8.645750045776367,
          9.309284210205078,
          8.967988967895508,
          8.46858024597168,
          9.121309280395508,
          9.119996070861816,
          9.21288013458252,
          9.058313369750977,
          9.20348834991455,
          9.32722282409668,
          9.224453926086426,
          9.098325729370117,
          8.894441604614258,
          8.735278129577637,
          9.288165092468262,
          9.46592903137207,
          9.33631706237793
         ]
        }
       ],
       "layout": {
        "scene": {
         "xaxis": {
          "title": {
           "text": "PC1 axis"
          }
         },
         "yaxis": {
          "title": {
           "text": "PC2 axis"
          }
         },
         "zaxis": {
          "title": {
           "text": "PC3 axis"
          }
         }
        },
        "template": {
         "data": {
          "bar": [
           {
            "error_x": {
             "color": "#2a3f5f"
            },
            "error_y": {
             "color": "#2a3f5f"
            },
            "marker": {
             "line": {
              "color": "#E5ECF6",
              "width": 0.5
             },
             "pattern": {
              "fillmode": "overlay",
              "size": 10,
              "solidity": 0.2
             }
            },
            "type": "bar"
           }
          ],
          "barpolar": [
           {
            "marker": {
             "line": {
              "color": "#E5ECF6",
              "width": 0.5
             },
             "pattern": {
              "fillmode": "overlay",
              "size": 10,
              "solidity": 0.2
             }
            },
            "type": "barpolar"
           }
          ],
          "carpet": [
           {
            "aaxis": {
             "endlinecolor": "#2a3f5f",
             "gridcolor": "white",
             "linecolor": "white",
             "minorgridcolor": "white",
             "startlinecolor": "#2a3f5f"
            },
            "baxis": {
             "endlinecolor": "#2a3f5f",
             "gridcolor": "white",
             "linecolor": "white",
             "minorgridcolor": "white",
             "startlinecolor": "#2a3f5f"
            },
            "type": "carpet"
           }
          ],
          "choropleth": [
           {
            "colorbar": {
             "outlinewidth": 0,
             "ticks": ""
            },
            "type": "choropleth"
           }
          ],
          "contour": [
           {
            "colorbar": {
             "outlinewidth": 0,
             "ticks": ""
            },
            "colorscale": [
             [
              0,
              "#0d0887"
             ],
             [
              0.1111111111111111,
              "#46039f"
             ],
             [
              0.2222222222222222,
              "#7201a8"
             ],
             [
              0.3333333333333333,
              "#9c179e"
             ],
             [
              0.4444444444444444,
              "#bd3786"
             ],
             [
              0.5555555555555556,
              "#d8576b"
             ],
             [
              0.6666666666666666,
              "#ed7953"
             ],
             [
              0.7777777777777778,
              "#fb9f3a"
             ],
             [
              0.8888888888888888,
              "#fdca26"
             ],
             [
              1,
              "#f0f921"
             ]
            ],
            "type": "contour"
           }
          ],
          "contourcarpet": [
           {
            "colorbar": {
             "outlinewidth": 0,
             "ticks": ""
            },
            "type": "contourcarpet"
           }
          ],
          "heatmap": [
           {
            "colorbar": {
             "outlinewidth": 0,
             "ticks": ""
            },
            "colorscale": [
             [
              0,
              "#0d0887"
             ],
             [
              0.1111111111111111,
              "#46039f"
             ],
             [
              0.2222222222222222,
              "#7201a8"
             ],
             [
              0.3333333333333333,
              "#9c179e"
             ],
             [
              0.4444444444444444,
              "#bd3786"
             ],
             [
              0.5555555555555556,
              "#d8576b"
             ],
             [
              0.6666666666666666,
              "#ed7953"
             ],
             [
              0.7777777777777778,
              "#fb9f3a"
             ],
             [
              0.8888888888888888,
              "#fdca26"
             ],
             [
              1,
              "#f0f921"
             ]
            ],
            "type": "heatmap"
           }
          ],
          "heatmapgl": [
           {
            "colorbar": {
             "outlinewidth": 0,
             "ticks": ""
            },
            "colorscale": [
             [
              0,
              "#0d0887"
             ],
             [
              0.1111111111111111,
              "#46039f"
             ],
             [
              0.2222222222222222,
              "#7201a8"
             ],
             [
              0.3333333333333333,
              "#9c179e"
             ],
             [
              0.4444444444444444,
              "#bd3786"
             ],
             [
              0.5555555555555556,
              "#d8576b"
             ],
             [
              0.6666666666666666,
              "#ed7953"
             ],
             [
              0.7777777777777778,
              "#fb9f3a"
             ],
             [
              0.8888888888888888,
              "#fdca26"
             ],
             [
              1,
              "#f0f921"
             ]
            ],
            "type": "heatmapgl"
           }
          ],
          "histogram": [
           {
            "marker": {
             "pattern": {
              "fillmode": "overlay",
              "size": 10,
              "solidity": 0.2
             }
            },
            "type": "histogram"
           }
          ],
          "histogram2d": [
           {
            "colorbar": {
             "outlinewidth": 0,
             "ticks": ""
            },
            "colorscale": [
             [
              0,
              "#0d0887"
             ],
             [
              0.1111111111111111,
              "#46039f"
             ],
             [
              0.2222222222222222,
              "#7201a8"
             ],
             [
              0.3333333333333333,
              "#9c179e"
             ],
             [
              0.4444444444444444,
              "#bd3786"
             ],
             [
              0.5555555555555556,
              "#d8576b"
             ],
             [
              0.6666666666666666,
              "#ed7953"
             ],
             [
              0.7777777777777778,
              "#fb9f3a"
             ],
             [
              0.8888888888888888,
              "#fdca26"
             ],
             [
              1,
              "#f0f921"
             ]
            ],
            "type": "histogram2d"
           }
          ],
          "histogram2dcontour": [
           {
            "colorbar": {
             "outlinewidth": 0,
             "ticks": ""
            },
            "colorscale": [
             [
              0,
              "#0d0887"
             ],
             [
              0.1111111111111111,
              "#46039f"
             ],
             [
              0.2222222222222222,
              "#7201a8"
             ],
             [
              0.3333333333333333,
              "#9c179e"
             ],
             [
              0.4444444444444444,
              "#bd3786"
             ],
             [
              0.5555555555555556,
              "#d8576b"
             ],
             [
              0.6666666666666666,
              "#ed7953"
             ],
             [
              0.7777777777777778,
              "#fb9f3a"
             ],
             [
              0.8888888888888888,
              "#fdca26"
             ],
             [
              1,
              "#f0f921"
             ]
            ],
            "type": "histogram2dcontour"
           }
          ],
          "mesh3d": [
           {
            "colorbar": {
             "outlinewidth": 0,
             "ticks": ""
            },
            "type": "mesh3d"
           }
          ],
          "parcoords": [
           {
            "line": {
             "colorbar": {
              "outlinewidth": 0,
              "ticks": ""
             }
            },
            "type": "parcoords"
           }
          ],
          "pie": [
           {
            "automargin": true,
            "type": "pie"
           }
          ],
          "scatter": [
           {
            "fillpattern": {
             "fillmode": "overlay",
             "size": 10,
             "solidity": 0.2
            },
            "type": "scatter"
           }
          ],
          "scatter3d": [
           {
            "line": {
             "colorbar": {
              "outlinewidth": 0,
              "ticks": ""
             }
            },
            "marker": {
             "colorbar": {
              "outlinewidth": 0,
              "ticks": ""
             }
            },
            "type": "scatter3d"
           }
          ],
          "scattercarpet": [
           {
            "marker": {
             "colorbar": {
              "outlinewidth": 0,
              "ticks": ""
             }
            },
            "type": "scattercarpet"
           }
          ],
          "scattergeo": [
           {
            "marker": {
             "colorbar": {
              "outlinewidth": 0,
              "ticks": ""
             }
            },
            "type": "scattergeo"
           }
          ],
          "scattergl": [
           {
            "marker": {
             "colorbar": {
              "outlinewidth": 0,
              "ticks": ""
             }
            },
            "type": "scattergl"
           }
          ],
          "scattermapbox": [
           {
            "marker": {
             "colorbar": {
              "outlinewidth": 0,
              "ticks": ""
             }
            },
            "type": "scattermapbox"
           }
          ],
          "scatterpolar": [
           {
            "marker": {
             "colorbar": {
              "outlinewidth": 0,
              "ticks": ""
             }
            },
            "type": "scatterpolar"
           }
          ],
          "scatterpolargl": [
           {
            "marker": {
             "colorbar": {
              "outlinewidth": 0,
              "ticks": ""
             }
            },
            "type": "scatterpolargl"
           }
          ],
          "scatterternary": [
           {
            "marker": {
             "colorbar": {
              "outlinewidth": 0,
              "ticks": ""
             }
            },
            "type": "scatterternary"
           }
          ],
          "surface": [
           {
            "colorbar": {
             "outlinewidth": 0,
             "ticks": ""
            },
            "colorscale": [
             [
              0,
              "#0d0887"
             ],
             [
              0.1111111111111111,
              "#46039f"
             ],
             [
              0.2222222222222222,
              "#7201a8"
             ],
             [
              0.3333333333333333,
              "#9c179e"
             ],
             [
              0.4444444444444444,
              "#bd3786"
             ],
             [
              0.5555555555555556,
              "#d8576b"
             ],
             [
              0.6666666666666666,
              "#ed7953"
             ],
             [
              0.7777777777777778,
              "#fb9f3a"
             ],
             [
              0.8888888888888888,
              "#fdca26"
             ],
             [
              1,
              "#f0f921"
             ]
            ],
            "type": "surface"
           }
          ],
          "table": [
           {
            "cells": {
             "fill": {
              "color": "#EBF0F8"
             },
             "line": {
              "color": "white"
             }
            },
            "header": {
             "fill": {
              "color": "#C8D4E3"
             },
             "line": {
              "color": "white"
             }
            },
            "type": "table"
           }
          ]
         },
         "layout": {
          "annotationdefaults": {
           "arrowcolor": "#2a3f5f",
           "arrowhead": 0,
           "arrowwidth": 1
          },
          "autotypenumbers": "strict",
          "coloraxis": {
           "colorbar": {
            "outlinewidth": 0,
            "ticks": ""
           }
          },
          "colorscale": {
           "diverging": [
            [
             0,
             "#8e0152"
            ],
            [
             0.1,
             "#c51b7d"
            ],
            [
             0.2,
             "#de77ae"
            ],
            [
             0.3,
             "#f1b6da"
            ],
            [
             0.4,
             "#fde0ef"
            ],
            [
             0.5,
             "#f7f7f7"
            ],
            [
             0.6,
             "#e6f5d0"
            ],
            [
             0.7,
             "#b8e186"
            ],
            [
             0.8,
             "#7fbc41"
            ],
            [
             0.9,
             "#4d9221"
            ],
            [
             1,
             "#276419"
            ]
           ],
           "sequential": [
            [
             0,
             "#0d0887"
            ],
            [
             0.1111111111111111,
             "#46039f"
            ],
            [
             0.2222222222222222,
             "#7201a8"
            ],
            [
             0.3333333333333333,
             "#9c179e"
            ],
            [
             0.4444444444444444,
             "#bd3786"
            ],
            [
             0.5555555555555556,
             "#d8576b"
            ],
            [
             0.6666666666666666,
             "#ed7953"
            ],
            [
             0.7777777777777778,
             "#fb9f3a"
            ],
            [
             0.8888888888888888,
             "#fdca26"
            ],
            [
             1,
             "#f0f921"
            ]
           ],
           "sequentialminus": [
            [
             0,
             "#0d0887"
            ],
            [
             0.1111111111111111,
             "#46039f"
            ],
            [
             0.2222222222222222,
             "#7201a8"
            ],
            [
             0.3333333333333333,
             "#9c179e"
            ],
            [
             0.4444444444444444,
             "#bd3786"
            ],
            [
             0.5555555555555556,
             "#d8576b"
            ],
            [
             0.6666666666666666,
             "#ed7953"
            ],
            [
             0.7777777777777778,
             "#fb9f3a"
            ],
            [
             0.8888888888888888,
             "#fdca26"
            ],
            [
             1,
             "#f0f921"
            ]
           ]
          },
          "colorway": [
           "#636efa",
           "#EF553B",
           "#00cc96",
           "#ab63fa",
           "#FFA15A",
           "#19d3f3",
           "#FF6692",
           "#B6E880",
           "#FF97FF",
           "#FECB52"
          ],
          "font": {
           "color": "#2a3f5f"
          },
          "geo": {
           "bgcolor": "white",
           "lakecolor": "white",
           "landcolor": "#E5ECF6",
           "showlakes": true,
           "showland": true,
           "subunitcolor": "white"
          },
          "hoverlabel": {
           "align": "left"
          },
          "hovermode": "closest",
          "mapbox": {
           "style": "light"
          },
          "paper_bgcolor": "white",
          "plot_bgcolor": "#E5ECF6",
          "polar": {
           "angularaxis": {
            "gridcolor": "white",
            "linecolor": "white",
            "ticks": ""
           },
           "bgcolor": "#E5ECF6",
           "radialaxis": {
            "gridcolor": "white",
            "linecolor": "white",
            "ticks": ""
           }
          },
          "scene": {
           "xaxis": {
            "backgroundcolor": "#E5ECF6",
            "gridcolor": "white",
            "gridwidth": 2,
            "linecolor": "white",
            "showbackground": true,
            "ticks": "",
            "zerolinecolor": "white"
           },
           "yaxis": {
            "backgroundcolor": "#E5ECF6",
            "gridcolor": "white",
            "gridwidth": 2,
            "linecolor": "white",
            "showbackground": true,
            "ticks": "",
            "zerolinecolor": "white"
           },
           "zaxis": {
            "backgroundcolor": "#E5ECF6",
            "gridcolor": "white",
            "gridwidth": 2,
            "linecolor": "white",
            "showbackground": true,
            "ticks": "",
            "zerolinecolor": "white"
           }
          },
          "shapedefaults": {
           "line": {
            "color": "#2a3f5f"
           }
          },
          "ternary": {
           "aaxis": {
            "gridcolor": "white",
            "linecolor": "white",
            "ticks": ""
           },
           "baxis": {
            "gridcolor": "white",
            "linecolor": "white",
            "ticks": ""
           },
           "bgcolor": "#E5ECF6",
           "caxis": {
            "gridcolor": "white",
            "linecolor": "white",
            "ticks": ""
           }
          },
          "title": {
           "x": 0.05
          },
          "xaxis": {
           "automargin": true,
           "gridcolor": "white",
           "linecolor": "white",
           "ticks": "",
           "title": {
            "standoff": 15
           },
           "zerolinecolor": "white",
           "zerolinewidth": 2
          },
          "yaxis": {
           "automargin": true,
           "gridcolor": "white",
           "linecolor": "white",
           "ticks": "",
           "title": {
            "standoff": 15
           },
           "zerolinecolor": "white",
           "zerolinewidth": 2
          }
         }
        },
        "title": {
         "text": "First 3 principal components of vgg16_umap's feature set"
        }
       }
      }
     },
     "metadata": {},
     "output_type": "display_data"
    }
   ],
   "source": [
    "#Plotting datasets\n",
    "for name, feature_set in datasets.items():\n",
    "    test_data = feature_set[selected_index]\n",
    "    # 3D visualisation\n",
    "    traces = []\n",
    "    for tissue_type in np.unique(labels):\n",
    "        trace = go.Scatter3d(\n",
    "            x=test_data[test_label == tissue_type, 0],\n",
    "            y=test_data[test_label == tissue_type, 1],\n",
    "            z=test_data[test_label == tissue_type, 2],\n",
    "            mode='markers',\n",
    "            name=tissue_type,\n",
    "            marker=dict(size=4, opacity=0.8)\n",
    "        )\n",
    "        traces.append(trace)\n",
    "\n",
    "    fig = go.Figure(data=traces)\n",
    "    fig.update_layout(\n",
    "        title=f\"First 3 principal components of {name}'s feature set\",\n",
    "        scene=dict(\n",
    "            xaxis_title='PC1 axis',\n",
    "            yaxis_title='PC2 axis',\n",
    "            zaxis_title='PC3 axis'\n",
    "        )\n",
    "    )\n",
    "    fig.show()"
   ]
  },
  {
   "cell_type": "code",
   "execution_count": 98,
   "metadata": {},
   "outputs": [
    {
     "name": "stdout",
     "output_type": "stream",
     "text": [
      "K=2,pge_pca, Silhouette Score=0.565763533115387\n",
      "K=2,pge_pca, V Score=0.4006489881068127\n",
      "K=3,pge_pca, Silhouette Score=0.6451683640480042\n",
      "K=3,pge_pca, V Score=0.4949158273395355\n",
      "K=4,pge_pca, Silhouette Score=0.6799402832984924\n",
      "K=4,pge_pca, V Score=0.6098980544009545\n",
      "K=5,pge_pca, Silhouette Score=0.5701753497123718\n",
      "K=5,pge_pca, V Score=0.7227362356351869\n",
      "K=6,pge_pca, Silhouette Score=0.5678086280822754\n",
      "K=6,pge_pca, V Score=0.7169934694371072\n",
      "K=7,pge_pca, Silhouette Score=0.589539110660553\n",
      "K=7,pge_pca, V Score=0.7024848967926298\n",
      "K=8,pge_pca, Silhouette Score=0.5631580948829651\n",
      "K=8,pge_pca, V Score=0.7313905900989754\n",
      "K=9,pge_pca, Silhouette Score=0.5193361043930054\n",
      "K=9,pge_pca, V Score=0.7313118043500646\n",
      "K=10,pge_pca, Silhouette Score=0.5261255502700806\n",
      "K=10,pge_pca, V Score=0.7203697992276318\n",
      "K=11,pge_pca, Silhouette Score=0.4538740813732147\n",
      "K=11,pge_pca, V Score=0.736903208131828\n",
      "K=12,pge_pca, Silhouette Score=0.4446151852607727\n",
      "K=12,pge_pca, V Score=0.717172759183971\n",
      "K=13,pge_pca, Silhouette Score=0.45927610993385315\n",
      "K=13,pge_pca, V Score=0.6951755117264214\n",
      "K=14,pge_pca, Silhouette Score=0.45928534865379333\n",
      "K=14,pge_pca, V Score=0.7003061279395105\n",
      "K=2,resnet50_pca, Silhouette Score=0.565763533115387\n",
      "K=2,resnet50_pca, V Score=0.4006489881068127\n",
      "K=3,resnet50_pca, Silhouette Score=0.6451683640480042\n",
      "K=3,resnet50_pca, V Score=0.4949158273395355\n",
      "K=4,resnet50_pca, Silhouette Score=0.6799402832984924\n",
      "K=4,resnet50_pca, V Score=0.6098980544009545\n",
      "K=5,resnet50_pca, Silhouette Score=0.5701753497123718\n",
      "K=5,resnet50_pca, V Score=0.7227362356351869\n",
      "K=6,resnet50_pca, Silhouette Score=0.5678086280822754\n",
      "K=6,resnet50_pca, V Score=0.7169934694371072\n",
      "K=7,resnet50_pca, Silhouette Score=0.589539110660553\n",
      "K=7,resnet50_pca, V Score=0.7024848967926298\n",
      "K=8,resnet50_pca, Silhouette Score=0.5631580948829651\n",
      "K=8,resnet50_pca, V Score=0.7313905900989754\n",
      "K=9,resnet50_pca, Silhouette Score=0.5193361043930054\n",
      "K=9,resnet50_pca, V Score=0.7313118043500646\n",
      "K=10,resnet50_pca, Silhouette Score=0.5261255502700806\n",
      "K=10,resnet50_pca, V Score=0.7203697992276318\n",
      "K=11,resnet50_pca, Silhouette Score=0.4538740813732147\n",
      "K=11,resnet50_pca, V Score=0.736903208131828\n",
      "K=12,resnet50_pca, Silhouette Score=0.4446151852607727\n",
      "K=12,resnet50_pca, V Score=0.717172759183971\n",
      "K=13,resnet50_pca, Silhouette Score=0.45927610993385315\n",
      "K=13,resnet50_pca, V Score=0.6951755117264214\n",
      "K=14,resnet50_pca, Silhouette Score=0.45928534865379333\n",
      "K=14,resnet50_pca, V Score=0.7003061279395105\n",
      "K=2,inceptionv3_pca, Silhouette Score=0.565763533115387\n",
      "K=2,inceptionv3_pca, V Score=0.4006489881068127\n",
      "K=3,inceptionv3_pca, Silhouette Score=0.6451683640480042\n",
      "K=3,inceptionv3_pca, V Score=0.4949158273395355\n",
      "K=4,inceptionv3_pca, Silhouette Score=0.6799402832984924\n",
      "K=4,inceptionv3_pca, V Score=0.6098980544009545\n",
      "K=5,inceptionv3_pca, Silhouette Score=0.5701753497123718\n",
      "K=5,inceptionv3_pca, V Score=0.7227362356351869\n",
      "K=6,inceptionv3_pca, Silhouette Score=0.5678086280822754\n",
      "K=6,inceptionv3_pca, V Score=0.7169934694371072\n",
      "K=7,inceptionv3_pca, Silhouette Score=0.589539110660553\n",
      "K=7,inceptionv3_pca, V Score=0.7024848967926298\n",
      "K=8,inceptionv3_pca, Silhouette Score=0.5631580948829651\n",
      "K=8,inceptionv3_pca, V Score=0.7313905900989754\n",
      "K=9,inceptionv3_pca, Silhouette Score=0.5193361043930054\n",
      "K=9,inceptionv3_pca, V Score=0.7313118043500646\n",
      "K=10,inceptionv3_pca, Silhouette Score=0.5261255502700806\n",
      "K=10,inceptionv3_pca, V Score=0.7203697992276318\n",
      "K=11,inceptionv3_pca, Silhouette Score=0.4538740813732147\n",
      "K=11,inceptionv3_pca, V Score=0.736903208131828\n",
      "K=12,inceptionv3_pca, Silhouette Score=0.4446151852607727\n",
      "K=12,inceptionv3_pca, V Score=0.717172759183971\n",
      "K=13,inceptionv3_pca, Silhouette Score=0.45927610993385315\n",
      "K=13,inceptionv3_pca, V Score=0.6951755117264214\n",
      "K=14,inceptionv3_pca, Silhouette Score=0.45928534865379333\n",
      "K=14,inceptionv3_pca, V Score=0.7003061279395105\n",
      "K=2,vgg16_pca, Silhouette Score=0.565763533115387\n",
      "K=2,vgg16_pca, V Score=0.4006489881068127\n",
      "K=3,vgg16_pca, Silhouette Score=0.6451683640480042\n",
      "K=3,vgg16_pca, V Score=0.4949158273395355\n",
      "K=4,vgg16_pca, Silhouette Score=0.6799402832984924\n",
      "K=4,vgg16_pca, V Score=0.6098980544009545\n",
      "K=5,vgg16_pca, Silhouette Score=0.5701753497123718\n",
      "K=5,vgg16_pca, V Score=0.7227362356351869\n",
      "K=6,vgg16_pca, Silhouette Score=0.5678086280822754\n",
      "K=6,vgg16_pca, V Score=0.7169934694371072\n",
      "K=7,vgg16_pca, Silhouette Score=0.589539110660553\n",
      "K=7,vgg16_pca, V Score=0.7024848967926298\n",
      "K=8,vgg16_pca, Silhouette Score=0.5631580948829651\n",
      "K=8,vgg16_pca, V Score=0.7313905900989754\n",
      "K=9,vgg16_pca, Silhouette Score=0.5193361043930054\n",
      "K=9,vgg16_pca, V Score=0.7313118043500646\n",
      "K=10,vgg16_pca, Silhouette Score=0.5261255502700806\n",
      "K=10,vgg16_pca, V Score=0.7203697992276318\n",
      "K=11,vgg16_pca, Silhouette Score=0.4538740813732147\n",
      "K=11,vgg16_pca, V Score=0.736903208131828\n",
      "K=12,vgg16_pca, Silhouette Score=0.4446151852607727\n",
      "K=12,vgg16_pca, V Score=0.717172759183971\n",
      "K=13,vgg16_pca, Silhouette Score=0.45927610993385315\n",
      "K=13,vgg16_pca, V Score=0.6951755117264214\n",
      "K=14,vgg16_pca, Silhouette Score=0.45928534865379333\n",
      "K=14,vgg16_pca, V Score=0.7003061279395105\n",
      "K=2,pge_umap, Silhouette Score=0.565763533115387\n",
      "K=2,pge_umap, V Score=0.4006489881068127\n",
      "K=3,pge_umap, Silhouette Score=0.6451683640480042\n",
      "K=3,pge_umap, V Score=0.4949158273395355\n",
      "K=4,pge_umap, Silhouette Score=0.6799402832984924\n",
      "K=4,pge_umap, V Score=0.6098980544009545\n",
      "K=5,pge_umap, Silhouette Score=0.5701753497123718\n",
      "K=5,pge_umap, V Score=0.7227362356351869\n",
      "K=6,pge_umap, Silhouette Score=0.5678086280822754\n",
      "K=6,pge_umap, V Score=0.7169934694371072\n",
      "K=7,pge_umap, Silhouette Score=0.589539110660553\n",
      "K=7,pge_umap, V Score=0.7024848967926298\n",
      "K=8,pge_umap, Silhouette Score=0.5631580948829651\n",
      "K=8,pge_umap, V Score=0.7313905900989754\n",
      "K=9,pge_umap, Silhouette Score=0.5193361043930054\n",
      "K=9,pge_umap, V Score=0.7313118043500646\n",
      "K=10,pge_umap, Silhouette Score=0.5261255502700806\n",
      "K=10,pge_umap, V Score=0.7203697992276318\n",
      "K=11,pge_umap, Silhouette Score=0.4538740813732147\n",
      "K=11,pge_umap, V Score=0.736903208131828\n",
      "K=12,pge_umap, Silhouette Score=0.4446151852607727\n",
      "K=12,pge_umap, V Score=0.717172759183971\n",
      "K=13,pge_umap, Silhouette Score=0.45927610993385315\n",
      "K=13,pge_umap, V Score=0.6951755117264214\n",
      "K=14,pge_umap, Silhouette Score=0.45928534865379333\n",
      "K=14,pge_umap, V Score=0.7003061279395105\n",
      "K=2,resnet50_umap, Silhouette Score=0.565763533115387\n",
      "K=2,resnet50_umap, V Score=0.4006489881068127\n",
      "K=3,resnet50_umap, Silhouette Score=0.6451683640480042\n",
      "K=3,resnet50_umap, V Score=0.4949158273395355\n",
      "K=4,resnet50_umap, Silhouette Score=0.6799402832984924\n",
      "K=4,resnet50_umap, V Score=0.6098980544009545\n",
      "K=5,resnet50_umap, Silhouette Score=0.5701753497123718\n",
      "K=5,resnet50_umap, V Score=0.7227362356351869\n",
      "K=6,resnet50_umap, Silhouette Score=0.5678086280822754\n",
      "K=6,resnet50_umap, V Score=0.7169934694371072\n",
      "K=7,resnet50_umap, Silhouette Score=0.589539110660553\n",
      "K=7,resnet50_umap, V Score=0.7024848967926298\n",
      "K=8,resnet50_umap, Silhouette Score=0.5631580948829651\n",
      "K=8,resnet50_umap, V Score=0.7313905900989754\n",
      "K=9,resnet50_umap, Silhouette Score=0.5193361043930054\n",
      "K=9,resnet50_umap, V Score=0.7313118043500646\n",
      "K=10,resnet50_umap, Silhouette Score=0.5261255502700806\n",
      "K=10,resnet50_umap, V Score=0.7203697992276318\n",
      "K=11,resnet50_umap, Silhouette Score=0.4538740813732147\n",
      "K=11,resnet50_umap, V Score=0.736903208131828\n",
      "K=12,resnet50_umap, Silhouette Score=0.4446151852607727\n",
      "K=12,resnet50_umap, V Score=0.717172759183971\n",
      "K=13,resnet50_umap, Silhouette Score=0.45927610993385315\n",
      "K=13,resnet50_umap, V Score=0.6951755117264214\n",
      "K=14,resnet50_umap, Silhouette Score=0.45928534865379333\n",
      "K=14,resnet50_umap, V Score=0.7003061279395105\n",
      "K=2,inceptionv3_umap, Silhouette Score=0.565763533115387\n",
      "K=2,inceptionv3_umap, V Score=0.4006489881068127\n",
      "K=3,inceptionv3_umap, Silhouette Score=0.6451683640480042\n",
      "K=3,inceptionv3_umap, V Score=0.4949158273395355\n",
      "K=4,inceptionv3_umap, Silhouette Score=0.6799402832984924\n",
      "K=4,inceptionv3_umap, V Score=0.6098980544009545\n",
      "K=5,inceptionv3_umap, Silhouette Score=0.5701753497123718\n",
      "K=5,inceptionv3_umap, V Score=0.7227362356351869\n",
      "K=6,inceptionv3_umap, Silhouette Score=0.5678086280822754\n",
      "K=6,inceptionv3_umap, V Score=0.7169934694371072\n",
      "K=7,inceptionv3_umap, Silhouette Score=0.589539110660553\n",
      "K=7,inceptionv3_umap, V Score=0.7024848967926298\n",
      "K=8,inceptionv3_umap, Silhouette Score=0.5631580948829651\n",
      "K=8,inceptionv3_umap, V Score=0.7313905900989754\n",
      "K=9,inceptionv3_umap, Silhouette Score=0.5193361043930054\n",
      "K=9,inceptionv3_umap, V Score=0.7313118043500646\n",
      "K=10,inceptionv3_umap, Silhouette Score=0.5261255502700806\n",
      "K=10,inceptionv3_umap, V Score=0.7203697992276318\n",
      "K=11,inceptionv3_umap, Silhouette Score=0.4538740813732147\n",
      "K=11,inceptionv3_umap, V Score=0.736903208131828\n",
      "K=12,inceptionv3_umap, Silhouette Score=0.4446151852607727\n",
      "K=12,inceptionv3_umap, V Score=0.717172759183971\n",
      "K=13,inceptionv3_umap, Silhouette Score=0.45927610993385315\n",
      "K=13,inceptionv3_umap, V Score=0.6951755117264214\n",
      "K=14,inceptionv3_umap, Silhouette Score=0.45928534865379333\n",
      "K=14,inceptionv3_umap, V Score=0.7003061279395105\n",
      "K=2,vgg16_umap, Silhouette Score=0.565763533115387\n",
      "K=2,vgg16_umap, V Score=0.4006489881068127\n",
      "K=3,vgg16_umap, Silhouette Score=0.6451683640480042\n",
      "K=3,vgg16_umap, V Score=0.4949158273395355\n",
      "K=4,vgg16_umap, Silhouette Score=0.6799402832984924\n",
      "K=4,vgg16_umap, V Score=0.6098980544009545\n",
      "K=5,vgg16_umap, Silhouette Score=0.5701753497123718\n",
      "K=5,vgg16_umap, V Score=0.7227362356351869\n",
      "K=6,vgg16_umap, Silhouette Score=0.5678086280822754\n",
      "K=6,vgg16_umap, V Score=0.7169934694371072\n",
      "K=7,vgg16_umap, Silhouette Score=0.589539110660553\n",
      "K=7,vgg16_umap, V Score=0.7024848967926298\n",
      "K=8,vgg16_umap, Silhouette Score=0.5631580948829651\n",
      "K=8,vgg16_umap, V Score=0.7313905900989754\n",
      "K=9,vgg16_umap, Silhouette Score=0.5193361043930054\n",
      "K=9,vgg16_umap, V Score=0.7313118043500646\n",
      "K=10,vgg16_umap, Silhouette Score=0.5261255502700806\n",
      "K=10,vgg16_umap, V Score=0.7203697992276318\n",
      "K=11,vgg16_umap, Silhouette Score=0.4538740813732147\n",
      "K=11,vgg16_umap, V Score=0.736903208131828\n",
      "K=12,vgg16_umap, Silhouette Score=0.4446151852607727\n",
      "K=12,vgg16_umap, V Score=0.717172759183971\n",
      "K=13,vgg16_umap, Silhouette Score=0.45927610993385315\n",
      "K=13,vgg16_umap, V Score=0.6951755117264214\n",
      "K=14,vgg16_umap, Silhouette Score=0.45928534865379333\n",
      "K=14,vgg16_umap, V Score=0.7003061279395105\n"
     ]
    }
   ],
   "source": [
    "#looping through values of k for knn\n",
    "for name, feature_set in datasets.items():\n",
    "    for k in range(2, 15):\n",
    "        kmeans_model_scores = KMeans(n_clusters=k,init='random', max_iter=500, random_state=0)\n",
    "        kmeans_assignment_scores = kmeans_model_scores.fit_predict(test_data)\n",
    "        print(f\"K={k},{name}, Silhouette Score={silhouette_score(test_data, kmeans_assignment_scores)}\")\n",
    "        print(f\"K={k},{name}, V Score={v_measure_score(test_label, kmeans_assignment_scores)}\")"
   ]
  },
  {
   "cell_type": "code",
   "execution_count": 99,
   "metadata": {},
   "outputs": [
    {
     "name": "stdout",
     "output_type": "stream",
     "text": [
      "resolution=0.1,pge_pca, Silhouette Score=0.45928534865379333\n",
      "resolution=0.1,pge_pca, V Score=-1.5469279330398795e-16\n",
      "resolution=0.2,pge_pca, Silhouette Score=0.45928534865379333\n",
      "resolution=0.2,pge_pca, V Score=-1.5469279330398795e-16\n",
      "resolution=0.30000000000000004,pge_pca, Silhouette Score=0.45928534865379333\n",
      "resolution=0.30000000000000004,pge_pca, V Score=-1.5469279330398795e-16\n",
      "resolution=0.4,pge_pca, Silhouette Score=0.45928534865379333\n",
      "resolution=0.4,pge_pca, V Score=-1.5469279330398795e-16\n",
      "resolution=0.5,pge_pca, Silhouette Score=0.45928534865379333\n",
      "resolution=0.5,pge_pca, V Score=-1.5469279330398795e-16\n",
      "resolution=0.6,pge_pca, Silhouette Score=0.45928534865379333\n",
      "resolution=0.6,pge_pca, V Score=-1.5469279330398795e-16\n",
      "resolution=0.7000000000000001,pge_pca, Silhouette Score=0.45928534865379333\n",
      "resolution=0.7000000000000001,pge_pca, V Score=0.4006489881068127\n",
      "resolution=0.8,pge_pca, Silhouette Score=0.45928534865379333\n",
      "resolution=0.8,pge_pca, V Score=0.4006489881068127\n",
      "resolution=0.9,pge_pca, Silhouette Score=0.45928534865379333\n",
      "resolution=0.9,pge_pca, V Score=0.5827041599181643\n",
      "resolution=1.0,pge_pca, Silhouette Score=0.45928534865379333\n",
      "resolution=1.0,pge_pca, V Score=0.5827041599181643\n",
      "resolution=1.1,pge_pca, Silhouette Score=0.45928534865379333\n",
      "resolution=1.1,pge_pca, V Score=0.6611123354541427\n",
      "resolution=1.2000000000000002,pge_pca, Silhouette Score=0.45928534865379333\n",
      "resolution=1.2000000000000002,pge_pca, V Score=0.66880701600411\n",
      "resolution=1.3000000000000003,pge_pca, Silhouette Score=0.45928534865379333\n",
      "resolution=1.3000000000000003,pge_pca, V Score=0.6553538751489485\n",
      "resolution=1.4000000000000001,pge_pca, Silhouette Score=0.45928534865379333\n",
      "resolution=1.4000000000000001,pge_pca, V Score=0.6473127389516854\n",
      "resolution=0.1,resnet50_pca, Silhouette Score=0.45928534865379333\n",
      "resolution=0.1,resnet50_pca, V Score=-1.5469279330398795e-16\n",
      "resolution=0.2,resnet50_pca, Silhouette Score=0.45928534865379333\n",
      "resolution=0.2,resnet50_pca, V Score=-1.5469279330398795e-16\n",
      "resolution=0.30000000000000004,resnet50_pca, Silhouette Score=0.45928534865379333\n",
      "resolution=0.30000000000000004,resnet50_pca, V Score=-1.5469279330398795e-16\n",
      "resolution=0.4,resnet50_pca, Silhouette Score=0.45928534865379333\n",
      "resolution=0.4,resnet50_pca, V Score=-1.5469279330398795e-16\n",
      "resolution=0.5,resnet50_pca, Silhouette Score=0.45928534865379333\n",
      "resolution=0.5,resnet50_pca, V Score=-1.5469279330398795e-16\n",
      "resolution=0.6,resnet50_pca, Silhouette Score=0.45928534865379333\n",
      "resolution=0.6,resnet50_pca, V Score=-1.5469279330398795e-16\n",
      "resolution=0.7000000000000001,resnet50_pca, Silhouette Score=0.45928534865379333\n",
      "resolution=0.7000000000000001,resnet50_pca, V Score=0.4006489881068127\n",
      "resolution=0.8,resnet50_pca, Silhouette Score=0.45928534865379333\n",
      "resolution=0.8,resnet50_pca, V Score=0.4006489881068127\n",
      "resolution=0.9,resnet50_pca, Silhouette Score=0.45928534865379333\n",
      "resolution=0.9,resnet50_pca, V Score=0.5827041599181643\n",
      "resolution=1.0,resnet50_pca, Silhouette Score=0.45928534865379333\n",
      "resolution=1.0,resnet50_pca, V Score=0.5827041599181643\n",
      "resolution=1.1,resnet50_pca, Silhouette Score=0.45928534865379333\n",
      "resolution=1.1,resnet50_pca, V Score=0.6611123354541427\n",
      "resolution=1.2000000000000002,resnet50_pca, Silhouette Score=0.45928534865379333\n",
      "resolution=1.2000000000000002,resnet50_pca, V Score=0.66880701600411\n",
      "resolution=1.3000000000000003,resnet50_pca, Silhouette Score=0.45928534865379333\n",
      "resolution=1.3000000000000003,resnet50_pca, V Score=0.6553538751489485\n",
      "resolution=1.4000000000000001,resnet50_pca, Silhouette Score=0.45928534865379333\n",
      "resolution=1.4000000000000001,resnet50_pca, V Score=0.6473127389516854\n",
      "resolution=0.1,inceptionv3_pca, Silhouette Score=0.45928534865379333\n",
      "resolution=0.1,inceptionv3_pca, V Score=-1.5469279330398795e-16\n",
      "resolution=0.2,inceptionv3_pca, Silhouette Score=0.45928534865379333\n",
      "resolution=0.2,inceptionv3_pca, V Score=-1.5469279330398795e-16\n",
      "resolution=0.30000000000000004,inceptionv3_pca, Silhouette Score=0.45928534865379333\n",
      "resolution=0.30000000000000004,inceptionv3_pca, V Score=-1.5469279330398795e-16\n",
      "resolution=0.4,inceptionv3_pca, Silhouette Score=0.45928534865379333\n",
      "resolution=0.4,inceptionv3_pca, V Score=-1.5469279330398795e-16\n",
      "resolution=0.5,inceptionv3_pca, Silhouette Score=0.45928534865379333\n",
      "resolution=0.5,inceptionv3_pca, V Score=-1.5469279330398795e-16\n",
      "resolution=0.6,inceptionv3_pca, Silhouette Score=0.45928534865379333\n",
      "resolution=0.6,inceptionv3_pca, V Score=-1.5469279330398795e-16\n",
      "resolution=0.7000000000000001,inceptionv3_pca, Silhouette Score=0.45928534865379333\n",
      "resolution=0.7000000000000001,inceptionv3_pca, V Score=0.4006489881068127\n",
      "resolution=0.8,inceptionv3_pca, Silhouette Score=0.45928534865379333\n",
      "resolution=0.8,inceptionv3_pca, V Score=0.4006489881068127\n",
      "resolution=0.9,inceptionv3_pca, Silhouette Score=0.45928534865379333\n",
      "resolution=0.9,inceptionv3_pca, V Score=0.5827041599181643\n",
      "resolution=1.0,inceptionv3_pca, Silhouette Score=0.45928534865379333\n",
      "resolution=1.0,inceptionv3_pca, V Score=0.5827041599181643\n",
      "resolution=1.1,inceptionv3_pca, Silhouette Score=0.45928534865379333\n",
      "resolution=1.1,inceptionv3_pca, V Score=0.6611123354541427\n",
      "resolution=1.2000000000000002,inceptionv3_pca, Silhouette Score=0.45928534865379333\n",
      "resolution=1.2000000000000002,inceptionv3_pca, V Score=0.66880701600411\n",
      "resolution=1.3000000000000003,inceptionv3_pca, Silhouette Score=0.45928534865379333\n",
      "resolution=1.3000000000000003,inceptionv3_pca, V Score=0.6553538751489485\n",
      "resolution=1.4000000000000001,inceptionv3_pca, Silhouette Score=0.45928534865379333\n",
      "resolution=1.4000000000000001,inceptionv3_pca, V Score=0.6473127389516854\n",
      "resolution=0.1,vgg16_pca, Silhouette Score=0.45928534865379333\n",
      "resolution=0.1,vgg16_pca, V Score=-1.5469279330398795e-16\n",
      "resolution=0.2,vgg16_pca, Silhouette Score=0.45928534865379333\n",
      "resolution=0.2,vgg16_pca, V Score=-1.5469279330398795e-16\n",
      "resolution=0.30000000000000004,vgg16_pca, Silhouette Score=0.45928534865379333\n",
      "resolution=0.30000000000000004,vgg16_pca, V Score=-1.5469279330398795e-16\n",
      "resolution=0.4,vgg16_pca, Silhouette Score=0.45928534865379333\n",
      "resolution=0.4,vgg16_pca, V Score=-1.5469279330398795e-16\n",
      "resolution=0.5,vgg16_pca, Silhouette Score=0.45928534865379333\n",
      "resolution=0.5,vgg16_pca, V Score=-1.5469279330398795e-16\n",
      "resolution=0.6,vgg16_pca, Silhouette Score=0.45928534865379333\n",
      "resolution=0.6,vgg16_pca, V Score=-1.5469279330398795e-16\n",
      "resolution=0.7000000000000001,vgg16_pca, Silhouette Score=0.45928534865379333\n",
      "resolution=0.7000000000000001,vgg16_pca, V Score=0.4006489881068127\n",
      "resolution=0.8,vgg16_pca, Silhouette Score=0.45928534865379333\n",
      "resolution=0.8,vgg16_pca, V Score=0.4006489881068127\n",
      "resolution=0.9,vgg16_pca, Silhouette Score=0.45928534865379333\n",
      "resolution=0.9,vgg16_pca, V Score=0.5827041599181643\n",
      "resolution=1.0,vgg16_pca, Silhouette Score=0.45928534865379333\n",
      "resolution=1.0,vgg16_pca, V Score=0.5827041599181643\n",
      "resolution=1.1,vgg16_pca, Silhouette Score=0.45928534865379333\n",
      "resolution=1.1,vgg16_pca, V Score=0.6611123354541427\n",
      "resolution=1.2000000000000002,vgg16_pca, Silhouette Score=0.45928534865379333\n",
      "resolution=1.2000000000000002,vgg16_pca, V Score=0.66880701600411\n",
      "resolution=1.3000000000000003,vgg16_pca, Silhouette Score=0.45928534865379333\n",
      "resolution=1.3000000000000003,vgg16_pca, V Score=0.6553538751489485\n",
      "resolution=1.4000000000000001,vgg16_pca, Silhouette Score=0.45928534865379333\n",
      "resolution=1.4000000000000001,vgg16_pca, V Score=0.6473127389516854\n",
      "resolution=0.1,pge_umap, Silhouette Score=0.45928534865379333\n",
      "resolution=0.1,pge_umap, V Score=-1.5469279330398795e-16\n",
      "resolution=0.2,pge_umap, Silhouette Score=0.45928534865379333\n",
      "resolution=0.2,pge_umap, V Score=-1.5469279330398795e-16\n",
      "resolution=0.30000000000000004,pge_umap, Silhouette Score=0.45928534865379333\n",
      "resolution=0.30000000000000004,pge_umap, V Score=-1.5469279330398795e-16\n",
      "resolution=0.4,pge_umap, Silhouette Score=0.45928534865379333\n",
      "resolution=0.4,pge_umap, V Score=-1.5469279330398795e-16\n",
      "resolution=0.5,pge_umap, Silhouette Score=0.45928534865379333\n",
      "resolution=0.5,pge_umap, V Score=-1.5469279330398795e-16\n",
      "resolution=0.6,pge_umap, Silhouette Score=0.45928534865379333\n",
      "resolution=0.6,pge_umap, V Score=-1.5469279330398795e-16\n",
      "resolution=0.7000000000000001,pge_umap, Silhouette Score=0.45928534865379333\n",
      "resolution=0.7000000000000001,pge_umap, V Score=0.4006489881068127\n",
      "resolution=0.8,pge_umap, Silhouette Score=0.45928534865379333\n",
      "resolution=0.8,pge_umap, V Score=0.4006489881068127\n",
      "resolution=0.9,pge_umap, Silhouette Score=0.45928534865379333\n",
      "resolution=0.9,pge_umap, V Score=0.5827041599181643\n",
      "resolution=1.0,pge_umap, Silhouette Score=0.45928534865379333\n",
      "resolution=1.0,pge_umap, V Score=0.5827041599181643\n",
      "resolution=1.1,pge_umap, Silhouette Score=0.45928534865379333\n",
      "resolution=1.1,pge_umap, V Score=0.6611123354541427\n",
      "resolution=1.2000000000000002,pge_umap, Silhouette Score=0.45928534865379333\n",
      "resolution=1.2000000000000002,pge_umap, V Score=0.66880701600411\n",
      "resolution=1.3000000000000003,pge_umap, Silhouette Score=0.45928534865379333\n",
      "resolution=1.3000000000000003,pge_umap, V Score=0.6553538751489485\n",
      "resolution=1.4000000000000001,pge_umap, Silhouette Score=0.45928534865379333\n",
      "resolution=1.4000000000000001,pge_umap, V Score=0.6473127389516854\n",
      "resolution=0.1,resnet50_umap, Silhouette Score=0.45928534865379333\n",
      "resolution=0.1,resnet50_umap, V Score=-1.5469279330398795e-16\n",
      "resolution=0.2,resnet50_umap, Silhouette Score=0.45928534865379333\n",
      "resolution=0.2,resnet50_umap, V Score=-1.5469279330398795e-16\n",
      "resolution=0.30000000000000004,resnet50_umap, Silhouette Score=0.45928534865379333\n",
      "resolution=0.30000000000000004,resnet50_umap, V Score=-1.5469279330398795e-16\n",
      "resolution=0.4,resnet50_umap, Silhouette Score=0.45928534865379333\n",
      "resolution=0.4,resnet50_umap, V Score=-1.5469279330398795e-16\n",
      "resolution=0.5,resnet50_umap, Silhouette Score=0.45928534865379333\n",
      "resolution=0.5,resnet50_umap, V Score=-1.5469279330398795e-16\n",
      "resolution=0.6,resnet50_umap, Silhouette Score=0.45928534865379333\n",
      "resolution=0.6,resnet50_umap, V Score=-1.5469279330398795e-16\n",
      "resolution=0.7000000000000001,resnet50_umap, Silhouette Score=0.45928534865379333\n",
      "resolution=0.7000000000000001,resnet50_umap, V Score=0.4006489881068127\n",
      "resolution=0.8,resnet50_umap, Silhouette Score=0.45928534865379333\n",
      "resolution=0.8,resnet50_umap, V Score=0.4006489881068127\n",
      "resolution=0.9,resnet50_umap, Silhouette Score=0.45928534865379333\n",
      "resolution=0.9,resnet50_umap, V Score=0.5827041599181643\n",
      "resolution=1.0,resnet50_umap, Silhouette Score=0.45928534865379333\n",
      "resolution=1.0,resnet50_umap, V Score=0.5827041599181643\n",
      "resolution=1.1,resnet50_umap, Silhouette Score=0.45928534865379333\n",
      "resolution=1.1,resnet50_umap, V Score=0.6611123354541427\n",
      "resolution=1.2000000000000002,resnet50_umap, Silhouette Score=0.45928534865379333\n",
      "resolution=1.2000000000000002,resnet50_umap, V Score=0.66880701600411\n",
      "resolution=1.3000000000000003,resnet50_umap, Silhouette Score=0.45928534865379333\n",
      "resolution=1.3000000000000003,resnet50_umap, V Score=0.6553538751489485\n",
      "resolution=1.4000000000000001,resnet50_umap, Silhouette Score=0.45928534865379333\n",
      "resolution=1.4000000000000001,resnet50_umap, V Score=0.6473127389516854\n",
      "resolution=0.1,inceptionv3_umap, Silhouette Score=0.45928534865379333\n",
      "resolution=0.1,inceptionv3_umap, V Score=-1.5469279330398795e-16\n",
      "resolution=0.2,inceptionv3_umap, Silhouette Score=0.45928534865379333\n",
      "resolution=0.2,inceptionv3_umap, V Score=-1.5469279330398795e-16\n",
      "resolution=0.30000000000000004,inceptionv3_umap, Silhouette Score=0.45928534865379333\n",
      "resolution=0.30000000000000004,inceptionv3_umap, V Score=-1.5469279330398795e-16\n",
      "resolution=0.4,inceptionv3_umap, Silhouette Score=0.45928534865379333\n",
      "resolution=0.4,inceptionv3_umap, V Score=-1.5469279330398795e-16\n",
      "resolution=0.5,inceptionv3_umap, Silhouette Score=0.45928534865379333\n",
      "resolution=0.5,inceptionv3_umap, V Score=-1.5469279330398795e-16\n",
      "resolution=0.6,inceptionv3_umap, Silhouette Score=0.45928534865379333\n",
      "resolution=0.6,inceptionv3_umap, V Score=-1.5469279330398795e-16\n",
      "resolution=0.7000000000000001,inceptionv3_umap, Silhouette Score=0.45928534865379333\n",
      "resolution=0.7000000000000001,inceptionv3_umap, V Score=0.4006489881068127\n",
      "resolution=0.8,inceptionv3_umap, Silhouette Score=0.45928534865379333\n",
      "resolution=0.8,inceptionv3_umap, V Score=0.4006489881068127\n",
      "resolution=0.9,inceptionv3_umap, Silhouette Score=0.45928534865379333\n",
      "resolution=0.9,inceptionv3_umap, V Score=0.5827041599181643\n",
      "resolution=1.0,inceptionv3_umap, Silhouette Score=0.45928534865379333\n",
      "resolution=1.0,inceptionv3_umap, V Score=0.5827041599181643\n",
      "resolution=1.1,inceptionv3_umap, Silhouette Score=0.45928534865379333\n",
      "resolution=1.1,inceptionv3_umap, V Score=0.6611123354541427\n",
      "resolution=1.2000000000000002,inceptionv3_umap, Silhouette Score=0.45928534865379333\n",
      "resolution=1.2000000000000002,inceptionv3_umap, V Score=0.66880701600411\n",
      "resolution=1.3000000000000003,inceptionv3_umap, Silhouette Score=0.45928534865379333\n",
      "resolution=1.3000000000000003,inceptionv3_umap, V Score=0.6553538751489485\n",
      "resolution=1.4000000000000001,inceptionv3_umap, Silhouette Score=0.45928534865379333\n",
      "resolution=1.4000000000000001,inceptionv3_umap, V Score=0.6473127389516854\n",
      "resolution=0.1,vgg16_umap, Silhouette Score=0.45928534865379333\n",
      "resolution=0.1,vgg16_umap, V Score=-1.5469279330398795e-16\n",
      "resolution=0.2,vgg16_umap, Silhouette Score=0.45928534865379333\n",
      "resolution=0.2,vgg16_umap, V Score=-1.5469279330398795e-16\n",
      "resolution=0.30000000000000004,vgg16_umap, Silhouette Score=0.45928534865379333\n",
      "resolution=0.30000000000000004,vgg16_umap, V Score=-1.5469279330398795e-16\n",
      "resolution=0.4,vgg16_umap, Silhouette Score=0.45928534865379333\n",
      "resolution=0.4,vgg16_umap, V Score=-1.5469279330398795e-16\n",
      "resolution=0.5,vgg16_umap, Silhouette Score=0.45928534865379333\n",
      "resolution=0.5,vgg16_umap, V Score=-1.5469279330398795e-16\n",
      "resolution=0.6,vgg16_umap, Silhouette Score=0.45928534865379333\n",
      "resolution=0.6,vgg16_umap, V Score=-1.5469279330398795e-16\n",
      "resolution=0.7000000000000001,vgg16_umap, Silhouette Score=0.45928534865379333\n",
      "resolution=0.7000000000000001,vgg16_umap, V Score=0.4006489881068127\n",
      "resolution=0.8,vgg16_umap, Silhouette Score=0.45928534865379333\n",
      "resolution=0.8,vgg16_umap, V Score=0.4006489881068127\n",
      "resolution=0.9,vgg16_umap, Silhouette Score=0.45928534865379333\n",
      "resolution=0.9,vgg16_umap, V Score=0.5827041599181643\n",
      "resolution=1.0,vgg16_umap, Silhouette Score=0.45928534865379333\n",
      "resolution=1.0,vgg16_umap, V Score=0.5827041599181643\n",
      "resolution=1.1,vgg16_umap, Silhouette Score=0.45928534865379333\n",
      "resolution=1.1,vgg16_umap, V Score=0.6611123354541427\n",
      "resolution=1.2000000000000002,vgg16_umap, Silhouette Score=0.45928534865379333\n",
      "resolution=1.2000000000000002,vgg16_umap, V Score=0.66880701600411\n",
      "resolution=1.3000000000000003,vgg16_umap, Silhouette Score=0.45928534865379333\n",
      "resolution=1.3000000000000003,vgg16_umap, V Score=0.6553538751489485\n",
      "resolution=1.4000000000000001,vgg16_umap, Silhouette Score=0.45928534865379333\n",
      "resolution=1.4000000000000001,vgg16_umap, V Score=0.6473127389516854\n"
     ]
    }
   ],
   "source": [
    "from scipy.sparse import csr_matrix\n",
    "#looping through values of resolution for louvain\n",
    "for name, feature_set in datasets.items():\n",
    "    for r in np.arange(0.1,1.5,0.1):\n",
    "        adjacency_matrix_scores = csr_matrix(MinMaxScaler().fit_transform(-pairwise_distances(test_data)))\n",
    "        louvain_model_scores = Louvain(resolution=r, modularity='Newman', random_state=0)\n",
    "        louvain_assignment_scores = louvain_model_scores.fit_transform(adjacency_matrix_scores)\n",
    "        print(f\"resolution={r},{name}, Silhouette Score={silhouette_score(test_data, kmeans_assignment_scores)}\")\n",
    "        print(f\"resolution={r},{name}, V Score={v_measure_score(test_label, louvain_assignment_scores)}\")\n",
    "       \n"
   ]
  },
  {
   "cell_type": "code",
   "execution_count": 100,
   "metadata": {},
   "outputs": [
    {
     "data": {
      "image/png": "[encoded data removed]",
      "text/plain": [
       "<Figure size 720x432 with 1 Axes>"
      ]
     },
     "metadata": {
      "needs_background": "light"
     },
     "output_type": "display_data"
    }
   ],
   "source": [
    "import matplotlib.pyplot as plt\n",
    "import numpy as np\n",
    "\n",
    "# Define the resolution values\n",
    "resolutions = np.array([0.1, 0.2, 0.3, 0.4, 0.5, 0.6, 0.7, 0.8, 0.9, 1.0, 1.1, 1.2, 1.3, 1.4])\n",
    "\n",
    "# Silhouette Score values (assuming these are the same for all datasets, replace as necessary)\n",
    "silhouette_scores = np.array([0.45928534865379333]*len(resolutions))\n",
    "\n",
    "# V Score values for different datasets (replace with actual data as needed)\n",
    "v_scores_pge_pca = np.array([-1.5469279330398795e-16, -1.5469279330398795e-16, -1.5469279330398795e-16, \n",
    "                             -1.5469279330398795e-16, -1.5469279330398795e-16, -1.5469279330398795e-16, \n",
    "                             0.4006489881068127, 0.4006489881068127, 0.5827041599181643, \n",
    "                             0.5827041599181643, 0.6611123354541427, 0.66880701600411, \n",
    "                             0.6553538751489485, 0.6473127389516854])\n",
    "\n",
    "# Plotting both Silhouette Score and V Score on the same graph\n",
    "plt.figure(figsize=(10, 6))\n",
    "\n",
    "# Plot Silhouette Score\n",
    "plt.plot(resolutions, silhouette_scores, label=\"Silhouette Score\", color='b', marker='o')\n",
    "\n",
    "# Plot V Score for the pge_pca dataset\n",
    "plt.plot(resolutions, v_scores_pge_pca, label=\"V Score (PGE PCA)\", color='r', marker='x')\n",
    "\n",
    "# Customize the graph\n",
    "plt.title('Silhouette Score and V Score with respect to Resolution')\n",
    "plt.xlabel('Resolution')\n",
    "plt.ylabel('Score')\n",
    "plt.legend()\n",
    "\n",
    "# Show the plot\n",
    "plt.grid(True)\n",
    "plt.show()\n"
   ]
  },
  {
   "cell_type": "code",
   "execution_count": 101,
   "metadata": {},
   "outputs": [],
   "source": [
    "for name, feature_set in datasets.items():\n",
    "    #clustering algorithms\n",
    "    kmeans_model = KMeans(n_clusters=3,init='random', max_iter=500, random_state=0)\n",
    "    kmeans_assignment = kmeans_model.fit_predict(test_data)\n",
    "    \n",
    "    adjacency_matrix = csr_matrix(MinMaxScaler().fit_transform(-pairwise_distances(test_data)))\n",
    "    louvain_model = Louvain(resolution=0.9, modularity='Newman', random_state=0)\n",
    "    louvain_assignment = louvain_model.fit_transform(adjacency_matrix)"
   ]
  },
  {
   "cell_type": "code",
   "execution_count": 102,
   "metadata": {},
   "outputs": [
    {
     "name": "stdout",
     "output_type": "stream",
     "text": [
      "0.64516836\n",
      "0.64516836\n",
      "0.64516836\n",
      "0.64516836\n",
      "0.64516836\n",
      "0.64516836\n",
      "0.64516836\n",
      "0.64516836\n"
     ]
    }
   ],
   "source": [
    "for name, feature_set in datasets.items():\n",
    "    #silhouette and V-measure scores\n",
    "    kmeans_silhouette = silhouette_score(test_data, kmeans_assignment)\n",
    "    louvain_silhouette = silhouette_score(test_data, louvain_assignment)\n",
    "    kmeans_v_measure = v_measure_score(test_label, kmeans_assignment)\n",
    "    louvain_v_measure = v_measure_score(test_label, louvain_assignment)\n",
    "    print(kmeans_silhouette)\n",
    "    \n",
    "    # Storing results\n",
    "    results[name] = {\n",
    "        'KMeans': {\n",
    "            'Silhouette': kmeans_silhouette,\n",
    "            'V-measure': kmeans_v_measure\n",
    "        },\n",
    "        'Louvain': {\n",
    "            'Silhouette': louvain_silhouette,\n",
    "            'V-measure': louvain_v_measure\n",
    "        }\n",
    "    }"
   ]
  },
  {
   "cell_type": "code",
   "execution_count": null,
   "metadata": {},
   "outputs": [],
   "source": []
  },
  {
   "cell_type": "code",
   "execution_count": 103,
   "metadata": {},
   "outputs": [
    {
     "data": {
      "image/png": "[encoded data removed]",
      "text/plain": [
       "<Figure size 1440x360 with 2 Axes>"
      ]
     },
     "metadata": {
      "needs_background": "light"
     },
     "output_type": "display_data"
    },
    {
     "data": {
      "image/png": "[encoded data removed]",
      "text/plain": [
       "<Figure size 1440x360 with 2 Axes>"
      ]
     },
     "metadata": {
      "needs_background": "light"
     },
     "output_type": "display_data"
    },
    {
     "data": {
      "image/png": "[encoded data removed]",
      "text/plain": [
       "<Figure size 1440x360 with 2 Axes>"
      ]
     },
     "metadata": {
      "needs_background": "light"
     },
     "output_type": "display_data"
    },
    {
     "data": {
      "image/png": "[encoded data removed]",
      "text/plain": [
       "<Figure size 1440x360 with 2 Axes>"
      ]
     },
     "metadata": {
      "needs_background": "light"
     },
     "output_type": "display_data"
    },
    {
     "data": {
      "image/png": "[encoded data removed]",
      "text/plain": [
       "<Figure size 1440x360 with 2 Axes>"
      ]
     },
     "metadata": {
      "needs_background": "light"
     },
     "output_type": "display_data"
    },
    {
     "data": {
      "image/png": "[encoded data removed]",
      "text/plain": [
       "<Figure size 1440x360 with 2 Axes>"
      ]
     },
     "metadata": {
      "needs_background": "light"
     },
     "output_type": "display_data"
    },
    {
     "data": {
      "image/png": "[encoded data removed]",
      "text/plain": [
       "<Figure size 1440x360 with 2 Axes>"
      ]
     },
     "metadata": {
      "needs_background": "light"
     },
     "output_type": "display_data"
    },
    {
     "data": {
      "image/png": "[encoded data removed]",
      "text/plain": [
       "<Figure size 1440x360 with 2 Axes>"
      ]
     },
     "metadata": {
      "needs_background": "light"
     },
     "output_type": "display_data"
    }
   ],
   "source": [
    "for name, feature_set in datasets.items():\n",
    "    # Plotting clustering composition\n",
    "    fig, axes = plt.subplots(1, 2, figsize=(20, 5))\n",
    "    \n",
    "    for i, (method, assignment) in enumerate([('KMeans', kmeans_assignment), ('Louvain', louvain_assignment)]):\n",
    "        cluster_df = pd.DataFrame({'clusterID': assignment, 'type': test_label})\n",
    "        label_proportion_df = cluster_df.groupby(['clusterID']).apply(\n",
    "            lambda x: x['type'].value_counts(normalize=True)\n",
    "        ).unstack(fill_value=0)\n",
    "        \n",
    "        label_proportion_df.plot.bar(stacked=True, ax=axes[i])\n",
    "        axes[i].set_title(f'{name} Cluster composition by {method}')\n",
    "        axes[i].set_ylabel('Percentage of tissue type')\n",
    "    \n",
    "    plt.show()\n"
   ]
  },
  {
   "cell_type": "code",
   "execution_count": 104,
   "metadata": {},
   "outputs": [
    {
     "name": "stdout",
     "output_type": "stream",
     "text": [
      "                                                             KMeans  \\\n",
      "pge_pca           {'Silhouette': 0.64516836, 'V-measure': 0.4949...   \n",
      "resnet50_pca      {'Silhouette': 0.64516836, 'V-measure': 0.4949...   \n",
      "inceptionv3_pca   {'Silhouette': 0.64516836, 'V-measure': 0.4949...   \n",
      "vgg16_pca         {'Silhouette': 0.64516836, 'V-measure': 0.4949...   \n",
      "pge_umap          {'Silhouette': 0.64516836, 'V-measure': 0.4949...   \n",
      "resnet50_umap     {'Silhouette': 0.64516836, 'V-measure': 0.4949...   \n",
      "inceptionv3_umap  {'Silhouette': 0.64516836, 'V-measure': 0.4949...   \n",
      "vgg16_umap        {'Silhouette': 0.64516836, 'V-measure': 0.4949...   \n",
      "\n",
      "                                                            Louvain  \n",
      "pge_pca           {'Silhouette': 0.34560424, 'V-measure': 0.5827...  \n",
      "resnet50_pca      {'Silhouette': 0.34560424, 'V-measure': 0.5827...  \n",
      "inceptionv3_pca   {'Silhouette': 0.34560424, 'V-measure': 0.5827...  \n",
      "vgg16_pca         {'Silhouette': 0.34560424, 'V-measure': 0.5827...  \n",
      "pge_umap          {'Silhouette': 0.34560424, 'V-measure': 0.5827...  \n",
      "resnet50_umap     {'Silhouette': 0.34560424, 'V-measure': 0.5827...  \n",
      "inceptionv3_umap  {'Silhouette': 0.34560424, 'V-measure': 0.5827...  \n",
      "vgg16_umap        {'Silhouette': 0.34560424, 'V-measure': 0.5827...  \n"
     ]
    }
   ],
   "source": [
    "#summary of results\n",
    "result_df = pd.DataFrame.from_dict({\n",
    "    dataset: {method: metrics for method, metrics in results.items()}\n",
    "    for dataset, results in results.items()\n",
    "}, orient='index')\n",
    "print(result_df)\n"
   ]
  },
  {
   "cell_type": "code",
   "execution_count": 105,
   "metadata": {},
   "outputs": [],
   "source": [
    "for name, feature_set in datasets.items():\n",
    "    #clustering algorithms\n",
    "    kmeans_model = KMeans(n_clusters=3,init='random', max_iter=500, random_state=0)\n",
    "    kmeans_assignment = kmeans_model.fit_predict(test_data)\n",
    "    kmeans_silhouette = silhouette_score(test_data, kmeans_assignment)\n",
    "    kmeans_v_measure = v_measure_score(test_label, kmeans_assignment)\n",
    "    \n",
    "    \n",
    "    adjacency_matrix = csr_matrix(MinMaxScaler().fit_transform(-pairwise_distances(test_data)))\n",
    "    louvain_model = Louvain(resolution=0.9, modularity='Newman', random_state=0)\n",
    "    louvain_assignment = louvain_model.fit_transform(adjacency_matrix)\n",
    "    louvain_silhouette = silhouette_score(test_data, louvain_assignment)\n",
    "    louvain_v_measure = v_measure_score(test_label, louvain_assignment)\n",
    "    results[name] = {\n",
    "        'KMeans': {\n",
    "            'Silhouette': kmeans_silhouette,\n",
    "            'V-measure': kmeans_v_measure\n",
    "        },\n",
    "        'Louvain': {\n",
    "            'Silhouette': louvain_silhouette,\n",
    "            'V-measure': louvain_v_measure\n",
    "        }\n",
    "    }"
   ]
  },
  {
   "cell_type": "code",
   "execution_count": null,
   "metadata": {},
   "outputs": [],
   "source": []
  },
  {
   "cell_type": "code",
   "execution_count": 106,
   "metadata": {},
   "outputs": [
    {
     "name": "stdout",
     "output_type": "stream",
     "text": [
      "                                                             KMeans  \\\n",
      "pge_pca           {'Silhouette': 0.64516836, 'V-measure': 0.4949...   \n",
      "resnet50_pca      {'Silhouette': 0.64516836, 'V-measure': 0.4949...   \n",
      "inceptionv3_pca   {'Silhouette': 0.64516836, 'V-measure': 0.4949...   \n",
      "vgg16_pca         {'Silhouette': 0.64516836, 'V-measure': 0.4949...   \n",
      "pge_umap          {'Silhouette': 0.64516836, 'V-measure': 0.4949...   \n",
      "resnet50_umap     {'Silhouette': 0.64516836, 'V-measure': 0.4949...   \n",
      "inceptionv3_umap  {'Silhouette': 0.64516836, 'V-measure': 0.4949...   \n",
      "vgg16_umap        {'Silhouette': 0.64516836, 'V-measure': 0.4949...   \n",
      "\n",
      "                                                            Louvain  \n",
      "pge_pca           {'Silhouette': 0.34560424, 'V-measure': 0.5827...  \n",
      "resnet50_pca      {'Silhouette': 0.34560424, 'V-measure': 0.5827...  \n",
      "inceptionv3_pca   {'Silhouette': 0.34560424, 'V-measure': 0.5827...  \n",
      "vgg16_pca         {'Silhouette': 0.34560424, 'V-measure': 0.5827...  \n",
      "pge_umap          {'Silhouette': 0.34560424, 'V-measure': 0.5827...  \n",
      "resnet50_umap     {'Silhouette': 0.34560424, 'V-measure': 0.5827...  \n",
      "inceptionv3_umap  {'Silhouette': 0.34560424, 'V-measure': 0.5827...  \n",
      "vgg16_umap        {'Silhouette': 0.34560424, 'V-measure': 0.5827...  \n"
     ]
    }
   ],
   "source": [
    "#summary of results\n",
    "result_df = pd.DataFrame.from_dict({\n",
    "    dataset: {method: metrics for method, metrics in results.items()}\n",
    "    for dataset, results in results.items()\n",
    "}, orient='index')\n",
    "print(result_df)"
   ]
  },
  {
   "cell_type": "code",
   "execution_count": null,
   "metadata": {},
   "outputs": [],
   "source": []
  }
 ],
 "metadata": {
  "kernelspec": {
   "display_name": "base",
   "language": "python",
   "name": "python3"
  },
  "language_info": {
   "codemirror_mode": {
    "name": "ipython",
    "version": 3
   },
   "file_extension": ".py",
   "mimetype": "text/x-python",
   "name": "python",
   "nbconvert_exporter": "python",
   "pygments_lexer": "ipython3",
   "version": "3.7.6"
  }
 },
 "nbformat": 4,
 "nbformat_minor": 4
}
